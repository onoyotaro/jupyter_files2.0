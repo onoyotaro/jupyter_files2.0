{
 "cells": [
  {
   "cell_type": "code",
   "execution_count": 2,
   "metadata": {},
   "outputs": [],
   "source": [
    "import time\n",
    "\n",
    "import pandas\n",
    "import argparse\n",
    "\n",
    "import chainer\n",
    "from chainer import cuda, Function, report, training, utils, Variable\n",
    "from chainer import datasets, iterators, optimizers, serializers\n",
    "from chainer import Link, Chain, ChainList\n",
    "import chainer.functions as F\n",
    "import chainer.links as L\n",
    "from chainer import training\n",
    "from chainer.training import extensions\n",
    "from chainer.datasets import tuple_dataset\n",
    "from chainer.dataset import convert, concat_examples\n",
    "\n",
    "import numpy \n",
    "import os\n",
    "import easy_chainer\n",
    "import glob"
   ]
  },
  {
   "cell_type": "code",
   "execution_count": 2,
   "metadata": {},
   "outputs": [],
   "source": []
  },
  {
   "cell_type": "code",
   "execution_count": 3,
   "metadata": {},
   "outputs": [
    {
     "data": {
      "text/plain": [
       "<module 'easy_chainer' from 'C:\\\\Users\\\\Owner\\\\Desktop\\\\LAB\\\\LAB 2018\\\\jupyter File\\\\easy_chainer.py'>"
      ]
     },
     "execution_count": 3,
     "metadata": {},
     "output_type": "execute_result"
    }
   ],
   "source": [
    "easy_chainer"
   ]
  },
  {
   "cell_type": "code",
   "execution_count": 6,
   "metadata": {},
   "outputs": [],
   "source": [
    "a_list = sorted(glob.glob(\"C:/Users/Owner/Desktop/kon/CP*B*\"))\n",
    "c_list = sorted(glob.glob(\"C:/Users/Owner/Desktop/kon/CP*F*\"))\n",
    "\n",
    "#e_list = sorted(glob.glob(\"C:/Users/Owner/Desktop/hirano/cashmere*\"))\n"
   ]
  },
  {
   "cell_type": "code",
   "execution_count": 7,
   "metadata": {},
   "outputs": [
    {
     "data": {
      "text/plain": [
       "['C:/Users/Owner/Desktop/kon\\\\CP01F1.txt',\n",
       " 'C:/Users/Owner/Desktop/kon\\\\CP01F2.txt',\n",
       " 'C:/Users/Owner/Desktop/kon\\\\CP01F3.txt',\n",
       " 'C:/Users/Owner/Desktop/kon\\\\CP01F4.txt',\n",
       " 'C:/Users/Owner/Desktop/kon\\\\CP01F5.txt',\n",
       " 'C:/Users/Owner/Desktop/kon\\\\CP02F1.txt',\n",
       " 'C:/Users/Owner/Desktop/kon\\\\CP02F2.txt',\n",
       " 'C:/Users/Owner/Desktop/kon\\\\CP02F3.txt',\n",
       " 'C:/Users/Owner/Desktop/kon\\\\CP02F4.txt',\n",
       " 'C:/Users/Owner/Desktop/kon\\\\CP02F5.txt',\n",
       " 'C:/Users/Owner/Desktop/kon\\\\CP03F2.txt',\n",
       " 'C:/Users/Owner/Desktop/kon\\\\CP03F3.txt',\n",
       " 'C:/Users/Owner/Desktop/kon\\\\CP03F4.txt',\n",
       " 'C:/Users/Owner/Desktop/kon\\\\CP03F5.txt',\n",
       " 'C:/Users/Owner/Desktop/kon\\\\CP03F6.txt',\n",
       " 'C:/Users/Owner/Desktop/kon\\\\CP04F1.txt',\n",
       " 'C:/Users/Owner/Desktop/kon\\\\CP04F2.txt',\n",
       " 'C:/Users/Owner/Desktop/kon\\\\CP04F3.txt',\n",
       " 'C:/Users/Owner/Desktop/kon\\\\CP04F4.txt',\n",
       " 'C:/Users/Owner/Desktop/kon\\\\CP04F5.txt',\n",
       " 'C:/Users/Owner/Desktop/kon\\\\CP05F1.txt',\n",
       " 'C:/Users/Owner/Desktop/kon\\\\CP05F2.txt',\n",
       " 'C:/Users/Owner/Desktop/kon\\\\CP05F3.txt',\n",
       " 'C:/Users/Owner/Desktop/kon\\\\CP05F4.txt',\n",
       " 'C:/Users/Owner/Desktop/kon\\\\CP05F5.txt',\n",
       " 'C:/Users/Owner/Desktop/kon\\\\CP06F1.txt',\n",
       " 'C:/Users/Owner/Desktop/kon\\\\CP06F2.txt',\n",
       " 'C:/Users/Owner/Desktop/kon\\\\CP06F3.txt',\n",
       " 'C:/Users/Owner/Desktop/kon\\\\CP06F4.txt',\n",
       " 'C:/Users/Owner/Desktop/kon\\\\CP06F5.txt',\n",
       " 'C:/Users/Owner/Desktop/kon\\\\CP07F1.txt',\n",
       " 'C:/Users/Owner/Desktop/kon\\\\CP07F2.txt',\n",
       " 'C:/Users/Owner/Desktop/kon\\\\CP07F3.txt',\n",
       " 'C:/Users/Owner/Desktop/kon\\\\CP07F4.txt',\n",
       " 'C:/Users/Owner/Desktop/kon\\\\CP07F5.txt',\n",
       " 'C:/Users/Owner/Desktop/kon\\\\CP08F1.txt',\n",
       " 'C:/Users/Owner/Desktop/kon\\\\CP08F2.txt',\n",
       " 'C:/Users/Owner/Desktop/kon\\\\CP08F3.txt',\n",
       " 'C:/Users/Owner/Desktop/kon\\\\CP08F4.txt',\n",
       " 'C:/Users/Owner/Desktop/kon\\\\CP08F5.txt',\n",
       " 'C:/Users/Owner/Desktop/kon\\\\CP09F1.txt',\n",
       " 'C:/Users/Owner/Desktop/kon\\\\CP09F2.txt',\n",
       " 'C:/Users/Owner/Desktop/kon\\\\CP09F3.txt',\n",
       " 'C:/Users/Owner/Desktop/kon\\\\CP09F4.txt',\n",
       " 'C:/Users/Owner/Desktop/kon\\\\CP09F5.txt',\n",
       " 'C:/Users/Owner/Desktop/kon\\\\CP100F1.txt',\n",
       " 'C:/Users/Owner/Desktop/kon\\\\CP100F2.txt',\n",
       " 'C:/Users/Owner/Desktop/kon\\\\CP100F3.txt',\n",
       " 'C:/Users/Owner/Desktop/kon\\\\CP100F4.txt',\n",
       " 'C:/Users/Owner/Desktop/kon\\\\CP100F5.txt',\n",
       " 'C:/Users/Owner/Desktop/kon\\\\CP101F1.txt',\n",
       " 'C:/Users/Owner/Desktop/kon\\\\CP101F2.txt',\n",
       " 'C:/Users/Owner/Desktop/kon\\\\CP101F3.txt',\n",
       " 'C:/Users/Owner/Desktop/kon\\\\CP101F4.txt',\n",
       " 'C:/Users/Owner/Desktop/kon\\\\CP101F5.txt',\n",
       " 'C:/Users/Owner/Desktop/kon\\\\CP102F1.txt',\n",
       " 'C:/Users/Owner/Desktop/kon\\\\CP102F2.txt',\n",
       " 'C:/Users/Owner/Desktop/kon\\\\CP102F3.txt',\n",
       " 'C:/Users/Owner/Desktop/kon\\\\CP102F4.txt',\n",
       " 'C:/Users/Owner/Desktop/kon\\\\CP102F5.txt',\n",
       " 'C:/Users/Owner/Desktop/kon\\\\CP103F1.txt',\n",
       " 'C:/Users/Owner/Desktop/kon\\\\CP103F2.txt',\n",
       " 'C:/Users/Owner/Desktop/kon\\\\CP103F3.txt',\n",
       " 'C:/Users/Owner/Desktop/kon\\\\CP103F4.txt',\n",
       " 'C:/Users/Owner/Desktop/kon\\\\CP103F5.txt',\n",
       " 'C:/Users/Owner/Desktop/kon\\\\CP104F1.txt',\n",
       " 'C:/Users/Owner/Desktop/kon\\\\CP104F2.txt',\n",
       " 'C:/Users/Owner/Desktop/kon\\\\CP104F3.txt',\n",
       " 'C:/Users/Owner/Desktop/kon\\\\CP104F4.txt',\n",
       " 'C:/Users/Owner/Desktop/kon\\\\CP104F5.txt',\n",
       " 'C:/Users/Owner/Desktop/kon\\\\CP105F1.txt',\n",
       " 'C:/Users/Owner/Desktop/kon\\\\CP105F2.txt',\n",
       " 'C:/Users/Owner/Desktop/kon\\\\CP105F3.txt',\n",
       " 'C:/Users/Owner/Desktop/kon\\\\CP105F4.txt',\n",
       " 'C:/Users/Owner/Desktop/kon\\\\CP105F5.txt',\n",
       " 'C:/Users/Owner/Desktop/kon\\\\CP106F1.txt',\n",
       " 'C:/Users/Owner/Desktop/kon\\\\CP106F2.txt',\n",
       " 'C:/Users/Owner/Desktop/kon\\\\CP106F3.txt',\n",
       " 'C:/Users/Owner/Desktop/kon\\\\CP106F4.txt',\n",
       " 'C:/Users/Owner/Desktop/kon\\\\CP106F5.txt',\n",
       " 'C:/Users/Owner/Desktop/kon\\\\CP107F1.txt',\n",
       " 'C:/Users/Owner/Desktop/kon\\\\CP107F2.txt',\n",
       " 'C:/Users/Owner/Desktop/kon\\\\CP107F3.txt',\n",
       " 'C:/Users/Owner/Desktop/kon\\\\CP107F4.txt',\n",
       " 'C:/Users/Owner/Desktop/kon\\\\CP107F5.txt',\n",
       " 'C:/Users/Owner/Desktop/kon\\\\CP108F1.txt',\n",
       " 'C:/Users/Owner/Desktop/kon\\\\CP108F2.txt',\n",
       " 'C:/Users/Owner/Desktop/kon\\\\CP108F3.txt',\n",
       " 'C:/Users/Owner/Desktop/kon\\\\CP108F4.txt',\n",
       " 'C:/Users/Owner/Desktop/kon\\\\CP108F5.txt',\n",
       " 'C:/Users/Owner/Desktop/kon\\\\CP109F1.txt',\n",
       " 'C:/Users/Owner/Desktop/kon\\\\CP109F2.txt',\n",
       " 'C:/Users/Owner/Desktop/kon\\\\CP109F3.txt',\n",
       " 'C:/Users/Owner/Desktop/kon\\\\CP109F4.txt',\n",
       " 'C:/Users/Owner/Desktop/kon\\\\CP109F5.txt',\n",
       " 'C:/Users/Owner/Desktop/kon\\\\CP10F1.txt',\n",
       " 'C:/Users/Owner/Desktop/kon\\\\CP10F2.txt',\n",
       " 'C:/Users/Owner/Desktop/kon\\\\CP10F3.txt',\n",
       " 'C:/Users/Owner/Desktop/kon\\\\CP10F4.txt',\n",
       " 'C:/Users/Owner/Desktop/kon\\\\CP10F5.txt',\n",
       " 'C:/Users/Owner/Desktop/kon\\\\CP110F1.txt',\n",
       " 'C:/Users/Owner/Desktop/kon\\\\CP110F2.txt',\n",
       " 'C:/Users/Owner/Desktop/kon\\\\CP110F3.txt',\n",
       " 'C:/Users/Owner/Desktop/kon\\\\CP110F4.txt',\n",
       " 'C:/Users/Owner/Desktop/kon\\\\CP110F5.txt',\n",
       " 'C:/Users/Owner/Desktop/kon\\\\CP111F1.txt',\n",
       " 'C:/Users/Owner/Desktop/kon\\\\CP111F2.txt',\n",
       " 'C:/Users/Owner/Desktop/kon\\\\CP111F3.txt',\n",
       " 'C:/Users/Owner/Desktop/kon\\\\CP111F4.txt',\n",
       " 'C:/Users/Owner/Desktop/kon\\\\CP111F5.txt',\n",
       " 'C:/Users/Owner/Desktop/kon\\\\CP112F1.txt',\n",
       " 'C:/Users/Owner/Desktop/kon\\\\CP112F2.txt',\n",
       " 'C:/Users/Owner/Desktop/kon\\\\CP112F3.txt',\n",
       " 'C:/Users/Owner/Desktop/kon\\\\CP112F4.txt',\n",
       " 'C:/Users/Owner/Desktop/kon\\\\CP112F5.txt',\n",
       " 'C:/Users/Owner/Desktop/kon\\\\CP113F1.txt',\n",
       " 'C:/Users/Owner/Desktop/kon\\\\CP113F2.txt',\n",
       " 'C:/Users/Owner/Desktop/kon\\\\CP113F3.txt',\n",
       " 'C:/Users/Owner/Desktop/kon\\\\CP113F4.txt',\n",
       " 'C:/Users/Owner/Desktop/kon\\\\CP113F5.txt',\n",
       " 'C:/Users/Owner/Desktop/kon\\\\CP114F1.txt',\n",
       " 'C:/Users/Owner/Desktop/kon\\\\CP114F2.txt',\n",
       " 'C:/Users/Owner/Desktop/kon\\\\CP114F3.txt',\n",
       " 'C:/Users/Owner/Desktop/kon\\\\CP114F4.txt',\n",
       " 'C:/Users/Owner/Desktop/kon\\\\CP114F5.txt',\n",
       " 'C:/Users/Owner/Desktop/kon\\\\CP115F1.txt',\n",
       " 'C:/Users/Owner/Desktop/kon\\\\CP115F2.txt',\n",
       " 'C:/Users/Owner/Desktop/kon\\\\CP115F3.txt',\n",
       " 'C:/Users/Owner/Desktop/kon\\\\CP115F4.txt',\n",
       " 'C:/Users/Owner/Desktop/kon\\\\CP115F5.txt',\n",
       " 'C:/Users/Owner/Desktop/kon\\\\CP116F1.txt',\n",
       " 'C:/Users/Owner/Desktop/kon\\\\CP116F2.txt',\n",
       " 'C:/Users/Owner/Desktop/kon\\\\CP116F3.txt',\n",
       " 'C:/Users/Owner/Desktop/kon\\\\CP116F4.txt',\n",
       " 'C:/Users/Owner/Desktop/kon\\\\CP116F5.txt',\n",
       " 'C:/Users/Owner/Desktop/kon\\\\CP117F1.txt',\n",
       " 'C:/Users/Owner/Desktop/kon\\\\CP117F2.txt',\n",
       " 'C:/Users/Owner/Desktop/kon\\\\CP117F3.txt',\n",
       " 'C:/Users/Owner/Desktop/kon\\\\CP117F4.txt',\n",
       " 'C:/Users/Owner/Desktop/kon\\\\CP117F5.txt',\n",
       " 'C:/Users/Owner/Desktop/kon\\\\CP118F1.txt',\n",
       " 'C:/Users/Owner/Desktop/kon\\\\CP118F2.txt',\n",
       " 'C:/Users/Owner/Desktop/kon\\\\CP118F3.txt',\n",
       " 'C:/Users/Owner/Desktop/kon\\\\CP118F4.txt',\n",
       " 'C:/Users/Owner/Desktop/kon\\\\CP118F5.txt',\n",
       " 'C:/Users/Owner/Desktop/kon\\\\CP119F1.txt',\n",
       " 'C:/Users/Owner/Desktop/kon\\\\CP119F2.txt',\n",
       " 'C:/Users/Owner/Desktop/kon\\\\CP119F3.txt',\n",
       " 'C:/Users/Owner/Desktop/kon\\\\CP119F4.txt',\n",
       " 'C:/Users/Owner/Desktop/kon\\\\CP119F5.txt',\n",
       " 'C:/Users/Owner/Desktop/kon\\\\CP11F1.txt',\n",
       " 'C:/Users/Owner/Desktop/kon\\\\CP11F2.txt',\n",
       " 'C:/Users/Owner/Desktop/kon\\\\CP11F3.txt',\n",
       " 'C:/Users/Owner/Desktop/kon\\\\CP11F4.txt',\n",
       " 'C:/Users/Owner/Desktop/kon\\\\CP11F5.txt',\n",
       " 'C:/Users/Owner/Desktop/kon\\\\CP120F1.txt',\n",
       " 'C:/Users/Owner/Desktop/kon\\\\CP120F2.txt',\n",
       " 'C:/Users/Owner/Desktop/kon\\\\CP120F3.txt',\n",
       " 'C:/Users/Owner/Desktop/kon\\\\CP120F4.txt',\n",
       " 'C:/Users/Owner/Desktop/kon\\\\CP120F5.txt',\n",
       " 'C:/Users/Owner/Desktop/kon\\\\CP121F1.txt',\n",
       " 'C:/Users/Owner/Desktop/kon\\\\CP121F2.txt',\n",
       " 'C:/Users/Owner/Desktop/kon\\\\CP121F3.txt',\n",
       " 'C:/Users/Owner/Desktop/kon\\\\CP121F4.txt',\n",
       " 'C:/Users/Owner/Desktop/kon\\\\CP121F5.txt',\n",
       " 'C:/Users/Owner/Desktop/kon\\\\CP122F1.txt',\n",
       " 'C:/Users/Owner/Desktop/kon\\\\CP122F2.txt',\n",
       " 'C:/Users/Owner/Desktop/kon\\\\CP122F3.txt',\n",
       " 'C:/Users/Owner/Desktop/kon\\\\CP122F4.txt',\n",
       " 'C:/Users/Owner/Desktop/kon\\\\CP122F5.txt',\n",
       " 'C:/Users/Owner/Desktop/kon\\\\CP123F1.txt',\n",
       " 'C:/Users/Owner/Desktop/kon\\\\CP123F2.txt',\n",
       " 'C:/Users/Owner/Desktop/kon\\\\CP123F3.txt',\n",
       " 'C:/Users/Owner/Desktop/kon\\\\CP123F4.txt',\n",
       " 'C:/Users/Owner/Desktop/kon\\\\CP123F5.txt',\n",
       " 'C:/Users/Owner/Desktop/kon\\\\CP124F1.txt',\n",
       " 'C:/Users/Owner/Desktop/kon\\\\CP124F2.txt',\n",
       " 'C:/Users/Owner/Desktop/kon\\\\CP124F3.txt',\n",
       " 'C:/Users/Owner/Desktop/kon\\\\CP124F4.txt',\n",
       " 'C:/Users/Owner/Desktop/kon\\\\CP124F5.txt',\n",
       " 'C:/Users/Owner/Desktop/kon\\\\CP125F1.txt',\n",
       " 'C:/Users/Owner/Desktop/kon\\\\CP125F2.txt',\n",
       " 'C:/Users/Owner/Desktop/kon\\\\CP125F3.txt',\n",
       " 'C:/Users/Owner/Desktop/kon\\\\CP125F4.txt',\n",
       " 'C:/Users/Owner/Desktop/kon\\\\CP125F5.txt',\n",
       " 'C:/Users/Owner/Desktop/kon\\\\CP126F1.txt',\n",
       " 'C:/Users/Owner/Desktop/kon\\\\CP126F2.txt',\n",
       " 'C:/Users/Owner/Desktop/kon\\\\CP126F3.txt',\n",
       " 'C:/Users/Owner/Desktop/kon\\\\CP126F4.txt',\n",
       " 'C:/Users/Owner/Desktop/kon\\\\CP126F5.txt',\n",
       " 'C:/Users/Owner/Desktop/kon\\\\CP127F1.txt',\n",
       " 'C:/Users/Owner/Desktop/kon\\\\CP127F2.txt',\n",
       " 'C:/Users/Owner/Desktop/kon\\\\CP127F3.txt',\n",
       " 'C:/Users/Owner/Desktop/kon\\\\CP127F4.txt',\n",
       " 'C:/Users/Owner/Desktop/kon\\\\CP127F5.txt',\n",
       " 'C:/Users/Owner/Desktop/kon\\\\CP128F1.txt',\n",
       " 'C:/Users/Owner/Desktop/kon\\\\CP128F2.txt',\n",
       " 'C:/Users/Owner/Desktop/kon\\\\CP128F3.txt',\n",
       " 'C:/Users/Owner/Desktop/kon\\\\CP128F4.txt',\n",
       " 'C:/Users/Owner/Desktop/kon\\\\CP128F5.txt',\n",
       " 'C:/Users/Owner/Desktop/kon\\\\CP12F1.txt',\n",
       " 'C:/Users/Owner/Desktop/kon\\\\CP12F2.txt',\n",
       " 'C:/Users/Owner/Desktop/kon\\\\CP12F3.txt',\n",
       " 'C:/Users/Owner/Desktop/kon\\\\CP12F4.txt',\n",
       " 'C:/Users/Owner/Desktop/kon\\\\CP12F5.txt',\n",
       " 'C:/Users/Owner/Desktop/kon\\\\CP13F1.txt',\n",
       " 'C:/Users/Owner/Desktop/kon\\\\CP13F2.txt',\n",
       " 'C:/Users/Owner/Desktop/kon\\\\CP13F3.txt',\n",
       " 'C:/Users/Owner/Desktop/kon\\\\CP13F4.txt',\n",
       " 'C:/Users/Owner/Desktop/kon\\\\CP13F5.txt',\n",
       " 'C:/Users/Owner/Desktop/kon\\\\CP14F1.txt',\n",
       " 'C:/Users/Owner/Desktop/kon\\\\CP14F2.txt',\n",
       " 'C:/Users/Owner/Desktop/kon\\\\CP14F3.txt',\n",
       " 'C:/Users/Owner/Desktop/kon\\\\CP14F4.txt',\n",
       " 'C:/Users/Owner/Desktop/kon\\\\CP14F5.txt',\n",
       " 'C:/Users/Owner/Desktop/kon\\\\CP15F1.txt',\n",
       " 'C:/Users/Owner/Desktop/kon\\\\CP15F2.txt',\n",
       " 'C:/Users/Owner/Desktop/kon\\\\CP15F3.txt',\n",
       " 'C:/Users/Owner/Desktop/kon\\\\CP15F4.txt',\n",
       " 'C:/Users/Owner/Desktop/kon\\\\CP15F5.txt',\n",
       " 'C:/Users/Owner/Desktop/kon\\\\CP16F1.txt',\n",
       " 'C:/Users/Owner/Desktop/kon\\\\CP16F2.txt',\n",
       " 'C:/Users/Owner/Desktop/kon\\\\CP16F3.txt',\n",
       " 'C:/Users/Owner/Desktop/kon\\\\CP16F4.txt',\n",
       " 'C:/Users/Owner/Desktop/kon\\\\CP16F5.txt',\n",
       " 'C:/Users/Owner/Desktop/kon\\\\CP17F1.txt',\n",
       " 'C:/Users/Owner/Desktop/kon\\\\CP17F2.txt',\n",
       " 'C:/Users/Owner/Desktop/kon\\\\CP17F3.txt',\n",
       " 'C:/Users/Owner/Desktop/kon\\\\CP17F4.txt',\n",
       " 'C:/Users/Owner/Desktop/kon\\\\CP17F5.txt',\n",
       " 'C:/Users/Owner/Desktop/kon\\\\CP18F1.txt',\n",
       " 'C:/Users/Owner/Desktop/kon\\\\CP18F2.txt',\n",
       " 'C:/Users/Owner/Desktop/kon\\\\CP18F3.txt',\n",
       " 'C:/Users/Owner/Desktop/kon\\\\CP18F4.txt',\n",
       " 'C:/Users/Owner/Desktop/kon\\\\CP18F5.txt',\n",
       " 'C:/Users/Owner/Desktop/kon\\\\CP19F1.txt',\n",
       " 'C:/Users/Owner/Desktop/kon\\\\CP19F2.txt',\n",
       " 'C:/Users/Owner/Desktop/kon\\\\CP19F3.txt',\n",
       " 'C:/Users/Owner/Desktop/kon\\\\CP19F4.txt',\n",
       " 'C:/Users/Owner/Desktop/kon\\\\CP19F5.txt',\n",
       " 'C:/Users/Owner/Desktop/kon\\\\CP20F1.txt',\n",
       " 'C:/Users/Owner/Desktop/kon\\\\CP20F2.txt',\n",
       " 'C:/Users/Owner/Desktop/kon\\\\CP20F3.txt',\n",
       " 'C:/Users/Owner/Desktop/kon\\\\CP20F4.txt',\n",
       " 'C:/Users/Owner/Desktop/kon\\\\CP20F5.txt',\n",
       " 'C:/Users/Owner/Desktop/kon\\\\CP21F1.txt',\n",
       " 'C:/Users/Owner/Desktop/kon\\\\CP21F2.txt',\n",
       " 'C:/Users/Owner/Desktop/kon\\\\CP21F3.txt',\n",
       " 'C:/Users/Owner/Desktop/kon\\\\CP21F4.txt',\n",
       " 'C:/Users/Owner/Desktop/kon\\\\CP21F5.txt',\n",
       " 'C:/Users/Owner/Desktop/kon\\\\CP22F1.txt',\n",
       " 'C:/Users/Owner/Desktop/kon\\\\CP22F2.txt',\n",
       " 'C:/Users/Owner/Desktop/kon\\\\CP22F3.txt',\n",
       " 'C:/Users/Owner/Desktop/kon\\\\CP22F4.txt',\n",
       " 'C:/Users/Owner/Desktop/kon\\\\CP22F5.txt',\n",
       " 'C:/Users/Owner/Desktop/kon\\\\CP23F1.txt',\n",
       " 'C:/Users/Owner/Desktop/kon\\\\CP23F2.txt',\n",
       " 'C:/Users/Owner/Desktop/kon\\\\CP23F3.txt',\n",
       " 'C:/Users/Owner/Desktop/kon\\\\CP23F4.txt',\n",
       " 'C:/Users/Owner/Desktop/kon\\\\CP23F5.txt',\n",
       " 'C:/Users/Owner/Desktop/kon\\\\CP24F1.txt',\n",
       " 'C:/Users/Owner/Desktop/kon\\\\CP24F2.txt',\n",
       " 'C:/Users/Owner/Desktop/kon\\\\CP24F3.txt',\n",
       " 'C:/Users/Owner/Desktop/kon\\\\CP24F4.txt',\n",
       " 'C:/Users/Owner/Desktop/kon\\\\CP24F5.txt',\n",
       " 'C:/Users/Owner/Desktop/kon\\\\CP25F1.txt',\n",
       " 'C:/Users/Owner/Desktop/kon\\\\CP25F2.txt',\n",
       " 'C:/Users/Owner/Desktop/kon\\\\CP25F3.txt',\n",
       " 'C:/Users/Owner/Desktop/kon\\\\CP25F4.txt',\n",
       " 'C:/Users/Owner/Desktop/kon\\\\CP25F5.txt',\n",
       " 'C:/Users/Owner/Desktop/kon\\\\CP26F1.txt',\n",
       " 'C:/Users/Owner/Desktop/kon\\\\CP26F2.txt',\n",
       " 'C:/Users/Owner/Desktop/kon\\\\CP26F3.txt',\n",
       " 'C:/Users/Owner/Desktop/kon\\\\CP26F4.txt',\n",
       " 'C:/Users/Owner/Desktop/kon\\\\CP26F5.txt',\n",
       " 'C:/Users/Owner/Desktop/kon\\\\CP27F1.txt',\n",
       " 'C:/Users/Owner/Desktop/kon\\\\CP27F2.txt',\n",
       " 'C:/Users/Owner/Desktop/kon\\\\CP27F3.txt',\n",
       " 'C:/Users/Owner/Desktop/kon\\\\CP27F4.txt',\n",
       " 'C:/Users/Owner/Desktop/kon\\\\CP27F5.txt',\n",
       " 'C:/Users/Owner/Desktop/kon\\\\CP28F1.txt',\n",
       " 'C:/Users/Owner/Desktop/kon\\\\CP28F2.txt',\n",
       " 'C:/Users/Owner/Desktop/kon\\\\CP28F3.txt',\n",
       " 'C:/Users/Owner/Desktop/kon\\\\CP28F4.txt',\n",
       " 'C:/Users/Owner/Desktop/kon\\\\CP28F5.txt',\n",
       " 'C:/Users/Owner/Desktop/kon\\\\CP29F1.txt',\n",
       " 'C:/Users/Owner/Desktop/kon\\\\CP29F2.txt',\n",
       " 'C:/Users/Owner/Desktop/kon\\\\CP29F3.txt',\n",
       " 'C:/Users/Owner/Desktop/kon\\\\CP29F4.txt',\n",
       " 'C:/Users/Owner/Desktop/kon\\\\CP30F1.txt',\n",
       " 'C:/Users/Owner/Desktop/kon\\\\CP30F2.txt',\n",
       " 'C:/Users/Owner/Desktop/kon\\\\CP30F3.txt',\n",
       " 'C:/Users/Owner/Desktop/kon\\\\CP30F4.txt',\n",
       " 'C:/Users/Owner/Desktop/kon\\\\CP30F5.txt',\n",
       " 'C:/Users/Owner/Desktop/kon\\\\CP31F1.txt',\n",
       " 'C:/Users/Owner/Desktop/kon\\\\CP31F2.txt',\n",
       " 'C:/Users/Owner/Desktop/kon\\\\CP31F3.txt',\n",
       " 'C:/Users/Owner/Desktop/kon\\\\CP31F4.txt',\n",
       " 'C:/Users/Owner/Desktop/kon\\\\CP31F5.txt',\n",
       " 'C:/Users/Owner/Desktop/kon\\\\CP32F1.txt',\n",
       " 'C:/Users/Owner/Desktop/kon\\\\CP32F2.txt',\n",
       " 'C:/Users/Owner/Desktop/kon\\\\CP32F3.txt',\n",
       " 'C:/Users/Owner/Desktop/kon\\\\CP32F4.txt',\n",
       " 'C:/Users/Owner/Desktop/kon\\\\CP32F5.txt',\n",
       " 'C:/Users/Owner/Desktop/kon\\\\CP33F1.txt',\n",
       " 'C:/Users/Owner/Desktop/kon\\\\CP33F2.txt',\n",
       " 'C:/Users/Owner/Desktop/kon\\\\CP33F3.txt',\n",
       " 'C:/Users/Owner/Desktop/kon\\\\CP33F4.txt',\n",
       " 'C:/Users/Owner/Desktop/kon\\\\CP33F5.txt',\n",
       " 'C:/Users/Owner/Desktop/kon\\\\CP34F1.txt',\n",
       " 'C:/Users/Owner/Desktop/kon\\\\CP34F2.txt',\n",
       " 'C:/Users/Owner/Desktop/kon\\\\CP34F3.txt',\n",
       " 'C:/Users/Owner/Desktop/kon\\\\CP34F4.txt',\n",
       " 'C:/Users/Owner/Desktop/kon\\\\CP34F5.txt',\n",
       " 'C:/Users/Owner/Desktop/kon\\\\CP35F1.txt',\n",
       " 'C:/Users/Owner/Desktop/kon\\\\CP35F2.txt',\n",
       " 'C:/Users/Owner/Desktop/kon\\\\CP35F3.txt',\n",
       " 'C:/Users/Owner/Desktop/kon\\\\CP35F4.txt',\n",
       " 'C:/Users/Owner/Desktop/kon\\\\CP35F5.txt',\n",
       " 'C:/Users/Owner/Desktop/kon\\\\CP36F1.txt',\n",
       " 'C:/Users/Owner/Desktop/kon\\\\CP36F2.txt',\n",
       " 'C:/Users/Owner/Desktop/kon\\\\CP36F3.txt',\n",
       " 'C:/Users/Owner/Desktop/kon\\\\CP36F4.txt',\n",
       " 'C:/Users/Owner/Desktop/kon\\\\CP36F5.txt',\n",
       " 'C:/Users/Owner/Desktop/kon\\\\CP37F1.txt',\n",
       " 'C:/Users/Owner/Desktop/kon\\\\CP37F2.txt',\n",
       " 'C:/Users/Owner/Desktop/kon\\\\CP37F3.txt',\n",
       " 'C:/Users/Owner/Desktop/kon\\\\CP37F4.txt',\n",
       " 'C:/Users/Owner/Desktop/kon\\\\CP37F5.txt',\n",
       " 'C:/Users/Owner/Desktop/kon\\\\CP38F1.txt',\n",
       " 'C:/Users/Owner/Desktop/kon\\\\CP38F2.txt',\n",
       " 'C:/Users/Owner/Desktop/kon\\\\CP38F3.txt',\n",
       " 'C:/Users/Owner/Desktop/kon\\\\CP38F4.txt',\n",
       " 'C:/Users/Owner/Desktop/kon\\\\CP38F5.txt',\n",
       " 'C:/Users/Owner/Desktop/kon\\\\CP39F1.txt',\n",
       " 'C:/Users/Owner/Desktop/kon\\\\CP39F2.txt',\n",
       " 'C:/Users/Owner/Desktop/kon\\\\CP39F3.txt',\n",
       " 'C:/Users/Owner/Desktop/kon\\\\CP39F4.txt',\n",
       " 'C:/Users/Owner/Desktop/kon\\\\CP39F5.txt',\n",
       " 'C:/Users/Owner/Desktop/kon\\\\CP40F1.txt',\n",
       " 'C:/Users/Owner/Desktop/kon\\\\CP40F2.txt',\n",
       " 'C:/Users/Owner/Desktop/kon\\\\CP40F3.txt',\n",
       " 'C:/Users/Owner/Desktop/kon\\\\CP40F4.txt',\n",
       " 'C:/Users/Owner/Desktop/kon\\\\CP40F5.txt',\n",
       " 'C:/Users/Owner/Desktop/kon\\\\CP41F1.txt',\n",
       " 'C:/Users/Owner/Desktop/kon\\\\CP41F2.txt',\n",
       " 'C:/Users/Owner/Desktop/kon\\\\CP41F3.txt',\n",
       " 'C:/Users/Owner/Desktop/kon\\\\CP41F4.txt',\n",
       " 'C:/Users/Owner/Desktop/kon\\\\CP41F5.txt',\n",
       " 'C:/Users/Owner/Desktop/kon\\\\CP42F1.txt',\n",
       " 'C:/Users/Owner/Desktop/kon\\\\CP42F2.txt',\n",
       " 'C:/Users/Owner/Desktop/kon\\\\CP42F3.txt',\n",
       " 'C:/Users/Owner/Desktop/kon\\\\CP42F4.txt',\n",
       " 'C:/Users/Owner/Desktop/kon\\\\CP42F5.txt',\n",
       " 'C:/Users/Owner/Desktop/kon\\\\CP43F1.txt',\n",
       " 'C:/Users/Owner/Desktop/kon\\\\CP43F2.txt',\n",
       " 'C:/Users/Owner/Desktop/kon\\\\CP43F3.txt',\n",
       " 'C:/Users/Owner/Desktop/kon\\\\CP43F4.txt',\n",
       " 'C:/Users/Owner/Desktop/kon\\\\CP43F5.txt',\n",
       " 'C:/Users/Owner/Desktop/kon\\\\CP44F1.txt',\n",
       " 'C:/Users/Owner/Desktop/kon\\\\CP44F2.txt',\n",
       " 'C:/Users/Owner/Desktop/kon\\\\CP44F3.txt',\n",
       " 'C:/Users/Owner/Desktop/kon\\\\CP44F4.txt',\n",
       " 'C:/Users/Owner/Desktop/kon\\\\CP44F5.txt',\n",
       " 'C:/Users/Owner/Desktop/kon\\\\CP45F1.txt',\n",
       " 'C:/Users/Owner/Desktop/kon\\\\CP45F2.txt',\n",
       " 'C:/Users/Owner/Desktop/kon\\\\CP45F3.txt',\n",
       " 'C:/Users/Owner/Desktop/kon\\\\CP45F4.txt',\n",
       " 'C:/Users/Owner/Desktop/kon\\\\CP45F5.txt',\n",
       " 'C:/Users/Owner/Desktop/kon\\\\CP46F1.txt',\n",
       " 'C:/Users/Owner/Desktop/kon\\\\CP46F2.txt',\n",
       " 'C:/Users/Owner/Desktop/kon\\\\CP46F3.txt',\n",
       " 'C:/Users/Owner/Desktop/kon\\\\CP46F4.txt',\n",
       " 'C:/Users/Owner/Desktop/kon\\\\CP46F5.txt',\n",
       " 'C:/Users/Owner/Desktop/kon\\\\CP47F1.txt',\n",
       " 'C:/Users/Owner/Desktop/kon\\\\CP47F2.txt',\n",
       " 'C:/Users/Owner/Desktop/kon\\\\CP47F3.txt',\n",
       " 'C:/Users/Owner/Desktop/kon\\\\CP47F4.txt',\n",
       " 'C:/Users/Owner/Desktop/kon\\\\CP47F5.txt',\n",
       " 'C:/Users/Owner/Desktop/kon\\\\CP48F1.txt',\n",
       " 'C:/Users/Owner/Desktop/kon\\\\CP48F2.txt',\n",
       " 'C:/Users/Owner/Desktop/kon\\\\CP48F3.txt',\n",
       " 'C:/Users/Owner/Desktop/kon\\\\CP48F4.txt',\n",
       " 'C:/Users/Owner/Desktop/kon\\\\CP48F5.txt',\n",
       " 'C:/Users/Owner/Desktop/kon\\\\CP49F1.txt',\n",
       " 'C:/Users/Owner/Desktop/kon\\\\CP49F2.txt',\n",
       " 'C:/Users/Owner/Desktop/kon\\\\CP49F3.txt',\n",
       " 'C:/Users/Owner/Desktop/kon\\\\CP49F4.txt',\n",
       " 'C:/Users/Owner/Desktop/kon\\\\CP49F5.txt',\n",
       " 'C:/Users/Owner/Desktop/kon\\\\CP50F1.txt',\n",
       " 'C:/Users/Owner/Desktop/kon\\\\CP50F2.txt',\n",
       " 'C:/Users/Owner/Desktop/kon\\\\CP50F3.txt',\n",
       " 'C:/Users/Owner/Desktop/kon\\\\CP50F4.txt',\n",
       " 'C:/Users/Owner/Desktop/kon\\\\CP50F5.txt',\n",
       " 'C:/Users/Owner/Desktop/kon\\\\CP51F1.txt',\n",
       " 'C:/Users/Owner/Desktop/kon\\\\CP51F2.txt',\n",
       " 'C:/Users/Owner/Desktop/kon\\\\CP51F3.txt',\n",
       " 'C:/Users/Owner/Desktop/kon\\\\CP51F4.txt',\n",
       " 'C:/Users/Owner/Desktop/kon\\\\CP51F5.txt',\n",
       " 'C:/Users/Owner/Desktop/kon\\\\CP52F1.txt',\n",
       " 'C:/Users/Owner/Desktop/kon\\\\CP52F2.txt',\n",
       " 'C:/Users/Owner/Desktop/kon\\\\CP52F3.txt',\n",
       " 'C:/Users/Owner/Desktop/kon\\\\CP52F4.txt',\n",
       " 'C:/Users/Owner/Desktop/kon\\\\CP52F5.txt',\n",
       " 'C:/Users/Owner/Desktop/kon\\\\CP53F1.txt',\n",
       " 'C:/Users/Owner/Desktop/kon\\\\CP53F2.txt',\n",
       " 'C:/Users/Owner/Desktop/kon\\\\CP53F3.txt',\n",
       " 'C:/Users/Owner/Desktop/kon\\\\CP53F4.txt',\n",
       " 'C:/Users/Owner/Desktop/kon\\\\CP53F5.txt',\n",
       " 'C:/Users/Owner/Desktop/kon\\\\CP54F1.txt',\n",
       " 'C:/Users/Owner/Desktop/kon\\\\CP54F2.txt',\n",
       " 'C:/Users/Owner/Desktop/kon\\\\CP54F3.txt',\n",
       " 'C:/Users/Owner/Desktop/kon\\\\CP54F4.txt',\n",
       " 'C:/Users/Owner/Desktop/kon\\\\CP54F5.txt',\n",
       " 'C:/Users/Owner/Desktop/kon\\\\CP56F1.txt',\n",
       " 'C:/Users/Owner/Desktop/kon\\\\CP56F2.txt',\n",
       " 'C:/Users/Owner/Desktop/kon\\\\CP56F3.txt',\n",
       " 'C:/Users/Owner/Desktop/kon\\\\CP56F4.txt',\n",
       " 'C:/Users/Owner/Desktop/kon\\\\CP56F5.txt',\n",
       " 'C:/Users/Owner/Desktop/kon\\\\CP57F1.txt',\n",
       " 'C:/Users/Owner/Desktop/kon\\\\CP57F2.txt',\n",
       " 'C:/Users/Owner/Desktop/kon\\\\CP57F3.txt',\n",
       " 'C:/Users/Owner/Desktop/kon\\\\CP57F4.txt',\n",
       " 'C:/Users/Owner/Desktop/kon\\\\CP57F5.txt',\n",
       " 'C:/Users/Owner/Desktop/kon\\\\CP58F1.txt',\n",
       " 'C:/Users/Owner/Desktop/kon\\\\CP58F2.txt',\n",
       " 'C:/Users/Owner/Desktop/kon\\\\CP58F3.txt',\n",
       " 'C:/Users/Owner/Desktop/kon\\\\CP58F4.txt',\n",
       " 'C:/Users/Owner/Desktop/kon\\\\CP58F5.txt',\n",
       " 'C:/Users/Owner/Desktop/kon\\\\CP59F1.txt',\n",
       " 'C:/Users/Owner/Desktop/kon\\\\CP59F2.txt',\n",
       " 'C:/Users/Owner/Desktop/kon\\\\CP59F3.txt',\n",
       " 'C:/Users/Owner/Desktop/kon\\\\CP59F4.txt',\n",
       " 'C:/Users/Owner/Desktop/kon\\\\CP59F5.txt',\n",
       " 'C:/Users/Owner/Desktop/kon\\\\CP60F1.txt',\n",
       " 'C:/Users/Owner/Desktop/kon\\\\CP60F2.txt',\n",
       " 'C:/Users/Owner/Desktop/kon\\\\CP60F3.txt',\n",
       " 'C:/Users/Owner/Desktop/kon\\\\CP60F4.txt',\n",
       " 'C:/Users/Owner/Desktop/kon\\\\CP60F5.txt',\n",
       " 'C:/Users/Owner/Desktop/kon\\\\CP61F1.txt',\n",
       " 'C:/Users/Owner/Desktop/kon\\\\CP61F2.txt',\n",
       " 'C:/Users/Owner/Desktop/kon\\\\CP61F3.txt',\n",
       " 'C:/Users/Owner/Desktop/kon\\\\CP61F4.txt',\n",
       " 'C:/Users/Owner/Desktop/kon\\\\CP61F5.txt',\n",
       " 'C:/Users/Owner/Desktop/kon\\\\CP62F1.txt',\n",
       " 'C:/Users/Owner/Desktop/kon\\\\CP62F2.txt',\n",
       " 'C:/Users/Owner/Desktop/kon\\\\CP62F3.txt',\n",
       " 'C:/Users/Owner/Desktop/kon\\\\CP62F4.txt',\n",
       " 'C:/Users/Owner/Desktop/kon\\\\CP62F5.txt',\n",
       " 'C:/Users/Owner/Desktop/kon\\\\CP63F1.txt',\n",
       " 'C:/Users/Owner/Desktop/kon\\\\CP63F2.txt',\n",
       " 'C:/Users/Owner/Desktop/kon\\\\CP63F3.txt',\n",
       " 'C:/Users/Owner/Desktop/kon\\\\CP63F4.txt',\n",
       " 'C:/Users/Owner/Desktop/kon\\\\CP63F5.txt',\n",
       " 'C:/Users/Owner/Desktop/kon\\\\CP64F1.txt',\n",
       " 'C:/Users/Owner/Desktop/kon\\\\CP64F2.txt',\n",
       " 'C:/Users/Owner/Desktop/kon\\\\CP64F3.txt',\n",
       " 'C:/Users/Owner/Desktop/kon\\\\CP64F4.txt',\n",
       " 'C:/Users/Owner/Desktop/kon\\\\CP64F5.txt',\n",
       " 'C:/Users/Owner/Desktop/kon\\\\CP65F1.txt',\n",
       " 'C:/Users/Owner/Desktop/kon\\\\CP65F2.txt',\n",
       " 'C:/Users/Owner/Desktop/kon\\\\CP65F3.txt',\n",
       " 'C:/Users/Owner/Desktop/kon\\\\CP65F4.txt',\n",
       " 'C:/Users/Owner/Desktop/kon\\\\CP65F5.txt',\n",
       " 'C:/Users/Owner/Desktop/kon\\\\CP66F1.txt',\n",
       " 'C:/Users/Owner/Desktop/kon\\\\CP66F2.txt',\n",
       " 'C:/Users/Owner/Desktop/kon\\\\CP66F3.txt',\n",
       " 'C:/Users/Owner/Desktop/kon\\\\CP66F4.txt',\n",
       " 'C:/Users/Owner/Desktop/kon\\\\CP66F5.txt',\n",
       " 'C:/Users/Owner/Desktop/kon\\\\CP67F1.txt',\n",
       " 'C:/Users/Owner/Desktop/kon\\\\CP67F2.txt',\n",
       " 'C:/Users/Owner/Desktop/kon\\\\CP67F3.txt',\n",
       " 'C:/Users/Owner/Desktop/kon\\\\CP67F4.txt',\n",
       " 'C:/Users/Owner/Desktop/kon\\\\CP67F5.txt',\n",
       " 'C:/Users/Owner/Desktop/kon\\\\CP68F1.txt',\n",
       " 'C:/Users/Owner/Desktop/kon\\\\CP68F2.txt',\n",
       " 'C:/Users/Owner/Desktop/kon\\\\CP68F3.txt',\n",
       " 'C:/Users/Owner/Desktop/kon\\\\CP68F4.txt',\n",
       " 'C:/Users/Owner/Desktop/kon\\\\CP68F5.txt',\n",
       " 'C:/Users/Owner/Desktop/kon\\\\CP69F1.txt',\n",
       " 'C:/Users/Owner/Desktop/kon\\\\CP69F2.txt',\n",
       " 'C:/Users/Owner/Desktop/kon\\\\CP69F3.txt',\n",
       " 'C:/Users/Owner/Desktop/kon\\\\CP69F4.txt',\n",
       " 'C:/Users/Owner/Desktop/kon\\\\CP69F5.txt',\n",
       " 'C:/Users/Owner/Desktop/kon\\\\CP70F1.txt',\n",
       " 'C:/Users/Owner/Desktop/kon\\\\CP70F2.txt',\n",
       " 'C:/Users/Owner/Desktop/kon\\\\CP70F3.txt',\n",
       " 'C:/Users/Owner/Desktop/kon\\\\CP70F4.txt',\n",
       " 'C:/Users/Owner/Desktop/kon\\\\CP70F5.txt',\n",
       " 'C:/Users/Owner/Desktop/kon\\\\CP71F1.txt',\n",
       " 'C:/Users/Owner/Desktop/kon\\\\CP71F2.txt',\n",
       " 'C:/Users/Owner/Desktop/kon\\\\CP71F3.txt',\n",
       " 'C:/Users/Owner/Desktop/kon\\\\CP71F4.txt',\n",
       " 'C:/Users/Owner/Desktop/kon\\\\CP71F5.txt',\n",
       " 'C:/Users/Owner/Desktop/kon\\\\CP72F1.txt',\n",
       " 'C:/Users/Owner/Desktop/kon\\\\CP72F2.txt',\n",
       " 'C:/Users/Owner/Desktop/kon\\\\CP72F3.txt',\n",
       " 'C:/Users/Owner/Desktop/kon\\\\CP72F4.txt',\n",
       " 'C:/Users/Owner/Desktop/kon\\\\CP72F5.txt',\n",
       " 'C:/Users/Owner/Desktop/kon\\\\CP73F1.txt',\n",
       " 'C:/Users/Owner/Desktop/kon\\\\CP73F2.txt',\n",
       " 'C:/Users/Owner/Desktop/kon\\\\CP73F3.txt',\n",
       " 'C:/Users/Owner/Desktop/kon\\\\CP73F4.txt',\n",
       " 'C:/Users/Owner/Desktop/kon\\\\CP73F5.txt',\n",
       " 'C:/Users/Owner/Desktop/kon\\\\CP74F1.txt',\n",
       " 'C:/Users/Owner/Desktop/kon\\\\CP74F2.txt',\n",
       " 'C:/Users/Owner/Desktop/kon\\\\CP74F3.txt',\n",
       " 'C:/Users/Owner/Desktop/kon\\\\CP74F4.txt',\n",
       " 'C:/Users/Owner/Desktop/kon\\\\CP74F5.txt',\n",
       " 'C:/Users/Owner/Desktop/kon\\\\CP76F1.txt',\n",
       " 'C:/Users/Owner/Desktop/kon\\\\CP76F2.txt',\n",
       " 'C:/Users/Owner/Desktop/kon\\\\CP76F3.txt',\n",
       " 'C:/Users/Owner/Desktop/kon\\\\CP76F4.txt',\n",
       " 'C:/Users/Owner/Desktop/kon\\\\CP76F5.txt',\n",
       " 'C:/Users/Owner/Desktop/kon\\\\CP77F1.txt',\n",
       " 'C:/Users/Owner/Desktop/kon\\\\CP77F2.txt',\n",
       " 'C:/Users/Owner/Desktop/kon\\\\CP77F3.txt',\n",
       " 'C:/Users/Owner/Desktop/kon\\\\CP77F4.txt',\n",
       " 'C:/Users/Owner/Desktop/kon\\\\CP77F5.txt',\n",
       " 'C:/Users/Owner/Desktop/kon\\\\CP79F1.txt',\n",
       " 'C:/Users/Owner/Desktop/kon\\\\CP79F2.txt',\n",
       " 'C:/Users/Owner/Desktop/kon\\\\CP79F3.txt',\n",
       " 'C:/Users/Owner/Desktop/kon\\\\CP79F4.txt',\n",
       " 'C:/Users/Owner/Desktop/kon\\\\CP79F5.txt',\n",
       " 'C:/Users/Owner/Desktop/kon\\\\CP80F1.txt',\n",
       " 'C:/Users/Owner/Desktop/kon\\\\CP80F2.txt',\n",
       " 'C:/Users/Owner/Desktop/kon\\\\CP80F3.txt',\n",
       " 'C:/Users/Owner/Desktop/kon\\\\CP80F4.txt',\n",
       " 'C:/Users/Owner/Desktop/kon\\\\CP80F5.txt',\n",
       " 'C:/Users/Owner/Desktop/kon\\\\CP81F1.txt',\n",
       " 'C:/Users/Owner/Desktop/kon\\\\CP81F2.txt',\n",
       " 'C:/Users/Owner/Desktop/kon\\\\CP81F3.txt',\n",
       " 'C:/Users/Owner/Desktop/kon\\\\CP81F4.txt',\n",
       " 'C:/Users/Owner/Desktop/kon\\\\CP81F5.txt',\n",
       " 'C:/Users/Owner/Desktop/kon\\\\CP82F1.txt',\n",
       " 'C:/Users/Owner/Desktop/kon\\\\CP82F2.txt',\n",
       " 'C:/Users/Owner/Desktop/kon\\\\CP82F3.txt',\n",
       " 'C:/Users/Owner/Desktop/kon\\\\CP82F4.txt',\n",
       " 'C:/Users/Owner/Desktop/kon\\\\CP82F5.txt',\n",
       " 'C:/Users/Owner/Desktop/kon\\\\CP83F1.txt',\n",
       " 'C:/Users/Owner/Desktop/kon\\\\CP83F2.txt',\n",
       " 'C:/Users/Owner/Desktop/kon\\\\CP83F3.txt',\n",
       " 'C:/Users/Owner/Desktop/kon\\\\CP83F4.txt',\n",
       " 'C:/Users/Owner/Desktop/kon\\\\CP83F5.txt',\n",
       " 'C:/Users/Owner/Desktop/kon\\\\CP84F1.txt',\n",
       " 'C:/Users/Owner/Desktop/kon\\\\CP84F2.txt',\n",
       " 'C:/Users/Owner/Desktop/kon\\\\CP84F3.txt',\n",
       " 'C:/Users/Owner/Desktop/kon\\\\CP84F4.txt',\n",
       " 'C:/Users/Owner/Desktop/kon\\\\CP84F5.txt',\n",
       " 'C:/Users/Owner/Desktop/kon\\\\CP85F1.txt',\n",
       " 'C:/Users/Owner/Desktop/kon\\\\CP85F2.txt',\n",
       " 'C:/Users/Owner/Desktop/kon\\\\CP85F3.txt',\n",
       " 'C:/Users/Owner/Desktop/kon\\\\CP85F4.txt',\n",
       " 'C:/Users/Owner/Desktop/kon\\\\CP85F5.txt',\n",
       " 'C:/Users/Owner/Desktop/kon\\\\CP86F1.txt',\n",
       " 'C:/Users/Owner/Desktop/kon\\\\CP86F2.txt',\n",
       " 'C:/Users/Owner/Desktop/kon\\\\CP86F3.txt',\n",
       " 'C:/Users/Owner/Desktop/kon\\\\CP86F4.txt',\n",
       " 'C:/Users/Owner/Desktop/kon\\\\CP86F5.txt',\n",
       " 'C:/Users/Owner/Desktop/kon\\\\CP87F1.txt',\n",
       " 'C:/Users/Owner/Desktop/kon\\\\CP87F2.txt',\n",
       " 'C:/Users/Owner/Desktop/kon\\\\CP87F3.txt',\n",
       " 'C:/Users/Owner/Desktop/kon\\\\CP87F4.txt',\n",
       " 'C:/Users/Owner/Desktop/kon\\\\CP87F5.txt',\n",
       " 'C:/Users/Owner/Desktop/kon\\\\CP88F1.txt',\n",
       " 'C:/Users/Owner/Desktop/kon\\\\CP88F2.txt',\n",
       " 'C:/Users/Owner/Desktop/kon\\\\CP88F3.txt',\n",
       " 'C:/Users/Owner/Desktop/kon\\\\CP88F4.txt',\n",
       " 'C:/Users/Owner/Desktop/kon\\\\CP88F5.txt',\n",
       " 'C:/Users/Owner/Desktop/kon\\\\CP89F1.txt',\n",
       " 'C:/Users/Owner/Desktop/kon\\\\CP89F2.txt',\n",
       " 'C:/Users/Owner/Desktop/kon\\\\CP89F3.txt',\n",
       " 'C:/Users/Owner/Desktop/kon\\\\CP89F4.txt',\n",
       " 'C:/Users/Owner/Desktop/kon\\\\CP89F5.txt',\n",
       " 'C:/Users/Owner/Desktop/kon\\\\CP90F1.txt',\n",
       " 'C:/Users/Owner/Desktop/kon\\\\CP90F2.txt',\n",
       " 'C:/Users/Owner/Desktop/kon\\\\CP90F3.txt',\n",
       " 'C:/Users/Owner/Desktop/kon\\\\CP90F4.txt',\n",
       " 'C:/Users/Owner/Desktop/kon\\\\CP90F5.txt',\n",
       " 'C:/Users/Owner/Desktop/kon\\\\CP91F1.txt',\n",
       " 'C:/Users/Owner/Desktop/kon\\\\CP91F2.txt',\n",
       " 'C:/Users/Owner/Desktop/kon\\\\CP91F3.txt',\n",
       " 'C:/Users/Owner/Desktop/kon\\\\CP91F4.txt',\n",
       " 'C:/Users/Owner/Desktop/kon\\\\CP91F5.txt',\n",
       " 'C:/Users/Owner/Desktop/kon\\\\CP92F1.txt',\n",
       " 'C:/Users/Owner/Desktop/kon\\\\CP92F2.txt',\n",
       " 'C:/Users/Owner/Desktop/kon\\\\CP92F3.txt',\n",
       " 'C:/Users/Owner/Desktop/kon\\\\CP92F4.txt',\n",
       " 'C:/Users/Owner/Desktop/kon\\\\CP92F5.txt',\n",
       " 'C:/Users/Owner/Desktop/kon\\\\CP93F1.txt',\n",
       " 'C:/Users/Owner/Desktop/kon\\\\CP93F2.txt',\n",
       " 'C:/Users/Owner/Desktop/kon\\\\CP93F3.txt',\n",
       " 'C:/Users/Owner/Desktop/kon\\\\CP93F4.txt',\n",
       " 'C:/Users/Owner/Desktop/kon\\\\CP93F5.txt',\n",
       " 'C:/Users/Owner/Desktop/kon\\\\CP94F1.txt',\n",
       " 'C:/Users/Owner/Desktop/kon\\\\CP94F2.txt',\n",
       " 'C:/Users/Owner/Desktop/kon\\\\CP94F3.txt',\n",
       " 'C:/Users/Owner/Desktop/kon\\\\CP94F4.txt',\n",
       " 'C:/Users/Owner/Desktop/kon\\\\CP94F5.txt',\n",
       " 'C:/Users/Owner/Desktop/kon\\\\CP95F1.txt',\n",
       " 'C:/Users/Owner/Desktop/kon\\\\CP95F2.txt',\n",
       " 'C:/Users/Owner/Desktop/kon\\\\CP95F3.txt',\n",
       " 'C:/Users/Owner/Desktop/kon\\\\CP95F4.txt',\n",
       " 'C:/Users/Owner/Desktop/kon\\\\CP95F5.txt',\n",
       " 'C:/Users/Owner/Desktop/kon\\\\CP96F1.txt',\n",
       " 'C:/Users/Owner/Desktop/kon\\\\CP96F2.txt',\n",
       " 'C:/Users/Owner/Desktop/kon\\\\CP96F3.txt',\n",
       " 'C:/Users/Owner/Desktop/kon\\\\CP96F4.txt',\n",
       " 'C:/Users/Owner/Desktop/kon\\\\CP96F5.txt',\n",
       " 'C:/Users/Owner/Desktop/kon\\\\CP97F1.txt',\n",
       " 'C:/Users/Owner/Desktop/kon\\\\CP97F2.txt',\n",
       " 'C:/Users/Owner/Desktop/kon\\\\CP97F3.txt',\n",
       " 'C:/Users/Owner/Desktop/kon\\\\CP97F4.txt',\n",
       " 'C:/Users/Owner/Desktop/kon\\\\CP97F5.txt',\n",
       " 'C:/Users/Owner/Desktop/kon\\\\CP98F1.txt',\n",
       " 'C:/Users/Owner/Desktop/kon\\\\CP98F2.txt',\n",
       " 'C:/Users/Owner/Desktop/kon\\\\CP98F3.txt',\n",
       " 'C:/Users/Owner/Desktop/kon\\\\CP98F4.txt',\n",
       " 'C:/Users/Owner/Desktop/kon\\\\CP98F5.txt',\n",
       " 'C:/Users/Owner/Desktop/kon\\\\CP99F1.txt',\n",
       " 'C:/Users/Owner/Desktop/kon\\\\CP99F2.txt',\n",
       " 'C:/Users/Owner/Desktop/kon\\\\CP99F3.txt',\n",
       " 'C:/Users/Owner/Desktop/kon\\\\CP99F4.txt',\n",
       " 'C:/Users/Owner/Desktop/kon\\\\CP99F5.txt']"
      ]
     },
     "execution_count": 7,
     "metadata": {},
     "output_type": "execute_result"
    }
   ],
   "source": [
    "c_list"
   ]
  },
  {
   "cell_type": "code",
   "execution_count": 3,
   "metadata": {},
   "outputs": [
    {
     "data": {
      "text/plain": [
       "['C:/Users/Owner/Desktop/text_40\\\\A-1-1.txt',\n",
       " 'C:/Users/Owner/Desktop/text_40\\\\A-1-10.txt',\n",
       " 'C:/Users/Owner/Desktop/text_40\\\\A-1-11.txt',\n",
       " 'C:/Users/Owner/Desktop/text_40\\\\A-1-12.txt',\n",
       " 'C:/Users/Owner/Desktop/text_40\\\\A-1-13.txt',\n",
       " 'C:/Users/Owner/Desktop/text_40\\\\A-1-14.txt',\n",
       " 'C:/Users/Owner/Desktop/text_40\\\\A-1-15.txt',\n",
       " 'C:/Users/Owner/Desktop/text_40\\\\A-1-16.txt',\n",
       " 'C:/Users/Owner/Desktop/text_40\\\\A-1-17.txt',\n",
       " 'C:/Users/Owner/Desktop/text_40\\\\A-1-18.txt',\n",
       " 'C:/Users/Owner/Desktop/text_40\\\\A-1-19.txt',\n",
       " 'C:/Users/Owner/Desktop/text_40\\\\A-1-2.txt',\n",
       " 'C:/Users/Owner/Desktop/text_40\\\\A-1-20.txt',\n",
       " 'C:/Users/Owner/Desktop/text_40\\\\A-1-21.txt',\n",
       " 'C:/Users/Owner/Desktop/text_40\\\\A-1-22.txt',\n",
       " 'C:/Users/Owner/Desktop/text_40\\\\A-1-23.txt',\n",
       " 'C:/Users/Owner/Desktop/text_40\\\\A-1-24.txt',\n",
       " 'C:/Users/Owner/Desktop/text_40\\\\A-1-25.txt',\n",
       " 'C:/Users/Owner/Desktop/text_40\\\\A-1-26.txt',\n",
       " 'C:/Users/Owner/Desktop/text_40\\\\A-1-27.txt',\n",
       " 'C:/Users/Owner/Desktop/text_40\\\\A-1-28.txt',\n",
       " 'C:/Users/Owner/Desktop/text_40\\\\A-1-29.txt',\n",
       " 'C:/Users/Owner/Desktop/text_40\\\\A-1-3.txt',\n",
       " 'C:/Users/Owner/Desktop/text_40\\\\A-1-30.txt',\n",
       " 'C:/Users/Owner/Desktop/text_40\\\\A-1-31.txt',\n",
       " 'C:/Users/Owner/Desktop/text_40\\\\A-1-32.txt',\n",
       " 'C:/Users/Owner/Desktop/text_40\\\\A-1-33.txt',\n",
       " 'C:/Users/Owner/Desktop/text_40\\\\A-1-34.txt',\n",
       " 'C:/Users/Owner/Desktop/text_40\\\\A-1-35.txt',\n",
       " 'C:/Users/Owner/Desktop/text_40\\\\A-1-36.txt',\n",
       " 'C:/Users/Owner/Desktop/text_40\\\\A-1-37.txt',\n",
       " 'C:/Users/Owner/Desktop/text_40\\\\A-1-38.txt',\n",
       " 'C:/Users/Owner/Desktop/text_40\\\\A-1-39.txt',\n",
       " 'C:/Users/Owner/Desktop/text_40\\\\A-1-4.txt',\n",
       " 'C:/Users/Owner/Desktop/text_40\\\\A-1-40.txt',\n",
       " 'C:/Users/Owner/Desktop/text_40\\\\A-1-5.txt',\n",
       " 'C:/Users/Owner/Desktop/text_40\\\\A-1-6.txt',\n",
       " 'C:/Users/Owner/Desktop/text_40\\\\A-1-7.txt',\n",
       " 'C:/Users/Owner/Desktop/text_40\\\\A-1-8.txt',\n",
       " 'C:/Users/Owner/Desktop/text_40\\\\A-1-9.txt',\n",
       " 'C:/Users/Owner/Desktop/text_40\\\\A-2-1.txt',\n",
       " 'C:/Users/Owner/Desktop/text_40\\\\A-2-10.txt',\n",
       " 'C:/Users/Owner/Desktop/text_40\\\\A-2-11.txt',\n",
       " 'C:/Users/Owner/Desktop/text_40\\\\A-2-12.txt',\n",
       " 'C:/Users/Owner/Desktop/text_40\\\\A-2-13.txt',\n",
       " 'C:/Users/Owner/Desktop/text_40\\\\A-2-14.txt',\n",
       " 'C:/Users/Owner/Desktop/text_40\\\\A-2-15.txt',\n",
       " 'C:/Users/Owner/Desktop/text_40\\\\A-2-16.txt',\n",
       " 'C:/Users/Owner/Desktop/text_40\\\\A-2-17.txt',\n",
       " 'C:/Users/Owner/Desktop/text_40\\\\A-2-18.txt',\n",
       " 'C:/Users/Owner/Desktop/text_40\\\\A-2-19.txt',\n",
       " 'C:/Users/Owner/Desktop/text_40\\\\A-2-2.txt',\n",
       " 'C:/Users/Owner/Desktop/text_40\\\\A-2-20.txt',\n",
       " 'C:/Users/Owner/Desktop/text_40\\\\A-2-21.txt',\n",
       " 'C:/Users/Owner/Desktop/text_40\\\\A-2-22.txt',\n",
       " 'C:/Users/Owner/Desktop/text_40\\\\A-2-23.txt',\n",
       " 'C:/Users/Owner/Desktop/text_40\\\\A-2-24.txt',\n",
       " 'C:/Users/Owner/Desktop/text_40\\\\A-2-25.txt',\n",
       " 'C:/Users/Owner/Desktop/text_40\\\\A-2-26.txt',\n",
       " 'C:/Users/Owner/Desktop/text_40\\\\A-2-27.txt',\n",
       " 'C:/Users/Owner/Desktop/text_40\\\\A-2-28.txt',\n",
       " 'C:/Users/Owner/Desktop/text_40\\\\A-2-29.txt',\n",
       " 'C:/Users/Owner/Desktop/text_40\\\\A-2-3.txt',\n",
       " 'C:/Users/Owner/Desktop/text_40\\\\A-2-30.txt',\n",
       " 'C:/Users/Owner/Desktop/text_40\\\\A-2-31.txt',\n",
       " 'C:/Users/Owner/Desktop/text_40\\\\A-2-32.txt',\n",
       " 'C:/Users/Owner/Desktop/text_40\\\\A-2-33.txt',\n",
       " 'C:/Users/Owner/Desktop/text_40\\\\A-2-34.txt',\n",
       " 'C:/Users/Owner/Desktop/text_40\\\\A-2-35.txt',\n",
       " 'C:/Users/Owner/Desktop/text_40\\\\A-2-36.txt',\n",
       " 'C:/Users/Owner/Desktop/text_40\\\\A-2-37.txt',\n",
       " 'C:/Users/Owner/Desktop/text_40\\\\A-2-38.txt',\n",
       " 'C:/Users/Owner/Desktop/text_40\\\\A-2-39.txt',\n",
       " 'C:/Users/Owner/Desktop/text_40\\\\A-2-4.txt',\n",
       " 'C:/Users/Owner/Desktop/text_40\\\\A-2-40.txt',\n",
       " 'C:/Users/Owner/Desktop/text_40\\\\A-2-5.txt',\n",
       " 'C:/Users/Owner/Desktop/text_40\\\\A-2-6.txt',\n",
       " 'C:/Users/Owner/Desktop/text_40\\\\A-2-7.txt',\n",
       " 'C:/Users/Owner/Desktop/text_40\\\\A-2-8.txt',\n",
       " 'C:/Users/Owner/Desktop/text_40\\\\A-2-9.txt',\n",
       " 'C:/Users/Owner/Desktop/text_40\\\\A-3-1.txt',\n",
       " 'C:/Users/Owner/Desktop/text_40\\\\A-3-10.txt',\n",
       " 'C:/Users/Owner/Desktop/text_40\\\\A-3-11.txt',\n",
       " 'C:/Users/Owner/Desktop/text_40\\\\A-3-12.txt',\n",
       " 'C:/Users/Owner/Desktop/text_40\\\\A-3-13.txt',\n",
       " 'C:/Users/Owner/Desktop/text_40\\\\A-3-14.txt',\n",
       " 'C:/Users/Owner/Desktop/text_40\\\\A-3-15.txt',\n",
       " 'C:/Users/Owner/Desktop/text_40\\\\A-3-16.txt',\n",
       " 'C:/Users/Owner/Desktop/text_40\\\\A-3-17.txt',\n",
       " 'C:/Users/Owner/Desktop/text_40\\\\A-3-18.txt',\n",
       " 'C:/Users/Owner/Desktop/text_40\\\\A-3-19.txt',\n",
       " 'C:/Users/Owner/Desktop/text_40\\\\A-3-2.txt',\n",
       " 'C:/Users/Owner/Desktop/text_40\\\\A-3-20.txt',\n",
       " 'C:/Users/Owner/Desktop/text_40\\\\A-3-21.txt',\n",
       " 'C:/Users/Owner/Desktop/text_40\\\\A-3-22.txt',\n",
       " 'C:/Users/Owner/Desktop/text_40\\\\A-3-23.txt',\n",
       " 'C:/Users/Owner/Desktop/text_40\\\\A-3-24.txt',\n",
       " 'C:/Users/Owner/Desktop/text_40\\\\A-3-25.txt',\n",
       " 'C:/Users/Owner/Desktop/text_40\\\\A-3-26.txt',\n",
       " 'C:/Users/Owner/Desktop/text_40\\\\A-3-27.txt',\n",
       " 'C:/Users/Owner/Desktop/text_40\\\\A-3-28.txt',\n",
       " 'C:/Users/Owner/Desktop/text_40\\\\A-3-29.txt',\n",
       " 'C:/Users/Owner/Desktop/text_40\\\\A-3-3.txt',\n",
       " 'C:/Users/Owner/Desktop/text_40\\\\A-3-30.txt',\n",
       " 'C:/Users/Owner/Desktop/text_40\\\\A-3-31.txt',\n",
       " 'C:/Users/Owner/Desktop/text_40\\\\A-3-32.txt',\n",
       " 'C:/Users/Owner/Desktop/text_40\\\\A-3-33.txt',\n",
       " 'C:/Users/Owner/Desktop/text_40\\\\A-3-34.txt',\n",
       " 'C:/Users/Owner/Desktop/text_40\\\\A-3-35.txt',\n",
       " 'C:/Users/Owner/Desktop/text_40\\\\A-3-36.txt',\n",
       " 'C:/Users/Owner/Desktop/text_40\\\\A-3-37.txt',\n",
       " 'C:/Users/Owner/Desktop/text_40\\\\A-3-38.txt',\n",
       " 'C:/Users/Owner/Desktop/text_40\\\\A-3-39.txt',\n",
       " 'C:/Users/Owner/Desktop/text_40\\\\A-3-4.txt',\n",
       " 'C:/Users/Owner/Desktop/text_40\\\\A-3-40.txt',\n",
       " 'C:/Users/Owner/Desktop/text_40\\\\A-3-5.txt',\n",
       " 'C:/Users/Owner/Desktop/text_40\\\\A-3-6.txt',\n",
       " 'C:/Users/Owner/Desktop/text_40\\\\A-3-7.txt',\n",
       " 'C:/Users/Owner/Desktop/text_40\\\\A-3-8.txt',\n",
       " 'C:/Users/Owner/Desktop/text_40\\\\A-3-9.txt',\n",
       " 'C:/Users/Owner/Desktop/text_40\\\\A-4-1.txt',\n",
       " 'C:/Users/Owner/Desktop/text_40\\\\A-4-10.txt',\n",
       " 'C:/Users/Owner/Desktop/text_40\\\\A-4-11.txt',\n",
       " 'C:/Users/Owner/Desktop/text_40\\\\A-4-12.txt',\n",
       " 'C:/Users/Owner/Desktop/text_40\\\\A-4-13.txt',\n",
       " 'C:/Users/Owner/Desktop/text_40\\\\A-4-14.txt',\n",
       " 'C:/Users/Owner/Desktop/text_40\\\\A-4-15.txt',\n",
       " 'C:/Users/Owner/Desktop/text_40\\\\A-4-16.txt',\n",
       " 'C:/Users/Owner/Desktop/text_40\\\\A-4-17.txt',\n",
       " 'C:/Users/Owner/Desktop/text_40\\\\A-4-18.txt',\n",
       " 'C:/Users/Owner/Desktop/text_40\\\\A-4-19.txt',\n",
       " 'C:/Users/Owner/Desktop/text_40\\\\A-4-2.txt',\n",
       " 'C:/Users/Owner/Desktop/text_40\\\\A-4-20.txt',\n",
       " 'C:/Users/Owner/Desktop/text_40\\\\A-4-21.txt',\n",
       " 'C:/Users/Owner/Desktop/text_40\\\\A-4-22.txt',\n",
       " 'C:/Users/Owner/Desktop/text_40\\\\A-4-23.txt',\n",
       " 'C:/Users/Owner/Desktop/text_40\\\\A-4-24.txt',\n",
       " 'C:/Users/Owner/Desktop/text_40\\\\A-4-25.txt',\n",
       " 'C:/Users/Owner/Desktop/text_40\\\\A-4-26.txt',\n",
       " 'C:/Users/Owner/Desktop/text_40\\\\A-4-27.txt',\n",
       " 'C:/Users/Owner/Desktop/text_40\\\\A-4-28.txt',\n",
       " 'C:/Users/Owner/Desktop/text_40\\\\A-4-29.txt',\n",
       " 'C:/Users/Owner/Desktop/text_40\\\\A-4-3.txt',\n",
       " 'C:/Users/Owner/Desktop/text_40\\\\A-4-30.txt',\n",
       " 'C:/Users/Owner/Desktop/text_40\\\\A-4-31.txt',\n",
       " 'C:/Users/Owner/Desktop/text_40\\\\A-4-32.txt',\n",
       " 'C:/Users/Owner/Desktop/text_40\\\\A-4-33.txt',\n",
       " 'C:/Users/Owner/Desktop/text_40\\\\A-4-34.txt',\n",
       " 'C:/Users/Owner/Desktop/text_40\\\\A-4-35.txt',\n",
       " 'C:/Users/Owner/Desktop/text_40\\\\A-4-36.txt',\n",
       " 'C:/Users/Owner/Desktop/text_40\\\\A-4-37.txt',\n",
       " 'C:/Users/Owner/Desktop/text_40\\\\A-4-38.txt',\n",
       " 'C:/Users/Owner/Desktop/text_40\\\\A-4-39.txt',\n",
       " 'C:/Users/Owner/Desktop/text_40\\\\A-4-4.txt',\n",
       " 'C:/Users/Owner/Desktop/text_40\\\\A-4-40.txt',\n",
       " 'C:/Users/Owner/Desktop/text_40\\\\A-4-5.txt',\n",
       " 'C:/Users/Owner/Desktop/text_40\\\\A-4-6.txt',\n",
       " 'C:/Users/Owner/Desktop/text_40\\\\A-4-7.txt',\n",
       " 'C:/Users/Owner/Desktop/text_40\\\\A-4-8.txt',\n",
       " 'C:/Users/Owner/Desktop/text_40\\\\A-4-9.txt']"
      ]
     },
     "execution_count": 3,
     "metadata": {},
     "output_type": "execute_result"
    }
   ],
   "source": [
    "a_list"
   ]
  },
  {
   "cell_type": "code",
   "execution_count": 8,
   "metadata": {},
   "outputs": [
    {
     "name": "stderr",
     "output_type": "stream",
     "text": [
      "C:\\Users\\Owner\\Anaconda3\\lib\\site-packages\\ipykernel_launcher.py:3: FutureWarning: Method .as_matrix will be removed in a future version. Use .values instead.\n",
      "  This is separate from the ipykernel package so we can avoid doing imports until\n",
      "C:\\Users\\Owner\\Anaconda3\\lib\\site-packages\\ipykernel_launcher.py:11: FutureWarning: Method .as_matrix will be removed in a future version. Use .values instead.\n",
      "  # This is added back by InteractiveShellApp.init_path()\n",
      "C:\\Users\\Owner\\Anaconda3\\lib\\site-packages\\ipykernel_launcher.py:14: FutureWarning: Method .as_matrix will be removed in a future version. Use .values instead.\n",
      "  \n"
     ]
    }
   ],
   "source": [
    "xls = pandas.read_csv(a_list[0], comment=\"#\", delimiter=\"\\t\", header=None)\n",
    "#xls = pandas.read_csv(co_list[0], usecols=4, delimiter=\"\\t\", header=None)\n",
    "col = xls.as_matrix()[:,0]\n",
    "\n",
    "j = 0\n",
    "for list_ in (a_list, c_list):\n",
    "#     print(list_)\n",
    "    for i, fname in enumerate (list_):\n",
    "        xls = pandas.read_csv(fname, comment=\"#\", delimiter=\"\\t\", header=None)\n",
    "        if j == 0:\n",
    "            arr = xls.as_matrix()[:,1]\n",
    "            hddr = os.path.split(fname)[1].split(\".\")[0]\n",
    "        else:\n",
    "            arr = numpy.vstack((arr, xls.as_matrix()[:,1]))\n",
    "            hddr = numpy.hstack((hddr, os.path.split(fname)[1].split(\".\")[0]))\n",
    "        j += 1"
   ]
  },
  {
   "cell_type": "code",
   "execution_count": 6,
   "metadata": {},
   "outputs": [],
   "source": [
    "import glob\n",
    "import os\n",
    "\n",
    "co_list = sorted(glob.glob(\"C:/Users/Owner/Desktop/混用布/CP*B*\"))\n",
    "c1_list = sorted(glob.glob(\"C:/Users/Owner/Desktop/混用布/CP*F*\"))\n",
    "#c2_list = sorted(glob.glob(\"C:/Users/Owner/Desktop/混用布/CP01B-*\"))\n",
    "#c3_list = sorted(glob.glob(\"C:/Users/Owner/Desktop/混用布/CP01B-*\"))\n",
    "#c4_list = sorted(glob.glob(\"C:/Users/Owner/Desktop/混用布/CP01B-*\"))\n",
    "#c5_list = sorted(glob.glob(\"C:/Users/Owner/Desktop/混用布/CP01B-*\"))\n",
    "#c6_list = sorted(glob.glob(\"C:/Users/Owner/Desktop/混用布/CP01B-*\"))\n",
    "#c7_list = sorted(glob.glob(\"C:/Users/Owner/Desktop/混用布/CP01B-*\"))\n",
    "#c8_list = sorted(glob.glob(\"C:/Users/Owner/Desktop/混用布/CP01B-*\"))\n",
    "#c9_list = sorted(glob.glob(\"C:/Users/Owner/Desktop/混用布/CP01B-*\"))\n",
    "#po_list = sorted(glob.glob(\"C:/Users/Owner/Desktop/混用布/CP01B-*\"))\n",
    "\n"
   ]
  },
  {
   "cell_type": "code",
   "execution_count": 15,
   "metadata": {},
   "outputs": [
    {
     "name": "stdout",
     "output_type": "stream",
     "text": [
      "C:/Users/Owner/Desktop/混用布\\CP01F1.txt\n"
     ]
    }
   ],
   "source": [
    "print(c1_list[0])"
   ]
  },
  {
   "cell_type": "code",
   "execution_count": 5,
   "metadata": {},
   "outputs": [],
   "source": [
    "tc1_list = sorted(glob.glob(\"C:/Users/Owner/Desktop/NN_project/test_data/2018.07.10/C9P1-*\"))\n",
    "tc2_list = sorted(glob.glob(\"C:/Users/Owner/Desktop/NN_project/test_data/2018.07.10/C8P2-*\"))\n",
    "tc3_list = sorted(glob.glob(\"C:/Users/Owner/Desktop/NN_project/test_data/2018.07.10/C7P3-*\"))\n",
    "tc4_list = sorted(glob.glob(\"C:/Users/Owner/Desktop/NN_project/test_data/2018.07.10/C6P4-*\"))\n",
    "tc5_list = sorted(glob.glob(\"C:/Users/Owner/Desktop/NN_project/test_data/2018.07.10/C5P5-*\"))\n",
    "tc6_list = sorted(glob.glob(\"C:/Users/Owner/Desktop/NN_project/test_data/2018.07.10/C6P4-*\"))\n",
    "tc7_list = sorted(glob.glob(\"C:/Users/Owner/Desktop/NN_project/test_data/2018.07.10/C7P3-*\"))\n",
    "tc8_list = sorted(glob.glob(\"C:/Users/Owner/Desktop/NN_project/test_data/2018.07.10/C8P2-*\"))\n",
    "tc9_list = sorted(glob.glob(\"C:/Users/Owner/Desktop/NN_project/test_data/2018.07.10/C9P1-*\"))\n",
    "tco_list = sorted(glob.glob(\"C:/Users/Owner/Desktop/NN_project/test_data/2018.07.10/cotton-*\"))\n",
    "tpo_list = sorted(glob.glob(\"C:/Users/Owner/Desktop/NN_project/test_data/2018.07.10/poly-*\"))"
   ]
  },
  {
   "cell_type": "code",
   "execution_count": 9,
   "metadata": {},
   "outputs": [
    {
     "name": "stdout",
     "output_type": "stream",
     "text": [
      "(1249, 1713) (1713,) (1249,)\n"
     ]
    }
   ],
   "source": [
    "print(arr.shape, col.shape, hddr.shape)"
   ]
  },
  {
   "cell_type": "code",
   "execution_count": 10,
   "metadata": {},
   "outputs": [],
   "source": [
    "df = pandas.DataFrame(data=arr.T,  # spectra, reference\n",
    "                      index=col,  # wavenumber\n",
    "                      columns=hddr)  # file name"
   ]
  },
  {
   "cell_type": "code",
   "execution_count": 11,
   "metadata": {},
   "outputs": [],
   "source": [
    "df.to_excel(\"C:/Users/Owner/Desktop/yasuda.xlsx\")"
   ]
  },
  {
   "cell_type": "code",
   "execution_count": 12,
   "metadata": {},
   "outputs": [],
   "source": [
    "import easy_chainer\n",
    "import numpy"
   ]
  },
  {
   "cell_type": "code",
   "execution_count": 6,
   "metadata": {},
   "outputs": [
    {
     "name": "stdout",
     "output_type": "stream",
     "text": [
      "[ 0.  0.  0.  0.  0.  0.  0.  0.  0.  0.  1.  1.  1.  1.  1.  1.  1.  1.\n",
      "  1.  1.  2.  2.  2.  2.  2.  2.  2.  2.  2.  2.  3.  3.  3.  3.  3.  3.\n",
      "  3.  3.  3.  3.  4.  4.  4.  4.  4.  4.  4.  4.  4.  4.  5.  5.  5.  5.\n",
      "  5.  5.  5.  5.  5.  5.  6.  6.  6.  6.  6.  6.  6.  6.  6.  6.  7.  7.\n",
      "  7.  7.  7.  7.  7.  7.  7.  7.  8.  8.  8.  8.  8.  8.  8.  8.  8.  8.\n",
      "  9.  9.  9.  9.  9.  9.  9.  9.  9.  9. 10. 10. 10. 10. 10. 10. 10. 10.\n",
      " 10. 10.]\n"
     ]
    },
    {
     "name": "stderr",
     "output_type": "stream",
     "text": [
      "C:\\Users\\Owner\\Desktop\\jupyter File\\easy_chainer.py:87: FutureWarning: Method .as_matrix will be removed in a future version. Use .values instead.\n",
      "  data = xls.as_matrix()[:-1]\n",
      "C:\\Users\\Owner\\Desktop\\jupyter File\\easy_chainer.py:88: FutureWarning: Method .as_matrix will be removed in a future version. Use .values instead.\n",
      "  teach = xls.as_matrix()[-1]\n"
     ]
    }
   ],
   "source": [
    "data, teach = easy_chainer.load_Data(\"C:/Users/Owner/Desktop/NN_project/regression/cp.xlsx\")\n",
    "data = data.astype(numpy.float32)\n",
    "teach = teach\n",
    "print(teach)"
   ]
  },
  {
   "cell_type": "code",
   "execution_count": 8,
   "metadata": {},
   "outputs": [
    {
     "data": {
      "text/plain": [
       "(array([10, 10, 10, 10, 10, 10, 10, 10, 10, 10, 10], dtype=int64),\n",
       " array([ 0.        ,  0.90909091,  1.81818182,  2.72727273,  3.63636364,\n",
       "         4.54545455,  5.45454545,  6.36363636,  7.27272727,  8.18181818,\n",
       "         9.09090909, 10.        ]))"
      ]
     },
     "execution_count": 8,
     "metadata": {},
     "output_type": "execute_result"
    }
   ],
   "source": [
    "teach = teach.astype(numpy.int8)\n",
    "teach_bins = numpy.histogram(teach, bins=numpy.max(teach) + 1)\n",
    "teach_bins"
   ]
  },
  {
   "cell_type": "code",
   "execution_count": 9,
   "metadata": {},
   "outputs": [],
   "source": [
    "k = 7\n",
    "\n",
    "\n",
    "for i in range(int(max(teach) + 1)):\n",
    "    tmp0_arr = numpy.where(teach == i)[0]\n",
    "    try:\n",
    "        tmp0 = numpy.random.choice(tmp0_arr, int(k), replace=False)\n",
    "        if i == 0:\n",
    "            id_train = tmp0\n",
    "        else:\n",
    "            id_train = numpy.hstack((id_train, tmp0))\n",
    "    except Exception:\n",
    "        print(\"Not teach\")"
   ]
  },
  {
   "cell_type": "code",
   "execution_count": 10,
   "metadata": {},
   "outputs": [
    {
     "data": {
      "text/plain": [
       "array([  7,   6,   9,   4,   1,   5,   2,  16,  11,  12,  10,  18,  19,\n",
       "        13,  20,  22,  27,  29,  23,  24,  25,  32,  35,  30,  33,  36,\n",
       "        38,  39,  43,  45,  44,  47,  41,  49,  42,  57,  56,  59,  51,\n",
       "        55,  52,  53,  60,  64,  67,  65,  61,  62,  63,  77,  78,  79,\n",
       "        75,  74,  72,  73,  85,  82,  80,  88,  86,  87,  89,  92,  95,\n",
       "        91,  97,  96,  94,  93, 101, 102, 103, 104, 109, 105, 108],\n",
       "      dtype=int64)"
      ]
     },
     "execution_count": 10,
     "metadata": {},
     "output_type": "execute_result"
    }
   ],
   "source": [
    "id_train"
   ]
  },
  {
   "cell_type": "code",
   "execution_count": 11,
   "metadata": {},
   "outputs": [
    {
     "name": "stdout",
     "output_type": "stream",
     "text": [
      "[  0   3   8  14  15  17  21  26  28  31  34  37  40  46  48  50  54  58\n",
      "  66  68  69  70  71  76  81  83  84  90  98  99 100 106 107]\n"
     ]
    }
   ],
   "source": [
    "id_all = numpy.arange(1, len(teach) + 1, 1).astype(numpy.int32) - 1\n",
    "# print(id_all)\n",
    "id_test = numpy.delete(id_all, id_train)\n",
    "print(id_test)"
   ]
  },
  {
   "cell_type": "code",
   "execution_count": 16,
   "metadata": {},
   "outputs": [
    {
     "data": {
      "text/plain": [
       "array([ 0,  0,  0,  1,  1,  1,  2,  2,  2,  3,  3,  3,  4,  4,  4,  5,  5,\n",
       "        5,  6,  6,  6,  7,  7,  7,  8,  8,  8,  9,  9,  9, 10, 10, 10],\n",
       "      dtype=int8)"
      ]
     },
     "execution_count": 16,
     "metadata": {},
     "output_type": "execute_result"
    }
   ],
   "source": [
    "teach[id_test]"
   ]
  },
  {
   "cell_type": "code",
   "execution_count": 13,
   "metadata": {},
   "outputs": [],
   "source": [
    "x_train, y_train = data[:, id_train], teach[id_train]\n",
    "x_test, y_test = data[:, id_test], teach[id_test]"
   ]
  },
  {
   "cell_type": "code",
   "execution_count": 14,
   "metadata": {},
   "outputs": [
    {
     "name": "stdout",
     "output_type": "stream",
     "text": [
      "(77,)\n",
      "(33,)\n"
     ]
    }
   ],
   "source": [
    "y_train = y_train.astype(numpy.float32)\n",
    "\n",
    "y_test = y_test.astype(numpy.float32)\n",
    "print(y_train.shape)\n",
    "print(y_test.shape)"
   ]
  },
  {
   "cell_type": "code",
   "execution_count": 77,
   "metadata": {},
   "outputs": [
    {
     "data": {
      "text/plain": [
       "array([ 0.,  0.,  0.,  0.,  0.,  0.,  0.,  1.,  1.,  1.,  1.,  1.,  1.,\n",
       "        1.,  2.,  2.,  2.,  2.,  2.,  2.,  2.,  3.,  3.,  3.,  3.,  3.,\n",
       "        3.,  3.,  4.,  4.,  4.,  4.,  4.,  4.,  4.,  5.,  5.,  5.,  5.,\n",
       "        5.,  5.,  5.,  6.,  6.,  6.,  6.,  6.,  6.,  6.,  7.,  7.,  7.,\n",
       "        7.,  7.,  7.,  7.,  8.,  8.,  8.,  8.,  8.,  8.,  8.,  9.,  9.,\n",
       "        9.,  9.,  9.,  9.,  9., 10., 10., 10., 10., 10., 10., 10.],\n",
       "      dtype=float32)"
      ]
     },
     "execution_count": 77,
     "metadata": {},
     "output_type": "execute_result"
    }
   ],
   "source": [
    "y_train\n"
   ]
  },
  {
   "cell_type": "code",
   "execution_count": 15,
   "metadata": {},
   "outputs": [
    {
     "name": "stdout",
     "output_type": "stream",
     "text": [
      "(110,)\n"
     ]
    }
   ],
   "source": [
    "teach = teach.astype(numpy.int8)  # float64 ==> float32\n",
    "print(teach.shape)"
   ]
  },
  {
   "cell_type": "code",
   "execution_count": 78,
   "metadata": {},
   "outputs": [],
   "source": [
    "train = tuple_dataset.TupleDataset(x_train.T, y_train.reshape(-1, ))\n",
    "test = tuple_dataset.TupleDataset(x_test.T, y_test.reshape(-1, ))\n",
    "\n",
    "train_iter = chainer.iterators.SerialIterator(train, 77)\n",
    "test_iter = chainer.iterators.SerialIterator(test, 33, repeat=False, shuffle=False)"
   ]
  },
  {
   "cell_type": "code",
   "execution_count": 79,
   "metadata": {},
   "outputs": [],
   "source": [
    "class MLP(chainer.Chain):\n",
    "    def __init__(self, n_units, n_out):\n",
    "        super (MLP, self).__init__()\n",
    "        with self.init_scope():\n",
    "            self.l1 = L.Linear(None, n_units)\n",
    "            self.l2 = L.Linear(None, n_units)\n",
    "            self.l3 = L.Linear(None, n_out)\n",
    "            \n",
    "    def __call__(self, x):\n",
    "        h1 = F.relu(self.l1(x))\n",
    "        h2 = F.relu(self.l2(h1))\n",
    "        return self.l3(h2)"
   ]
  },
  {
   "cell_type": "code",
   "execution_count": 80,
   "metadata": {},
   "outputs": [],
   "source": [
    "model = L.Classifier(MLP(1000,1),\n",
    "                     lossfun=F.mean_squared_error,\n",
    "                     accfun=F.r2_score)"
   ]
  },
  {
   "cell_type": "code",
   "execution_count": 81,
   "metadata": {},
   "outputs": [
    {
     "data": {
      "text/plain": [
       "<chainer.optimizers.sgd.SGD at 0x23a795512e8>"
      ]
     },
     "execution_count": 81,
     "metadata": {},
     "output_type": "execute_result"
    }
   ],
   "source": [
    "optimizer = chainer.optimizers.SGD()\n",
    "optimizer.setup(model)\n"
   ]
  },
  {
   "cell_type": "code",
   "execution_count": 85,
   "metadata": {},
   "outputs": [],
   "source": [
    "updater = training.updaters.StandardUpdater(train_iter, optimizer)\n",
    "trainer = training.Trainer(updater, (20, 'epoch'), out=\"Result2018_oono/%s\" % time.strftime(\"%Y%m%d%H%M%S\"))"
   ]
  },
  {
   "cell_type": "code",
   "execution_count": 83,
   "metadata": {},
   "outputs": [],
   "source": [
    "# Evaluate the model with the test dataset for each epoch\n",
    "trainer.extend(extensions.Evaluator(test_iter, model))\n",
    "\n",
    "# Dump a computational graph from 'loss' variable at the first iteration\n",
    "# The \"main\" refers to the target link of the \"main\" optimizer.\n",
    "trainer.extend(extensions.dump_graph('main/loss'))\n",
    "\n",
    "# Take a snapshot for each specified epoch\n",
    "# frequency = args.epoch if args.frequency == -1 else max(1, args.frequency)\n",
    "# trainer.extend(extensions.snapshot(), trigger=(frequency, 'epoch'))\n",
    "\n",
    "# Write a log of evaluation statistics for each epoch\n",
    "trainer.extend(extensions.LogReport())\n",
    "\n",
    "# Save two plot images to the result dir\n",
    "trainer.extend(\n",
    "    extensions.PlotReport(['main/loss', 'validation/main/loss'],\n",
    "                          'epoch', file_name='loss.png'))\n",
    "trainer.extend(\n",
    "    extensions.PlotReport(\n",
    "        ['main/accuracy', 'validation/main/accuracy'],\n",
    "        'epoch', file_name='accuracy.png'))\n",
    "\n",
    "# Print selected entries of the log to stdout\n",
    "# Here \"main\" refers to the target link of the \"main\" optimizer again, and\n",
    "# \"validation\" refers to the default name of the Evaluator extension.\n",
    "# Entries other than 'epoch' are reported by the Classifier link, called by\n",
    "# either the updater or the evaluator.\n",
    "trainer.extend(extensions.PrintReport(\n",
    "    ['epoch', 'main/loss', 'validation/main/loss',\n",
    "     'main/accuracy', 'validation/main/accuracy', 'elapsed_time']))\n",
    "\n",
    "# Print a progress bar to stdout\n",
    "trainer.extend(extensions.ProgressBar())\n",
    "\n",
    "# if args.resume:\n",
    "#     # Resume from a snapshot\n",
    "#     chainer.serializers.load_npz(args.resume, trainer)\n"
   ]
  },
  {
   "cell_type": "code",
   "execution_count": 84,
   "metadata": {},
   "outputs": [
    {
     "name": "stderr",
     "output_type": "stream",
     "text": [
      "Exception in main training loop: \n",
      "Invalid operation is performed in: MeanSquaredError (Forward)\n",
      "\n",
      "Expect: x0.shape == x1.shape\n",
      "Actual: (77, 1) != (77,)\n",
      "Traceback (most recent call last):\n",
      "  File \"C:\\Users\\Owner\\Anaconda3\\lib\\site-packages\\chainer\\training\\trainer.py\", line 315, in run\n",
      "    update()\n",
      "  File \"C:\\Users\\Owner\\Anaconda3\\lib\\site-packages\\chainer\\training\\updaters\\standard_updater.py\", line 165, in update\n",
      "    self.update_core()\n",
      "  File \"C:\\Users\\Owner\\Anaconda3\\lib\\site-packages\\chainer\\training\\updaters\\standard_updater.py\", line 177, in update_core\n",
      "    optimizer.update(loss_func, *in_arrays)\n",
      "  File \"C:\\Users\\Owner\\Anaconda3\\lib\\site-packages\\chainer\\optimizer.py\", line 680, in update\n",
      "    loss = lossfun(*args, **kwds)\n",
      "  File \"C:\\Users\\Owner\\Anaconda3\\lib\\site-packages\\chainer\\link.py\", line 242, in __call__\n",
      "    out = forward(*args, **kwargs)\n",
      "  File \"C:\\Users\\Owner\\Anaconda3\\lib\\site-packages\\chainer\\links\\model\\classifier.py\", line 144, in forward\n",
      "    self.loss = self.lossfun(self.y, t)\n",
      "  File \"C:\\Users\\Owner\\Anaconda3\\lib\\site-packages\\chainer\\functions\\loss\\mean_squared_error.py\", line 61, in mean_squared_error\n",
      "    return MeanSquaredError().apply((x0, x1))[0]\n",
      "  File \"C:\\Users\\Owner\\Anaconda3\\lib\\site-packages\\chainer\\function_node.py\", line 245, in apply\n",
      "    self._check_data_type_forward(in_data)\n",
      "  File \"C:\\Users\\Owner\\Anaconda3\\lib\\site-packages\\chainer\\function_node.py\", line 330, in _check_data_type_forward\n",
      "    self.check_type_forward(in_type)\n",
      "  File \"C:\\Users\\Owner\\Anaconda3\\lib\\site-packages\\chainer\\functions\\loss\\mean_squared_error.py\", line 17, in check_type_forward\n",
      "    in_types[0].shape == in_types[1].shape\n",
      "  File \"C:\\Users\\Owner\\Anaconda3\\lib\\site-packages\\chainer\\utils\\type_check.py\", line 546, in expect\n",
      "    expr.expect()\n",
      "  File \"C:\\Users\\Owner\\Anaconda3\\lib\\site-packages\\chainer\\utils\\type_check.py\", line 483, in expect\n",
      "    '{0} {1} {2}'.format(left, self.inv, right))\n",
      "Will finalize trainer extensions and updater before reraising the exception.\n"
     ]
    },
    {
     "ename": "InvalidType",
     "evalue": "\nInvalid operation is performed in: MeanSquaredError (Forward)\n\nExpect: x0.shape == x1.shape\nActual: (77, 1) != (77,)",
     "output_type": "error",
     "traceback": [
      "\u001b[1;31m---------------------------------------------------------------------------\u001b[0m",
      "\u001b[1;31mInvalidType\u001b[0m                               Traceback (most recent call last)",
      "\u001b[1;32m<ipython-input-84-041e2033e90a>\u001b[0m in \u001b[0;36m<module>\u001b[1;34m()\u001b[0m\n\u001b[1;32m----> 1\u001b[1;33m \u001b[0mtrainer\u001b[0m\u001b[1;33m.\u001b[0m\u001b[0mrun\u001b[0m\u001b[1;33m(\u001b[0m\u001b[1;33m)\u001b[0m\u001b[1;33m\u001b[0m\u001b[0m\n\u001b[0m",
      "\u001b[1;32m~\\Anaconda3\\lib\\site-packages\\chainer\\training\\trainer.py\u001b[0m in \u001b[0;36mrun\u001b[1;34m(self, show_loop_exception_msg)\u001b[0m\n\u001b[0;32m    327\u001b[0m                 f.write('Will finalize trainer extensions and updater before '\n\u001b[0;32m    328\u001b[0m                         'reraising the exception.\\n')\n\u001b[1;32m--> 329\u001b[1;33m             \u001b[0msix\u001b[0m\u001b[1;33m.\u001b[0m\u001b[0mreraise\u001b[0m\u001b[1;33m(\u001b[0m\u001b[1;33m*\u001b[0m\u001b[0msys\u001b[0m\u001b[1;33m.\u001b[0m\u001b[0mexc_info\u001b[0m\u001b[1;33m(\u001b[0m\u001b[1;33m)\u001b[0m\u001b[1;33m)\u001b[0m\u001b[1;33m\u001b[0m\u001b[0m\n\u001b[0m\u001b[0;32m    330\u001b[0m         \u001b[1;32mfinally\u001b[0m\u001b[1;33m:\u001b[0m\u001b[1;33m\u001b[0m\u001b[0m\n\u001b[0;32m    331\u001b[0m             \u001b[1;32mfor\u001b[0m \u001b[0m_\u001b[0m\u001b[1;33m,\u001b[0m \u001b[0mentry\u001b[0m \u001b[1;32min\u001b[0m \u001b[0mextensions\u001b[0m\u001b[1;33m:\u001b[0m\u001b[1;33m\u001b[0m\u001b[0m\n",
      "\u001b[1;32m~\\Anaconda3\\lib\\site-packages\\six.py\u001b[0m in \u001b[0;36mreraise\u001b[1;34m(tp, value, tb)\u001b[0m\n\u001b[0;32m    691\u001b[0m             \u001b[1;32mif\u001b[0m \u001b[0mvalue\u001b[0m\u001b[1;33m.\u001b[0m\u001b[0m__traceback__\u001b[0m \u001b[1;32mis\u001b[0m \u001b[1;32mnot\u001b[0m \u001b[0mtb\u001b[0m\u001b[1;33m:\u001b[0m\u001b[1;33m\u001b[0m\u001b[0m\n\u001b[0;32m    692\u001b[0m                 \u001b[1;32mraise\u001b[0m \u001b[0mvalue\u001b[0m\u001b[1;33m.\u001b[0m\u001b[0mwith_traceback\u001b[0m\u001b[1;33m(\u001b[0m\u001b[0mtb\u001b[0m\u001b[1;33m)\u001b[0m\u001b[1;33m\u001b[0m\u001b[0m\n\u001b[1;32m--> 693\u001b[1;33m             \u001b[1;32mraise\u001b[0m \u001b[0mvalue\u001b[0m\u001b[1;33m\u001b[0m\u001b[0m\n\u001b[0m\u001b[0;32m    694\u001b[0m         \u001b[1;32mfinally\u001b[0m\u001b[1;33m:\u001b[0m\u001b[1;33m\u001b[0m\u001b[0m\n\u001b[0;32m    695\u001b[0m             \u001b[0mvalue\u001b[0m \u001b[1;33m=\u001b[0m \u001b[1;32mNone\u001b[0m\u001b[1;33m\u001b[0m\u001b[0m\n",
      "\u001b[1;32m~\\Anaconda3\\lib\\site-packages\\chainer\\training\\trainer.py\u001b[0m in \u001b[0;36mrun\u001b[1;34m(self, show_loop_exception_msg)\u001b[0m\n\u001b[0;32m    313\u001b[0m                 \u001b[0mself\u001b[0m\u001b[1;33m.\u001b[0m\u001b[0mobservation\u001b[0m \u001b[1;33m=\u001b[0m \u001b[1;33m{\u001b[0m\u001b[1;33m}\u001b[0m\u001b[1;33m\u001b[0m\u001b[0m\n\u001b[0;32m    314\u001b[0m                 \u001b[1;32mwith\u001b[0m \u001b[0mreporter\u001b[0m\u001b[1;33m.\u001b[0m\u001b[0mscope\u001b[0m\u001b[1;33m(\u001b[0m\u001b[0mself\u001b[0m\u001b[1;33m.\u001b[0m\u001b[0mobservation\u001b[0m\u001b[1;33m)\u001b[0m\u001b[1;33m:\u001b[0m\u001b[1;33m\u001b[0m\u001b[0m\n\u001b[1;32m--> 315\u001b[1;33m                     \u001b[0mupdate\u001b[0m\u001b[1;33m(\u001b[0m\u001b[1;33m)\u001b[0m\u001b[1;33m\u001b[0m\u001b[0m\n\u001b[0m\u001b[0;32m    316\u001b[0m                     \u001b[1;32mfor\u001b[0m \u001b[0mname\u001b[0m\u001b[1;33m,\u001b[0m \u001b[0mentry\u001b[0m \u001b[1;32min\u001b[0m \u001b[0mextensions\u001b[0m\u001b[1;33m:\u001b[0m\u001b[1;33m\u001b[0m\u001b[0m\n\u001b[0;32m    317\u001b[0m                         \u001b[1;32mif\u001b[0m \u001b[0mentry\u001b[0m\u001b[1;33m.\u001b[0m\u001b[0mtrigger\u001b[0m\u001b[1;33m(\u001b[0m\u001b[0mself\u001b[0m\u001b[1;33m)\u001b[0m\u001b[1;33m:\u001b[0m\u001b[1;33m\u001b[0m\u001b[0m\n",
      "\u001b[1;32m~\\Anaconda3\\lib\\site-packages\\chainer\\training\\updaters\\standard_updater.py\u001b[0m in \u001b[0;36mupdate\u001b[1;34m(self)\u001b[0m\n\u001b[0;32m    163\u001b[0m \u001b[1;33m\u001b[0m\u001b[0m\n\u001b[0;32m    164\u001b[0m         \"\"\"\n\u001b[1;32m--> 165\u001b[1;33m         \u001b[0mself\u001b[0m\u001b[1;33m.\u001b[0m\u001b[0mupdate_core\u001b[0m\u001b[1;33m(\u001b[0m\u001b[1;33m)\u001b[0m\u001b[1;33m\u001b[0m\u001b[0m\n\u001b[0m\u001b[0;32m    166\u001b[0m         \u001b[0mself\u001b[0m\u001b[1;33m.\u001b[0m\u001b[0miteration\u001b[0m \u001b[1;33m+=\u001b[0m \u001b[1;36m1\u001b[0m\u001b[1;33m\u001b[0m\u001b[0m\n\u001b[0;32m    167\u001b[0m \u001b[1;33m\u001b[0m\u001b[0m\n",
      "\u001b[1;32m~\\Anaconda3\\lib\\site-packages\\chainer\\training\\updaters\\standard_updater.py\u001b[0m in \u001b[0;36mupdate_core\u001b[1;34m(self)\u001b[0m\n\u001b[0;32m    175\u001b[0m \u001b[1;33m\u001b[0m\u001b[0m\n\u001b[0;32m    176\u001b[0m         \u001b[1;32mif\u001b[0m \u001b[0misinstance\u001b[0m\u001b[1;33m(\u001b[0m\u001b[0min_arrays\u001b[0m\u001b[1;33m,\u001b[0m \u001b[0mtuple\u001b[0m\u001b[1;33m)\u001b[0m\u001b[1;33m:\u001b[0m\u001b[1;33m\u001b[0m\u001b[0m\n\u001b[1;32m--> 177\u001b[1;33m             \u001b[0moptimizer\u001b[0m\u001b[1;33m.\u001b[0m\u001b[0mupdate\u001b[0m\u001b[1;33m(\u001b[0m\u001b[0mloss_func\u001b[0m\u001b[1;33m,\u001b[0m \u001b[1;33m*\u001b[0m\u001b[0min_arrays\u001b[0m\u001b[1;33m)\u001b[0m\u001b[1;33m\u001b[0m\u001b[0m\n\u001b[0m\u001b[0;32m    178\u001b[0m         \u001b[1;32melif\u001b[0m \u001b[0misinstance\u001b[0m\u001b[1;33m(\u001b[0m\u001b[0min_arrays\u001b[0m\u001b[1;33m,\u001b[0m \u001b[0mdict\u001b[0m\u001b[1;33m)\u001b[0m\u001b[1;33m:\u001b[0m\u001b[1;33m\u001b[0m\u001b[0m\n\u001b[0;32m    179\u001b[0m             \u001b[0moptimizer\u001b[0m\u001b[1;33m.\u001b[0m\u001b[0mupdate\u001b[0m\u001b[1;33m(\u001b[0m\u001b[0mloss_func\u001b[0m\u001b[1;33m,\u001b[0m \u001b[1;33m**\u001b[0m\u001b[0min_arrays\u001b[0m\u001b[1;33m)\u001b[0m\u001b[1;33m\u001b[0m\u001b[0m\n",
      "\u001b[1;32m~\\Anaconda3\\lib\\site-packages\\chainer\\optimizer.py\u001b[0m in \u001b[0;36mupdate\u001b[1;34m(self, lossfun, *args, **kwds)\u001b[0m\n\u001b[0;32m    678\u001b[0m         \u001b[1;32mif\u001b[0m \u001b[0mlossfun\u001b[0m \u001b[1;32mis\u001b[0m \u001b[1;32mnot\u001b[0m \u001b[1;32mNone\u001b[0m\u001b[1;33m:\u001b[0m\u001b[1;33m\u001b[0m\u001b[0m\n\u001b[0;32m    679\u001b[0m             \u001b[0muse_cleargrads\u001b[0m \u001b[1;33m=\u001b[0m \u001b[0mgetattr\u001b[0m\u001b[1;33m(\u001b[0m\u001b[0mself\u001b[0m\u001b[1;33m,\u001b[0m \u001b[1;34m'_use_cleargrads'\u001b[0m\u001b[1;33m,\u001b[0m \u001b[1;32mTrue\u001b[0m\u001b[1;33m)\u001b[0m\u001b[1;33m\u001b[0m\u001b[0m\n\u001b[1;32m--> 680\u001b[1;33m             \u001b[0mloss\u001b[0m \u001b[1;33m=\u001b[0m \u001b[0mlossfun\u001b[0m\u001b[1;33m(\u001b[0m\u001b[1;33m*\u001b[0m\u001b[0margs\u001b[0m\u001b[1;33m,\u001b[0m \u001b[1;33m**\u001b[0m\u001b[0mkwds\u001b[0m\u001b[1;33m)\u001b[0m\u001b[1;33m\u001b[0m\u001b[0m\n\u001b[0m\u001b[0;32m    681\u001b[0m             \u001b[1;32mif\u001b[0m \u001b[0muse_cleargrads\u001b[0m\u001b[1;33m:\u001b[0m\u001b[1;33m\u001b[0m\u001b[0m\n\u001b[0;32m    682\u001b[0m                 \u001b[0mself\u001b[0m\u001b[1;33m.\u001b[0m\u001b[0mtarget\u001b[0m\u001b[1;33m.\u001b[0m\u001b[0mcleargrads\u001b[0m\u001b[1;33m(\u001b[0m\u001b[1;33m)\u001b[0m\u001b[1;33m\u001b[0m\u001b[0m\n",
      "\u001b[1;32m~\\Anaconda3\\lib\\site-packages\\chainer\\link.py\u001b[0m in \u001b[0;36m__call__\u001b[1;34m(self, *args, **kwargs)\u001b[0m\n\u001b[0;32m    240\u001b[0m         \u001b[1;32mif\u001b[0m \u001b[0mforward\u001b[0m \u001b[1;32mis\u001b[0m \u001b[1;32mNone\u001b[0m\u001b[1;33m:\u001b[0m\u001b[1;33m\u001b[0m\u001b[0m\n\u001b[0;32m    241\u001b[0m             \u001b[0mforward\u001b[0m \u001b[1;33m=\u001b[0m \u001b[0mself\u001b[0m\u001b[1;33m.\u001b[0m\u001b[0mforward\u001b[0m\u001b[1;33m\u001b[0m\u001b[0m\n\u001b[1;32m--> 242\u001b[1;33m         \u001b[0mout\u001b[0m \u001b[1;33m=\u001b[0m \u001b[0mforward\u001b[0m\u001b[1;33m(\u001b[0m\u001b[1;33m*\u001b[0m\u001b[0margs\u001b[0m\u001b[1;33m,\u001b[0m \u001b[1;33m**\u001b[0m\u001b[0mkwargs\u001b[0m\u001b[1;33m)\u001b[0m\u001b[1;33m\u001b[0m\u001b[0m\n\u001b[0m\u001b[0;32m    243\u001b[0m \u001b[1;33m\u001b[0m\u001b[0m\n\u001b[0;32m    244\u001b[0m         \u001b[1;31m# Call forward_postprocess hook\u001b[0m\u001b[1;33m\u001b[0m\u001b[1;33m\u001b[0m\u001b[0m\n",
      "\u001b[1;32m~\\Anaconda3\\lib\\site-packages\\chainer\\links\\model\\classifier.py\u001b[0m in \u001b[0;36mforward\u001b[1;34m(self, *args, **kwargs)\u001b[0m\n\u001b[0;32m    142\u001b[0m \u001b[1;33m\u001b[0m\u001b[0m\n\u001b[0;32m    143\u001b[0m         \u001b[0mself\u001b[0m\u001b[1;33m.\u001b[0m\u001b[0my\u001b[0m \u001b[1;33m=\u001b[0m \u001b[0mself\u001b[0m\u001b[1;33m.\u001b[0m\u001b[0mpredictor\u001b[0m\u001b[1;33m(\u001b[0m\u001b[1;33m*\u001b[0m\u001b[0margs\u001b[0m\u001b[1;33m,\u001b[0m \u001b[1;33m**\u001b[0m\u001b[0mkwargs\u001b[0m\u001b[1;33m)\u001b[0m\u001b[1;33m\u001b[0m\u001b[0m\n\u001b[1;32m--> 144\u001b[1;33m         \u001b[0mself\u001b[0m\u001b[1;33m.\u001b[0m\u001b[0mloss\u001b[0m \u001b[1;33m=\u001b[0m \u001b[0mself\u001b[0m\u001b[1;33m.\u001b[0m\u001b[0mlossfun\u001b[0m\u001b[1;33m(\u001b[0m\u001b[0mself\u001b[0m\u001b[1;33m.\u001b[0m\u001b[0my\u001b[0m\u001b[1;33m,\u001b[0m \u001b[0mt\u001b[0m\u001b[1;33m)\u001b[0m\u001b[1;33m\u001b[0m\u001b[0m\n\u001b[0m\u001b[0;32m    145\u001b[0m         \u001b[0mreporter\u001b[0m\u001b[1;33m.\u001b[0m\u001b[0mreport\u001b[0m\u001b[1;33m(\u001b[0m\u001b[1;33m{\u001b[0m\u001b[1;34m'loss'\u001b[0m\u001b[1;33m:\u001b[0m \u001b[0mself\u001b[0m\u001b[1;33m.\u001b[0m\u001b[0mloss\u001b[0m\u001b[1;33m}\u001b[0m\u001b[1;33m,\u001b[0m \u001b[0mself\u001b[0m\u001b[1;33m)\u001b[0m\u001b[1;33m\u001b[0m\u001b[0m\n\u001b[0;32m    146\u001b[0m         \u001b[1;32mif\u001b[0m \u001b[0mself\u001b[0m\u001b[1;33m.\u001b[0m\u001b[0mcompute_accuracy\u001b[0m\u001b[1;33m:\u001b[0m\u001b[1;33m\u001b[0m\u001b[0m\n",
      "\u001b[1;32m~\\Anaconda3\\lib\\site-packages\\chainer\\functions\\loss\\mean_squared_error.py\u001b[0m in \u001b[0;36mmean_squared_error\u001b[1;34m(x0, x1)\u001b[0m\n\u001b[0;32m     59\u001b[0m \u001b[1;33m\u001b[0m\u001b[0m\n\u001b[0;32m     60\u001b[0m     \"\"\"\n\u001b[1;32m---> 61\u001b[1;33m     \u001b[1;32mreturn\u001b[0m \u001b[0mMeanSquaredError\u001b[0m\u001b[1;33m(\u001b[0m\u001b[1;33m)\u001b[0m\u001b[1;33m.\u001b[0m\u001b[0mapply\u001b[0m\u001b[1;33m(\u001b[0m\u001b[1;33m(\u001b[0m\u001b[0mx0\u001b[0m\u001b[1;33m,\u001b[0m \u001b[0mx1\u001b[0m\u001b[1;33m)\u001b[0m\u001b[1;33m)\u001b[0m\u001b[1;33m[\u001b[0m\u001b[1;36m0\u001b[0m\u001b[1;33m]\u001b[0m\u001b[1;33m\u001b[0m\u001b[0m\n\u001b[0m",
      "\u001b[1;32m~\\Anaconda3\\lib\\site-packages\\chainer\\function_node.py\u001b[0m in \u001b[0;36mapply\u001b[1;34m(self, inputs)\u001b[0m\n\u001b[0;32m    243\u001b[0m \u001b[1;33m\u001b[0m\u001b[0m\n\u001b[0;32m    244\u001b[0m         \u001b[1;32mif\u001b[0m \u001b[0mconfiguration\u001b[0m\u001b[1;33m.\u001b[0m\u001b[0mconfig\u001b[0m\u001b[1;33m.\u001b[0m\u001b[0mtype_check\u001b[0m\u001b[1;33m:\u001b[0m\u001b[1;33m\u001b[0m\u001b[0m\n\u001b[1;32m--> 245\u001b[1;33m             \u001b[0mself\u001b[0m\u001b[1;33m.\u001b[0m\u001b[0m_check_data_type_forward\u001b[0m\u001b[1;33m(\u001b[0m\u001b[0min_data\u001b[0m\u001b[1;33m)\u001b[0m\u001b[1;33m\u001b[0m\u001b[0m\n\u001b[0m\u001b[0;32m    246\u001b[0m \u001b[1;33m\u001b[0m\u001b[0m\n\u001b[0;32m    247\u001b[0m         \u001b[0mhooks\u001b[0m \u001b[1;33m=\u001b[0m \u001b[0mchainer\u001b[0m\u001b[1;33m.\u001b[0m\u001b[0mget_function_hooks\u001b[0m\u001b[1;33m(\u001b[0m\u001b[1;33m)\u001b[0m\u001b[1;33m\u001b[0m\u001b[0m\n",
      "\u001b[1;32m~\\Anaconda3\\lib\\site-packages\\chainer\\function_node.py\u001b[0m in \u001b[0;36m_check_data_type_forward\u001b[1;34m(self, in_data)\u001b[0m\n\u001b[0;32m    328\u001b[0m         \u001b[0min_type\u001b[0m \u001b[1;33m=\u001b[0m \u001b[0mtype_check\u001b[0m\u001b[1;33m.\u001b[0m\u001b[0mget_types\u001b[0m\u001b[1;33m(\u001b[0m\u001b[0min_data\u001b[0m\u001b[1;33m,\u001b[0m \u001b[1;34m'in_types'\u001b[0m\u001b[1;33m,\u001b[0m \u001b[1;32mFalse\u001b[0m\u001b[1;33m)\u001b[0m\u001b[1;33m\u001b[0m\u001b[0m\n\u001b[0;32m    329\u001b[0m         \u001b[1;32mwith\u001b[0m \u001b[0mtype_check\u001b[0m\u001b[1;33m.\u001b[0m\u001b[0mget_function_check_context\u001b[0m\u001b[1;33m(\u001b[0m\u001b[0mself\u001b[0m\u001b[1;33m)\u001b[0m\u001b[1;33m:\u001b[0m\u001b[1;33m\u001b[0m\u001b[0m\n\u001b[1;32m--> 330\u001b[1;33m             \u001b[0mself\u001b[0m\u001b[1;33m.\u001b[0m\u001b[0mcheck_type_forward\u001b[0m\u001b[1;33m(\u001b[0m\u001b[0min_type\u001b[0m\u001b[1;33m)\u001b[0m\u001b[1;33m\u001b[0m\u001b[0m\n\u001b[0m\u001b[0;32m    331\u001b[0m \u001b[1;33m\u001b[0m\u001b[0m\n\u001b[0;32m    332\u001b[0m     \u001b[1;32mdef\u001b[0m \u001b[0mcheck_type_forward\u001b[0m\u001b[1;33m(\u001b[0m\u001b[0mself\u001b[0m\u001b[1;33m,\u001b[0m \u001b[0min_types\u001b[0m\u001b[1;33m)\u001b[0m\u001b[1;33m:\u001b[0m\u001b[1;33m\u001b[0m\u001b[0m\n",
      "\u001b[1;32m~\\Anaconda3\\lib\\site-packages\\chainer\\functions\\loss\\mean_squared_error.py\u001b[0m in \u001b[0;36mcheck_type_forward\u001b[1;34m(self, in_types)\u001b[0m\n\u001b[0;32m     15\u001b[0m             \u001b[0min_types\u001b[0m\u001b[1;33m[\u001b[0m\u001b[1;36m0\u001b[0m\u001b[1;33m]\u001b[0m\u001b[1;33m.\u001b[0m\u001b[0mdtype\u001b[0m\u001b[1;33m.\u001b[0m\u001b[0mkind\u001b[0m \u001b[1;33m==\u001b[0m \u001b[1;34m'f'\u001b[0m\u001b[1;33m,\u001b[0m\u001b[1;33m\u001b[0m\u001b[0m\n\u001b[0;32m     16\u001b[0m             \u001b[0min_types\u001b[0m\u001b[1;33m[\u001b[0m\u001b[1;36m0\u001b[0m\u001b[1;33m]\u001b[0m\u001b[1;33m.\u001b[0m\u001b[0mdtype\u001b[0m \u001b[1;33m==\u001b[0m \u001b[0min_types\u001b[0m\u001b[1;33m[\u001b[0m\u001b[1;36m1\u001b[0m\u001b[1;33m]\u001b[0m\u001b[1;33m.\u001b[0m\u001b[0mdtype\u001b[0m\u001b[1;33m,\u001b[0m\u001b[1;33m\u001b[0m\u001b[0m\n\u001b[1;32m---> 17\u001b[1;33m             \u001b[0min_types\u001b[0m\u001b[1;33m[\u001b[0m\u001b[1;36m0\u001b[0m\u001b[1;33m]\u001b[0m\u001b[1;33m.\u001b[0m\u001b[0mshape\u001b[0m \u001b[1;33m==\u001b[0m \u001b[0min_types\u001b[0m\u001b[1;33m[\u001b[0m\u001b[1;36m1\u001b[0m\u001b[1;33m]\u001b[0m\u001b[1;33m.\u001b[0m\u001b[0mshape\u001b[0m\u001b[1;33m\u001b[0m\u001b[0m\n\u001b[0m\u001b[0;32m     18\u001b[0m         )\n\u001b[0;32m     19\u001b[0m \u001b[1;33m\u001b[0m\u001b[0m\n",
      "\u001b[1;32m~\\Anaconda3\\lib\\site-packages\\chainer\\utils\\type_check.py\u001b[0m in \u001b[0;36mexpect\u001b[1;34m(*bool_exprs)\u001b[0m\n\u001b[0;32m    544\u001b[0m         \u001b[1;32mfor\u001b[0m \u001b[0mexpr\u001b[0m \u001b[1;32min\u001b[0m \u001b[0mbool_exprs\u001b[0m\u001b[1;33m:\u001b[0m\u001b[1;33m\u001b[0m\u001b[0m\n\u001b[0;32m    545\u001b[0m             \u001b[1;32massert\u001b[0m \u001b[0misinstance\u001b[0m\u001b[1;33m(\u001b[0m\u001b[0mexpr\u001b[0m\u001b[1;33m,\u001b[0m \u001b[0mTestable\u001b[0m\u001b[1;33m)\u001b[0m\u001b[1;33m\u001b[0m\u001b[0m\n\u001b[1;32m--> 546\u001b[1;33m             \u001b[0mexpr\u001b[0m\u001b[1;33m.\u001b[0m\u001b[0mexpect\u001b[0m\u001b[1;33m(\u001b[0m\u001b[1;33m)\u001b[0m\u001b[1;33m\u001b[0m\u001b[0m\n\u001b[0m\u001b[0;32m    547\u001b[0m \u001b[1;33m\u001b[0m\u001b[0m\n\u001b[0;32m    548\u001b[0m \u001b[1;33m\u001b[0m\u001b[0m\n",
      "\u001b[1;32m~\\Anaconda3\\lib\\site-packages\\chainer\\utils\\type_check.py\u001b[0m in \u001b[0;36mexpect\u001b[1;34m(self)\u001b[0m\n\u001b[0;32m    481\u001b[0m             raise InvalidType(\n\u001b[0;32m    482\u001b[0m                 \u001b[1;34m'{0} {1} {2}'\u001b[0m\u001b[1;33m.\u001b[0m\u001b[0mformat\u001b[0m\u001b[1;33m(\u001b[0m\u001b[0mself\u001b[0m\u001b[1;33m.\u001b[0m\u001b[0mlhs\u001b[0m\u001b[1;33m,\u001b[0m \u001b[0mself\u001b[0m\u001b[1;33m.\u001b[0m\u001b[0mexp\u001b[0m\u001b[1;33m,\u001b[0m \u001b[0mself\u001b[0m\u001b[1;33m.\u001b[0m\u001b[0mrhs\u001b[0m\u001b[1;33m)\u001b[0m\u001b[1;33m,\u001b[0m\u001b[1;33m\u001b[0m\u001b[0m\n\u001b[1;32m--> 483\u001b[1;33m                 '{0} {1} {2}'.format(left, self.inv, right))\n\u001b[0m\u001b[0;32m    484\u001b[0m \u001b[1;33m\u001b[0m\u001b[0m\n\u001b[0;32m    485\u001b[0m \u001b[1;33m\u001b[0m\u001b[0m\n",
      "\u001b[1;31mInvalidType\u001b[0m: \nInvalid operation is performed in: MeanSquaredError (Forward)\n\nExpect: x0.shape == x1.shape\nActual: (77, 1) != (77,)"
     ]
    }
   ],
   "source": [
    "trainer.run()"
   ]
  },
  {
   "cell_type": "code",
   "execution_count": 99,
   "metadata": {},
   "outputs": [
    {
     "data": {
      "text/plain": [
       "array([ 0.,  0.,  0.,  0.,  0.,  0.,  0.,  1.,  1.,  1.,  1.,  1.,  1.,\n",
       "        1.,  2.,  2.,  2.,  2.,  2.,  2.,  2.,  3.,  3.,  3.,  3.,  3.,\n",
       "        3.,  3.,  4.,  4.,  4.,  4.,  4.,  4.,  4.,  5.,  5.,  5.,  5.,\n",
       "        5.,  5.,  5.,  6.,  6.,  6.,  6.,  6.,  6.,  6.,  7.,  7.,  7.,\n",
       "        7.,  7.,  7.,  7.,  8.,  8.,  8.,  8.,  8.,  8.,  8.,  9.,  9.,\n",
       "        9.,  9.,  9.,  9.,  9., 10., 10., 10., 10., 10., 10., 10.],\n",
       "      dtype=float32)"
      ]
     },
     "execution_count": 99,
     "metadata": {},
     "output_type": "execute_result"
    }
   ],
   "source": [
    "y_train"
   ]
  },
  {
   "cell_type": "markdown",
   "metadata": {},
   "source": [
    "# 授業の課題（坂口先生）\n",
    "### 次に見つけられる気がしねぇ…"
   ]
  },
  {
   "cell_type": "code",
   "execution_count": 1,
   "metadata": {},
   "outputs": [],
   "source": [
    "import numpy as np\n",
    "import matplotlib.pyplot as plt"
   ]
  },
  {
   "cell_type": "code",
   "execution_count": 3,
   "metadata": {},
   "outputs": [],
   "source": [
    "x = np.array([-7.7, -14.4, -17.9, -19.5, -22.0, -24.5])\n",
    "y = np.array([6.4, 13.9, 23.2, 33.1, 42.8, 52.5])"
   ]
  },
  {
   "cell_type": "code",
   "execution_count": 13,
   "metadata": {},
   "outputs": [
    {
     "data": {
      "image/png": "[encoded data removed]",
      "text/plain": [
       "<Figure size 432x288 with 1 Axes>"
      ]
     },
     "metadata": {
      "needs_background": "light"
     },
     "output_type": "display_data"
    }
   ],
   "source": [
    "plt.plot(x,y,'ro-')\n",
    "plt.show()\n"
   ]
  },
  {
   "cell_type": "markdown",
   "metadata": {},
   "source": [
    "# 何とかしてcsvファイル60個を一気に読み込んでpandasとかにしたさある"
   ]
  },
  {
   "cell_type": "code",
   "execution_count": 34,
   "metadata": {},
   "outputs": [],
   "source": [
    "# globモジュールを使ってtxtファイルは無事に読み込めている\n",
    "# そもそもglobでcsvを読み込み可能なの？\n",
    "import glob\n",
    "import os\n",
    "import sys\n",
    "import pandas\n",
    "import re\n",
    "# c_list = sorted(glob.glob(\"C:/Users/Owner/Desktop/LAB/LAB 2019/analysis/mix_fabric/CP*B*.txt\"))"
   ]
  },
  {
   "cell_type": "code",
   "execution_count": null,
   "metadata": {},
   "outputs": [],
   "source": []
  },
  {
   "cell_type": "code",
   "execution_count": 15,
   "metadata": {},
   "outputs": [],
   "source": [
    "import csv"
   ]
  },
  {
   "cell_type": "code",
   "execution_count": 16,
   "metadata": {},
   "outputs": [],
   "source": [
    "csv_list = sorted(glob.glob(\"C:/Users/Owner/Desktop/[190611]kurasawa/Blood_glucose_level/1.csv\"))"
   ]
  },
  {
   "cell_type": "code",
   "execution_count": 23,
   "metadata": {},
   "outputs": [],
   "source": [
    "file = glob.glob(os.path.join(\"C:/Users/Owner/Desktop/[190611]kurasawa/Blood_glucose_level/wrist_1pulse_cut/*.csv\"))"
   ]
  },
  {
   "cell_type": "code",
   "execution_count": 24,
   "metadata": {},
   "outputs": [
    {
     "name": "stdout",
     "output_type": "stream",
     "text": [
      "[]\n"
     ]
    }
   ],
   "source": [
    "print(file)"
   ]
  },
  {
   "cell_type": "code",
   "execution_count": 21,
   "metadata": {},
   "outputs": [],
   "source": [
    "csv_file = pandas.read_csv(\"C:/Users/Owner/Desktop/[190611]kurasawa/Blood_glucose_level/wrist_1pulse_cut/1.csv\")"
   ]
  },
  {
   "cell_type": "code",
   "execution_count": 25,
   "metadata": {},
   "outputs": [],
   "source": [
    "n = 1\n",
    "csv_file = pandas.read_csv(\"C:/Users/Owner/Desktop/[190611]kurasawa/Blood_glucose_level/wrist_1pulse_cut/1.csv\")"
   ]
  },
  {
   "cell_type": "code",
   "execution_count": 31,
   "metadata": {},
   "outputs": [],
   "source": [
    "data_dir = 'C:/Users/Owner/Desktop/[190611]kurasawa/Blood_glucose_level/wrist_1pulse_cut/'"
   ]
  },
  {
   "cell_type": "code",
   "execution_count": 32,
   "metadata": {},
   "outputs": [
    {
     "data": {
      "text/plain": [
       "'C:/Users/Owner/Desktop/[190611]kurasawa/Blood_glucose_level/wrist_1pulse_cut/'"
      ]
     },
     "execution_count": 32,
     "metadata": {},
     "output_type": "execute_result"
    }
   ],
   "source": [
    "data_dir"
   ]
  },
  {
   "cell_type": "code",
   "execution_count": 36,
   "metadata": {},
   "outputs": [
    {
     "name": "stdout",
     "output_type": "stream",
     "text": [
      "C:\\Users\\Owner\\Desktop\\LAB\\LAB 2018\\jupyter File\n"
     ]
    }
   ],
   "source": [
    "dir = os.getcwd()\n",
    "print(dir)"
   ]
  },
  {
   "cell_type": "code",
   "execution_count": 37,
   "metadata": {},
   "outputs": [
    {
     "name": "stdout",
     "output_type": "stream",
     "text": [
      "['.ipynb_checkpoints', 'app.ipynb', 'blood_glucose_level.ipynb', 'chainer_regression.ipynb', 'easy_chainer.cpython-34.pyc', 'easy_chainer.py', 'FBG_regression.ipynb', 'file_convert.ipynb', 'learn_python_chainer.ipynb', 'mashroom.ipynb', 'multi class fiber.ipynb', 'multi class fiber_2.ipynb', 'Multi Layer _sliver.ipynb', 'mushrooms.csv', 'pandas, numpy .ipynb', 'parameter of network.ipynb', 'random.h5', 'result', 'Result2018_oono', 'study201801.ipynb', 'train_mnist.ipynb', 'tutorial_spctrum_classifier.ipynb', 'tutorial_spctrum_classifier_mod20180613.ipynb', 'Untitled.ipynb', 'Untitled2.ipynb', '__pycache__', '前処理_2019_0401.ipynb', '卒論(easy_chainer).ipynb', '繊維鑑別（綿ポリ）.ipynb']\n"
     ]
    }
   ],
   "source": [
    "files = os.listdir(dir)\n",
    "print(files)"
   ]
  },
  {
   "cell_type": "code",
   "execution_count": 38,
   "metadata": {},
   "outputs": [
    {
     "name": "stdout",
     "output_type": "stream",
     "text": [
      "22\n"
     ]
    }
   ],
   "source": [
    "count = 0\n",
    "for file in files:\n",
    "    index = re.search('.ipynb', file)\n",
    "    if index:\n",
    "        count = count+1\n",
    "\n",
    "print(count)"
   ]
  },
  {
   "cell_type": "code",
   "execution_count": null,
   "metadata": {},
   "outputs": [],
   "source": []
  }
 ],
 "metadata": {
  "kernelspec": {
   "display_name": "Python 3",
   "language": "python",
   "name": "python3"
  },
  "language_info": {
   "codemirror_mode": {
    "name": "ipython",
    "version": 3
   },
   "file_extension": ".py",
   "mimetype": "text/x-python",
   "name": "python",
   "nbconvert_exporter": "python",
   "pygments_lexer": "ipython3",
   "version": "3.7.0"
  }
 },
 "nbformat": 4,
 "nbformat_minor": 2
}

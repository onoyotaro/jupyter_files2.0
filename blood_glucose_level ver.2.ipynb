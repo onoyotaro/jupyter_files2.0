{
 "cells": [
  {
   "cell_type": "markdown",
   "metadata": {},
   "source": [
    "# 1. Import modules"
   ]
  },
  {
   "cell_type": "code",
   "execution_count": 55,
   "metadata": {},
   "outputs": [
    {
     "name": "stdout",
     "output_type": "stream",
     "text": [
      "The autoreload extension is already loaded. To reload it, use:\n",
      "  %reload_ext autoreload\n"
     ]
    }
   ],
   "source": [
    "%load_ext autoreload\n",
    "\n",
    "%autoreload 2\n",
    "import time\n",
    "\n",
    "import pandas\n",
    "import argparse\n",
    "\n",
    "import chainer\n",
    "import chainer.functions as F\n",
    "import chainer.links as L\n",
    "from chainer import training\n",
    "from chainer.training import extensions\n",
    "from chainer import Link, Chain, ChainList\n",
    "\n",
    "from chainer.datasets import tuple_dataset\n",
    "from chainer.dataset import convert, concat_examples\n",
    "\n",
    "from chainer import datasets, iterators, optimizers, serializers\n",
    "from chainer import Function, report, training, utils, Variable\n",
    "\n",
    "import numpy\n",
    "import os\n",
    "import glob\n",
    "import sys\n",
    "from pathlib import Path\n",
    "import matplotlib.pyplot as plt\n",
    "\n",
    "from chainer import Sequential\n",
    "import easy_chainer"
   ]
  },
  {
   "cell_type": "markdown",
   "metadata": {},
   "source": [
    "# 2. Define of structure\n",
    "## MLP_01 : MLP, dropout=None, Batch_Normalization=None\n",
    "## MLP_02 : MLP, Dropout, Batch_Normalization"
   ]
  },
  {
   "cell_type": "code",
   "execution_count": 56,
   "metadata": {},
   "outputs": [],
   "source": [
    "class MLP_01(chainer.Chain):\n",
    "\n",
    "    def __init__(self, n_units, n_out):\n",
    "        super(MLP_01, self).__init__()\n",
    "        with self.init_scope():\n",
    "            # the size of the inputs to each layer will be inferred\n",
    "            self.l1 = L.Linear(None, n_units)  # n_in -> n_units\n",
    "            self.l2 = L.Linear(None, n_units)  # n_units -> n_units\n",
    "            self.l3 = L.Linear(None, n_out)  # n_units -> n_out\n",
    "            \n",
    "           \n",
    "    def __call__(self, x):\n",
    "        h1 = F.relu(self.l1(x))\n",
    "        h2 = F.relu(self.l2(h1))\n",
    "        return self.l3(h2)"
   ]
  },
  {
   "cell_type": "code",
   "execution_count": 73,
   "metadata": {},
   "outputs": [],
   "source": [
    "# 4層NN(入力→中間，中間→出力)\n",
    "class MLP_02(chainer.Chain):\n",
    "    \n",
    "    \"\"\"\n",
    "    モデルの実装\n",
    "    \"\"\"\n",
    "\n",
    "    def __init__(self, n_units, n_out, train=True, drop_out_ratio=0.3):\n",
    "        super(MLP_02, self).__init__()\n",
    "        with self.init_scope():\n",
    "            # the size of the inputs to each layer will be inferred\n",
    "            self.l1 = L.Linear(None, n_units)  # n_in -> n_units\n",
    "            self.l2 = L.Linear(None, n_units)  # n_units -> n_units\n",
    "            self.l3 = L.Linear(None, n_out)  # n_units -> n_out\n",
    "    \n",
    "        # 学習の場合：True\n",
    "        self.__train = train\n",
    "        # drop outの実施有無\n",
    "        self.__drop_out = True\n",
    "        # drop outの比率\n",
    "        self.drop_out_ratio = drop_out_ratio\n",
    "    \n",
    "\n",
    "    def __call__(self, x):\n",
    "        drop_out = self.__train and self.__drop_out \n",
    "        h1 = F.dropout(F.relu(self.l1(x)), ratio=self.drop_out_ratio)\n",
    "        h2 = F.dropout(F.relu(self.l2(h1)), ratio=self.drop_out_ratio)\n",
    "        return self.l3(h2)\n",
    "    \n",
    "    \n",
    "    # 学習の場合；True\n",
    "    def __get_train(self):\n",
    "        return self.__train\n",
    "    \n",
    "    def __set_train(self, train):\n",
    "        self.__train = train\n",
    "        \n",
    "    train = property(__get_train, __set_train)\n",
    "    \n",
    "    # Dropoutを使用する場合：True\n",
    "    def __get_drop_out(self):\n",
    "        return self.__drop_out\n",
    "    \n",
    "    def __set_drop_out(self, drop_out):\n",
    "        '''\n",
    "        drop outフラグの設定\n",
    "        '''\n",
    "        self.__drop_out = drop_out\n",
    "    \n",
    "    drop_out = property(__get_drop_out, __set_drop_out)\n",
    "\n",
    "def parse_device(args):\n",
    "    gpu = None\n",
    "    if args.gpu is not None:\n",
    "        gpu = args.gpu\n",
    "    elif re.match(r'(-|\\+|)[0-9]+$', args.device):\n",
    "        gpu = int(args.device)\n",
    "\n",
    "    if gpu is not None:\n",
    "        if gpu < 0:\n",
    "            return chainer.get_device(numpy)\n",
    "        else:\n",
    "            import cupy\n",
    "            return chainer.get_device((cupy, gpu))\n",
    "\n",
    "    return chainer.get_device(args.device)"
   ]
  },
  {
   "cell_type": "markdown",
   "metadata": {},
   "source": [
    "# 3. Import datasets"
   ]
  },
  {
   "cell_type": "code",
   "execution_count": 70,
   "metadata": {},
   "outputs": [
    {
     "name": "stdout",
     "output_type": "stream",
     "text": [
      "[102. 104.  97. 188. 197. 199. 194. 184. 184. 167. 176. 167. 177. 158.\n",
      " 148. 136. 132. 136. 147.  98.  85.]\n",
      "(21,)\n"
     ]
    },
    {
     "name": "stderr",
     "output_type": "stream",
     "text": [
      "C:\\Users\\Owner\\Desktop\\LAB\\LAB 2018\\jupyter File\\easy_chainer.py:87: FutureWarning: Method .as_matrix will be removed in a future version. Use .values instead.\n",
      "  data = xls.as_matrix()[:-1]\n",
      "C:\\Users\\Owner\\Desktop\\LAB\\LAB 2018\\jupyter File\\easy_chainer.py:88: FutureWarning: Method .as_matrix will be removed in a future version. Use .values instead.\n",
      "  teach = xls.as_matrix()[-1]\n"
     ]
    }
   ],
   "source": [
    "# 1,000datas\n",
    "data, teach = easy_chainer.load_Data(\"C:/Users/Owner/Desktop/Normalized/val/val_ebina_day1.xlsx\")\n",
    "data = data.astype(numpy.float32)\n",
    "teach = teach\n",
    "print(teach)\n",
    "print(teach.shape)"
   ]
  },
  {
   "cell_type": "code",
   "execution_count": 71,
   "metadata": {},
   "outputs": [],
   "source": [
    "# 回帰させるときに必要（分類はint型）\n",
    "teach = teach.astype(numpy.float32)"
   ]
  },
  {
   "cell_type": "code",
   "execution_count": 59,
   "metadata": {},
   "outputs": [
    {
     "data": {
      "text/plain": [
       "(1000, 21)"
      ]
     },
     "execution_count": 59,
     "metadata": {},
     "output_type": "execute_result"
    }
   ],
   "source": [
    "data.shape"
   ]
  },
  {
   "cell_type": "code",
   "execution_count": 6,
   "metadata": {},
   "outputs": [],
   "source": [
    "id_all = numpy.arange(1, len(teach) + 1, 1).astype(numpy.int32) - 1\n",
    "# print(id_all)"
   ]
  },
  {
   "cell_type": "code",
   "execution_count": 31,
   "metadata": {},
   "outputs": [
    {
     "name": "stdout",
     "output_type": "stream",
     "text": [
      "[201 384 179 351 259 342 212 180 117 390 377 216 214 312 270 268  74 235\n",
      " 356 421 104 182  60 393 345 190 331 173 234 144  20 174  57 101 295 129\n",
      " 350 282 247 218 369 401 184 162 165  21  14  39  56 230 232 347 137 255\n",
      " 205 113 394 308  31 416 262 353 228 189 158 415 146 396 373  70 238 292\n",
      " 153 418 221 329 170 358 281  54 340  55 403 414  41  16 204 200 383 260\n",
      " 199 323 365  88 251 346 316 124 288 155  26  44  49 250  83  11 367   4\n",
      " 139 319 210  12 425 285  87 381  53 307  61 175 279 196 198 169 135 102\n",
      " 318 136  28 374 106 302 186 320 143  82  52 134 130 150  98 343 310 271\n",
      " 229 239 105 317 203 412 103 207  77   8   2 274 195 202  25 375 387 290\n",
      "  50  85 159 164 352  22  62 378  99  69 408 289 188 240 256  95 151 411\n",
      "  29 243 296 419 391 211 197 398 116  86 368 123  46   3 112 183  30 154\n",
      " 422  94 402 389  51  36  97 219  13 163  58 237 336 258 299 267 324   9\n",
      " 265 128 372  78  45 115 348 157  24 349 284 233 266 126 355 286 354  33\n",
      " 294 122 220  63 277  66 194 177 206 127 291 424 257   7   0 226 382 217\n",
      " 376 249 272 121 108 193   5 344 395  59  47 278 120 246 313 166 315 209\n",
      " 297 222 213 341 298 276  42 420 386 311  76 333 380  73 305 360 304 152\n",
      "  32  15 107 413 147 254  35 225 172 322  17 156 410 325 339 406 357 309\n",
      " 208  64  10 366 111 392 371 404  93 400 293 261 100 167  65 314 241   6\n",
      " 149 361 399 148 379 359 252 321 185 141 132 118 244 287 119 407  38 364\n",
      " 417 306  84 224  19  72  75 264  40 362 110 303 405  48  18  43 273  90\n",
      " 275 334 160 114 328  68 215 131   1 187 227 178 327 181 133 223 248 283\n",
      " 168 335 263 142 245 300  27 138 363  89 397  23  96  79 426 192 242 370\n",
      " 171 326  67 145]\n"
     ]
    }
   ],
   "source": [
    "numpy.random.seed(11)\n",
    "id_train = numpy.random.choice(id_all, 400, replace=False) #重複なし\n",
    "print(id_train)"
   ]
  },
  {
   "cell_type": "code",
   "execution_count": 32,
   "metadata": {},
   "outputs": [
    {
     "name": "stdout",
     "output_type": "stream",
     "text": [
      "[ 34  37  71  80  81  91  92 109 125 140 161 176 191 231 236 253 269 280\n",
      " 301 330 332 337 338 385 388 409 423]\n"
     ]
    }
   ],
   "source": [
    "id_test = numpy.delete(id_all, id_train)\n",
    "print(id_test)"
   ]
  },
  {
   "cell_type": "code",
   "execution_count": 33,
   "metadata": {},
   "outputs": [],
   "source": [
    "# train, test データをExcelに保存するスクリプト\n",
    "# このスクリプトを追加する\n",
    "\n",
    "teach_train = teach[id_train]\n",
    "df_teach = pandas.DataFrame(teach_train, columns=['train'])\n",
    "df_idtrain = pandas.DataFrame(id_train, columns=['id_train'])\n",
    "df_train = pandas.concat([df_idtrain, df_teach], axis=1)\n",
    "# print(df_train)\n",
    "\n",
    "teach_test = teach[id_test]\n",
    "df_id_test = pandas.DataFrame(teach_test, columns=['test'])\n",
    "df_idtest = pandas.DataFrame(id_test, columns=['id_test'])\n",
    "df_test = pandas.concat([df_idtest, df_id_test], axis=1)\n",
    "# print(df_test)\n",
    "\n",
    "df = pandas.concat([df_train, df_test], axis=1)\n",
    "df.to_excel(\"C:/Users/Owner/Desktop/Normalized/blood_glucose_teach_20191107_01.xlsx\")\n",
    "# print(df)"
   ]
  },
  {
   "cell_type": "code",
   "execution_count": 72,
   "metadata": {},
   "outputs": [
    {
     "name": "stdout",
     "output_type": "stream",
     "text": [
      "(11,) 104.0\n",
      "(10,) 177.0\n"
     ]
    }
   ],
   "source": [
    "m = 11\n",
    "\n",
    "x_train, y_train = data[:, 0:m], teach[0:m]\n",
    "x_test, y_test = data[:, m:22], teach[m:22]\n",
    "\n",
    "print(y_train.shape, y_train[1])\n",
    "print(y_test.shape, y_test[1])"
   ]
  },
  {
   "cell_type": "markdown",
   "metadata": {},
   "source": [
    "# 4. Separate datas"
   ]
  },
  {
   "cell_type": "code",
   "execution_count": 61,
   "metadata": {},
   "outputs": [
    {
     "ename": "NameError",
     "evalue": "name 'id_train' is not defined",
     "output_type": "error",
     "traceback": [
      "\u001b[1;31m---------------------------------------------------------------------------\u001b[0m",
      "\u001b[1;31mNameError\u001b[0m                                 Traceback (most recent call last)",
      "\u001b[1;32m<ipython-input-61-788dc2001399>\u001b[0m in \u001b[0;36m<module>\u001b[1;34m()\u001b[0m\n\u001b[1;32m----> 1\u001b[1;33m \u001b[0mx_train\u001b[0m\u001b[1;33m,\u001b[0m \u001b[0my_train\u001b[0m \u001b[1;33m=\u001b[0m \u001b[0mdata\u001b[0m\u001b[1;33m[\u001b[0m\u001b[1;33m:\u001b[0m\u001b[1;33m,\u001b[0m \u001b[0mid_train\u001b[0m\u001b[1;33m]\u001b[0m\u001b[1;33m,\u001b[0m \u001b[0mteach\u001b[0m\u001b[1;33m[\u001b[0m\u001b[0mid_train\u001b[0m\u001b[1;33m]\u001b[0m\u001b[1;33m\u001b[0m\u001b[0m\n\u001b[0m\u001b[0;32m      2\u001b[0m \u001b[0mx_test\u001b[0m\u001b[1;33m,\u001b[0m \u001b[0my_test\u001b[0m \u001b[1;33m=\u001b[0m \u001b[0mdata\u001b[0m\u001b[1;33m[\u001b[0m\u001b[1;33m:\u001b[0m\u001b[1;33m,\u001b[0m \u001b[0mid_test\u001b[0m\u001b[1;33m]\u001b[0m\u001b[1;33m,\u001b[0m \u001b[0mteach\u001b[0m\u001b[1;33m[\u001b[0m\u001b[0mid_test\u001b[0m\u001b[1;33m]\u001b[0m\u001b[1;33m\u001b[0m\u001b[0m\n",
      "\u001b[1;31mNameError\u001b[0m: name 'id_train' is not defined"
     ]
    }
   ],
   "source": [
    "x_train, y_train = data[:, id_train], teach[id_train]\n",
    "x_test, y_test = data[:, id_test], teach[id_test]"
   ]
  },
  {
   "cell_type": "markdown",
   "metadata": {},
   "source": [
    "# 5. Generate of iterator"
   ]
  },
  {
   "cell_type": "code",
   "execution_count": 74,
   "metadata": {},
   "outputs": [],
   "source": [
    "train = tuple_dataset.TupleDataset(x_train.T, y_train.reshape(-1,1 ))\n",
    "test = tuple_dataset.TupleDataset(x_test.T, y_test.reshape(-1, 1))\n",
    "\n",
    "train_iter = chainer.iterators.SerialIterator(train, 3, repeat=True, shuffle=False)\n",
    "test_iter = chainer.iterators.SerialIterator(test, 3, repeat=False, shuffle=False)"
   ]
  },
  {
   "cell_type": "markdown",
   "metadata": {},
   "source": [
    "# 6. Define of models\n",
    "## 6.1 model determination "
   ]
  },
  {
   "cell_type": "code",
   "execution_count": 76,
   "metadata": {},
   "outputs": [],
   "source": [
    "net = MLP_02(1000,1)\n",
    "model = L.Classifier(net,\n",
    "                     lossfun=F.mean_squared_error,\n",
    "                     accfun = F.r2_score)\n",
    "model.compute_accuracy = False\"\""
   ]
  },
  {
   "cell_type": "markdown",
   "metadata": {},
   "source": [
    "## 6.2 define of optimizer"
   ]
  },
  {
   "cell_type": "code",
   "execution_count": 77,
   "metadata": {},
   "outputs": [
    {
     "data": {
      "text/plain": [
       "<chainer.optimizers.adam.Adam at 0x223ab9749b0>"
      ]
     },
     "execution_count": 77,
     "metadata": {},
     "output_type": "execute_result"
    }
   ],
   "source": [
    "# 最適化方法\n",
    "#optimizer = chainer.optimizers.SGD()\n",
    "optimizer = chainer.optimizers.Adam()\n",
    "optimizer.setup(model)"
   ]
  },
  {
   "cell_type": "markdown",
   "metadata": {},
   "source": [
    "# 7. Trainer\n",
    "## define of updater"
   ]
  },
  {
   "cell_type": "code",
   "execution_count": 78,
   "metadata": {},
   "outputs": [],
   "source": [
    "updater = training.updaters.StandardUpdater(train_iter, optimizer)\n",
    "trainer = training.Trainer(updater, (500, 'epoch'), out=\"Result2018_oono/%s\" % time.strftime(\"%Y%m%d%H%M%S\"))"
   ]
  },
  {
   "cell_type": "markdown",
   "metadata": {},
   "source": [
    "## 7.2 Option determination"
   ]
  },
  {
   "cell_type": "code",
   "execution_count": 79,
   "metadata": {},
   "outputs": [],
   "source": [
    "# Evaluate the model with the test dataset for each epoch\n",
    "trainer.extend(extensions.Evaluator(test_iter, model))\n",
    "\n",
    "# Dump a computational graph from 'loss' variable at the first iteration\n",
    "# The \"main\" refers to the target link of the \"main\" optimizer.\n",
    "trainer.extend(extensions.dump_graph('main/loss'))\n",
    "\n",
    "# Take a snapshot for each specified epoch\n",
    "# frequency = args.epoch if args.frequency == -1 else max(1, args.frequency)\n",
    "# trainer.extend(extensions.snapshot(), trigger=(frequency, 'epoch'))\n",
    "\n",
    "# Write a log of evaluation statistics for each epoch\n",
    "trainer.extend(extensions.LogReport())\n",
    "\n",
    "# Save two plot images to the result dir\n",
    "trainer.extend(\n",
    "    extensions.PlotReport(['main/loss', 'validation/main/loss'],\n",
    "                          'epoch', file_name='loss.png'))\n",
    "trainer.extend(\n",
    "    extensions.PlotReport(\n",
    "        ['main/accuracy', 'validation/main/accuracy'],\n",
    "        'epoch', file_name='accuracy.png'))\n",
    "\n",
    "# Print selected entries of the log to stdout\n",
    "# Here \"main\" refers to the target link of the \"main\" optimizer again, and\n",
    "# \"validation\" refers to the default name of the Evaluator extension.\n",
    "# Entries other than 'epoch' are reported by the Classifier link, called by\n",
    "# either the updater or the evaluator.\n",
    "trainer.extend(extensions.PrintReport(\n",
    "    ['epoch', 'main/loss', 'validation/main/loss',\n",
    "     'main/accuracy', 'validation/main/accuracy', 'elapsed_time']))\n",
    "\n",
    "# Print a progress bar to stdout\n",
    "trainer.extend(extensions.ProgressBar())\n",
    "\n",
    "# if args.resume:\n",
    "#     # Resume from a snapshot\n",
    "#     chainer.serializers.load_npz(args.resume, trainer)\n"
   ]
  },
  {
   "cell_type": "markdown",
   "metadata": {},
   "source": [
    "## 7.3 Start of training"
   ]
  },
  {
   "cell_type": "code",
   "execution_count": 80,
   "metadata": {
    "scrolled": true
   },
   "outputs": [
    {
     "name": "stdout",
     "output_type": "stream",
     "text": [
      "epoch       main/loss   validation/main/loss  main/accuracy  validation/main/accuracy  elapsed_time\n",
      "1           23972.4     10958.2                                                        0.348163      \n",
      "2           13228.6     1205.59                                                        0.815024      \n",
      "3           2866.77     7600.91                                                        1.24207       \n",
      "4           5547.4      8855.98                                                        1.78456       \n",
      "5           3142.56     1520.39                                                        2.3771        \n",
      "6           2475.8      808.071                                                        2.74854       \n",
      "7           2745.01     820.755                                                        3.16305       \n",
      "8           2146.7      1665.14                                                        3.66469       \n",
      "9           1178.25     3387.72                                                        4.07531       \n",
      "10          1984.42     3910.31                                                        4.5098        \n",
      "11          2078.69     2419.83                                                        4.9448        \n",
      "12          1025.85     1768.49                                                        5.28734       \n",
      "13          2004.73     1416.1                                                         5.8145        \n",
      "14          1627.37     1706.4                                                         6.21893       \n",
      "15          1239.47     2133.97                                                        6.54533       \n",
      "16          1769.39     2192.98                                                        7.00016       \n",
      "17          1188.92     2016.65                                                        7.62862       \n",
      "18          1086.24     1988.3                                                         8.06981       \n",
      "19          1543.23     1779.47                                                        8.54434       \n",
      "20          1622.8      1745.61                                                        9.01081       \n",
      "21          896.185     1902.3                                                         9.46965       \n",
      "22          1051.46     1872.29                                                        9.98624       \n",
      "23          1181.74     2010.6                                                         10.4459       \n",
      "24          774.865     2237.55                                                        10.8693       \n",
      "25          1356.07     1781.32                                                        11.3194       \n",
      "26          1263.08     1607.96                                                        11.8792       \n",
      "27          682.036     1616.67                                                        12.2592       \n",
      "     total [##................................................]  5.45%\n",
      "this epoch [#############.....................................] 27.27%\n",
      "       100 iter, 27 epoch / 500 epochs\n",
      "       inf iters/sec. Estimated time to finish: 0:00:00.\n",
      "28          1218.27     1640.29                                                        12.7479       \n",
      "29          1270.49     1935.3                                                         13.225        \n",
      "30          939.296     2469.29                                                        13.5617       \n",
      "31          944.044     2054.13                                                        14.032        \n",
      "32          875.79      1408.76                                                        14.4556       \n",
      "33          853.248     1459.41                                                        14.7983       \n",
      "34          945.621     1773.16                                                        15.1711       \n",
      "35          1033.55     1623.97                                                        15.6189       \n",
      "36          529.992     1555.49                                                        16.0317       \n",
      "37          1124.06     1537                                                           16.4279       \n",
      "38          1023.69     1363                                                           16.8284       \n",
      "39          679.649     1591.15                                                        17.1595       \n",
      "40          1316.64     1413.5                                                         17.6103       \n",
      "41          807.781     1522.53                                                        18.1004       \n",
      "42          486.67      1637.01                                                        18.4838       \n",
      "43          832.355     1509.23                                                        18.8658       \n",
      "44          896.152     1029.44                                                        19.266        \n",
      "45          828.364     1032.96                                                        19.6799       \n",
      "46          575.826     1309.21                                                        20.1471       \n",
      "47          577.972     1460.69                                                        20.6173       \n",
      "48          373.835     1302.09                                                        20.987        \n",
      "49          538.132     1147.22                                                        21.3987       \n",
      "50          768.209     1214.18                                                        21.8595       \n",
      "51          417.982     1305.2                                                         22.3139       \n",
      "52          853.159     1400.61                                                        22.7174       \n",
      "53          599.129     1316.31                                                        23.1058       \n",
      "54          354.839     1315.92                                                        23.4718       \n",
      "     total [#####.............................................] 10.91%\n",
      "this epoch [###########################.......................] 54.55%\n",
      "       200 iter, 54 epoch / 500 epochs\n",
      "    8.8734 iters/sec. Estimated time to finish: 0:03:04.070852.\n",
      "55          686.319     1306.64                                                        23.8983       \n",
      "56          647.81      1200.45                                                        24.4068       \n",
      "57          361.525     1139.22                                                        24.7467       \n",
      "58          577.782     1082.61                                                        25.2171       \n",
      "59          593.007     1397.15                                                        25.6048       \n",
      "60          604.862     1693.08                                                        27.7259       \n",
      "61          1041.42     1096.31                                                        28.1245       \n",
      "62          735.292     1040.06                                                        28.6012       \n",
      "63          549.647     1172.55                                                        29.0864       \n",
      "64          541.423     1526.68                                                        29.5334       \n",
      "65          629.653     1135.97                                                        30.0281       \n",
      "66          421.964     1159.16                                                        30.3712       \n",
      "67          653.085     1177.19                                                        30.8673       \n",
      "68          366.236     1135.97                                                        31.2942       \n",
      "69          438.748     1135.32                                                        31.735        \n",
      "70          410.466     1270.74                                                        32.2802       \n",
      "71          371.53      1316.3                                                         32.7197       \n",
      "72          752.996     1066.44                                                        33.0307       \n",
      "73          755.804     1058.38                                                        33.4468       \n",
      "74          578.954     1235.54                                                        33.9325       \n",
      "75          486.638     1389.44                                                        34.3696       \n"
     ]
    },
    {
     "name": "stdout",
     "output_type": "stream",
     "text": [
      "76          740.264     1054.64                                                        34.9316       \n",
      "77          640.258     1294.91                                                        35.3574       \n",
      "78          373.035     1710.19                                                        35.7739       \n",
      "79          739.958     1191.44                                                        36.2642       \n",
      "80          508.522     1060.26                                                        36.8182       \n",
      "81          565.277     1029.67                                                        37.3705       \n",
      "     total [########..........................................] 16.36%\n",
      "this epoch [########################################..........] 81.82%\n",
      "       300 iter, 81 epoch / 500 epochs\n",
      "    7.9164 iters/sec. Estimated time to finish: 0:03:13.689994.\n",
      "82          396.964     1168.74                                                        37.8213       \n",
      "83          597.515     1288.98                                                        38.2134       \n",
      "84          458.37      1197.84                                                        38.6134       \n",
      "85          605.308     1058.92                                                        39.011        \n",
      "86          503.654     1200.38                                                        39.4468       \n",
      "87          574.407     1254.93                                                        39.7766       \n",
      "88          806.166     1031.05                                                        40.1803       \n",
      "89          765.24      1030.73                                                        40.6449       \n",
      "90          437.434     1410.17                                                        40.9866       \n",
      "91          581.631     1618.92                                                        41.418        \n",
      "92          493.879     1126.83                                                        41.8741       \n",
      "93          417.697     1031.56                                                        42.2083       \n",
      "94          601.669     1008.56                                                        42.6545       \n",
      "95          519.209     1400.58                                                        43.0777       \n",
      "96          419.27      1481.77                                                        43.4104       \n",
      "97          518.188     1026.08                                                        43.8104       \n",
      "98          558.039     1132.74                                                        44.2353       \n",
      "99          281.022     1315.45                                                        44.6117       \n",
      "100         437.927     1248.98                                                        45.1462       \n",
      "101         402.772     1046.96                                                        45.6084       \n",
      "102         378.687     1045.99                                                        45.9941       \n",
      "103         486.39      1053.78                                                        46.495        \n",
      "104         351.95      1182.9                                                         47.0135       \n",
      "105         169.084     1333.65                                                        47.3674       \n",
      "106         688.674     1093.76                                                        47.7577       \n",
      "107         488.8       1156.7                                                         48.1879       \n",
      "108         166.511     1179.69                                                        48.7172       \n",
      "109         459.914     1043.21                                                        49.2227       \n",
      "     total [##########........................................] 21.82%\n",
      "this epoch [####..............................................]  9.09%\n",
      "       400 iter, 109 epoch / 500 epochs\n",
      "     8.139 iters/sec. Estimated time to finish: 0:02:56.107665.\n",
      "110         308.52      1040.83                                                        49.6627       \n",
      "111         319.594     1092.68                                                        49.9885       \n",
      "112         289.976     1273.07                                                        50.3569       \n",
      "113         469.168     1055.72                                                        50.7393       \n",
      "114         742.293     1089.22                                                        51.0445       \n",
      "115         138.888     1261.3                                                         51.4132       \n",
      "116         556.37      1056                                                           51.8675       \n",
      "117         458.086     1052.63                                                        52.234        \n",
      "118         225.916     1164.07                                                        52.695        \n",
      "119         345.48      1056.9                                                         53.1127       \n",
      "120         380.244     1044.89                                                        53.4924       \n",
      "121         422.97      1079.66                                                        53.9756       \n",
      "122         306.88      1254.46                                                        54.3749       \n",
      "123         410.362     1070.24                                                        54.7518       \n",
      "124         447.218     1104.32                                                        55.1571       \n",
      "125         429.913     1075.93                                                        55.6341       \n",
      "126         603.758     1085.33                                                        56.0456       \n",
      "127         453.017     1153.75                                                        56.4552       \n",
      "128         287.804     1189.05                                                        56.889        \n",
      "129         557.765     1012.37                                                        57.2636       \n",
      "130         406.407     1052.42                                                        57.7167       \n",
      "131         345.966     1356.85                                                        58.2221       \n",
      "132         295.346     1050.91                                                        58.6001       \n",
      "133         579.254     1020.85                                                        59.0718       \n",
      "134         486.14      1216.46                                                        59.5022       \n",
      "135         861.781     1093.85                                                        59.8741       \n",
      "136         501.733     1081.63                                                        60.359        \n",
      "     total [#############.....................................] 27.27%\n",
      "this epoch [##################................................] 36.36%\n",
      "       500 iter, 136 epoch / 500 epochs\n",
      "    8.3169 iters/sec. Estimated time to finish: 0:02:40.316196.\n",
      "137         363.133     1067.66                                                        60.7811       \n",
      "138         412.247     988.73                                                         61.1261       \n",
      "139         267.575     1009.19                                                        61.5271       \n",
      "140         361.849     1160.37                                                        61.9262       \n",
      "141         161.046     1181.58                                                        62.5433       \n",
      "142         308.688     1023.94                                                        62.9702       \n",
      "143         472.754     1056.54                                                        63.3758       \n",
      "144         279.627     1170.84                                                        63.7091       \n",
      "145         675.605     1045.1                                                         64.1464       \n",
      "146         208.368     1029.09                                                        64.5969       \n",
      "147         376.936     1258.14                                                        64.9588       \n",
      "148         474.616     1028.02                                                        65.3555       \n",
      "149         424.559     1005.15                                                        65.7532       \n"
     ]
    },
    {
     "name": "stdout",
     "output_type": "stream",
     "text": [
      "150         416.267     987.776                                                        66.0843       \n",
      "151         367.017     974.228                                                        66.5487       \n",
      "152         199.022     1011.12                                                        66.9468       \n",
      "153         442.06      976.94                                                         67.2687       \n",
      "154         480.936     1028.87                                                        67.701        \n",
      "155         329.952     1249.01                                                        68.2801       \n",
      "156         679.984     997.006                                                        68.8793       \n",
      "157         410.098     1055.21                                                        69.4987       \n",
      "158         351.216     1044.59                                                        70.1461       \n",
      "159         446.067     958.377                                                        70.7432       \n",
      "160         647.076     966.147                                                        71.3697       \n",
      "161         133.486     1257.84                                                        72.0071       \n",
      "162         277.842     1230.07                                                        72.5637       \n",
      "163         530.784     936.804                                                        73.2152       \n",
      "     total [################..................................] 32.73%\n",
      "this epoch [###############################...................] 63.64%\n",
      "       600 iter, 163 epoch / 500 epochs\n",
      "    8.1735 iters/sec. Estimated time to finish: 0:02:30.893923.\n",
      "164         205.026     929.91                                                         73.8728       \n",
      "165         398.669     1264.98                                                        74.391        \n",
      "166         348.812     998.029                                                        75.0102       \n",
      "167         298.126     964.547                                                        75.6317       \n",
      "168         338.759     1390.22                                                        76.238        \n",
      "169         557.831     1227.97                                                        76.8564       \n",
      "170         383.933     945.182                                                        77.4778       \n",
      "171         279.627     947.021                                                        78.0069       \n",
      "172         117.636     1090                                                           78.7216       \n",
      "173         315.315     1019.79                                                        79.4426       \n",
      "174         428.048     988.046                                                        80.0135       \n",
      "175         131.364     1325.48                                                        80.658        \n",
      "176         466.337     945.39                                                         81.2743       \n",
      "177         320.725     1027.32                                                        81.5789       \n",
      "178         251.483     1292.08                                                        82.0161       \n",
      "179         302.622     1005.34                                                        82.6396       \n",
      "180         397.247     942.989                                                        82.9467       \n",
      "181         380.654     1053.02                                                        83.3078       \n",
      "182         335.605     1374.96                                                        83.676        \n",
      "183         290.915     1113.88                                                        84.0858       \n",
      "184         372.406     957.604                                                        84.4534       \n",
      "185         249.57      1019.4                                                         84.815        \n",
      "186         358.089     1144.52                                                        85.1072       \n",
      "187         353.233     964.057                                                        85.4677       \n",
      "188         334.166     1044.31                                                        85.8373       \n",
      "189         256.742     1144.85                                                        86.2001       \n",
      "190         472.335     951.17                                                         86.5613       \n",
      "     total [###################...............................] 38.18%\n",
      "this epoch [#############################################.....] 90.91%\n",
      "       700 iter, 190 epoch / 500 epochs\n",
      "    8.0672 iters/sec. Estimated time to finish: 0:02:20.485717.\n",
      "191         352.6       1166.08                                                        86.9281       \n",
      "192         411.91      1079.57                                                        87.2238       \n",
      "193         178.439     980.057                                                        87.5866       \n",
      "194         185.963     930.573                                                        87.991        \n",
      "195         411.343     1132.37                                                        88.319        \n",
      "196         311.208     1070.1                                                         88.6829       \n",
      "197         270.448     1066.33                                                        89.0417       \n",
      "198         466.481     965.853                                                        89.3395       \n",
      "199         261.894     1628.7                                                         89.744        \n",
      "200         359.803     906.012                                                        90.2238       \n",
      "201         704.51      907.051                                                        90.6256       \n",
      "202         256.537     1202.45                                                        91.1177       \n",
      "203         380.243     925.85                                                         91.7532       \n",
      "204         244.106     910.754                                                        92.2477       \n",
      "205         265.603     971.785                                                        92.8074       \n",
      "206         77.6615     1086.29                                                        93.3071       \n",
      "207         215.128     971.524                                                        93.7401       \n",
      "208         270.502     1132.47                                                        94.458        \n",
      "209         296.965     1018.69                                                        95.0299       \n",
      "210         308.536     1021.31                                                        95.5192       \n",
      "211         326.519     910.486                                                        96.1522       \n",
      "212         363.543     994.476                                                        96.8572       \n",
      "213         187.745     1025.98                                                        97.3917       \n",
      "214         366.345     921.447                                                        98.0074       \n",
      "215         421.185     1104.05                                                        98.6545       \n",
      "216         425.035     1149.98                                                        99.3362       \n",
      "217         387.967     934.195                                                        100.303       \n",
      "218         194.153     922.657                                                        101.261       \n",
      "     total [#####################.............................] 43.64%\n",
      "this epoch [#########.........................................] 18.18%\n",
      "       800 iter, 218 epoch / 500 epochs\n",
      "    7.8585 iters/sec. Estimated time to finish: 0:02:11.493059.\n",
      "219         233.568     1103.72                                                        102.071       \n",
      "220         230.805     942.992                                                        103.005       \n",
      "221         136.878     1091.27                                                        104.004       \n",
      "222         457.449     1026.81                                                        104.913       \n",
      "223         536.16      894.643                                                        105.956       \n"
     ]
    },
    {
     "name": "stdout",
     "output_type": "stream",
     "text": [
      "224         91.9443     1003.15                                                        106.917       \n",
      "225         296.019     996.376                                                        107.785       \n",
      "226         344.675     1059.62                                                        108.749       \n",
      "227         183.865     1062.38                                                        109.654       \n",
      "228         409.378     1010.89                                                        111.027       \n",
      "229         378.619     911.528                                                        111.954       \n",
      "230         194.374     932.487                                                        112.517       \n",
      "231         215.524     897.751                                                        112.949       \n",
      "232         248.554     961.061                                                        113.497       \n",
      "233         315.871     887.316                                                        114.002       \n",
      "234         209.477     969.113                                                        114.415       \n",
      "235         130.3       1216.49                                                        115.012       \n",
      "236         204.042     886.346                                                        115.601       \n",
      "237         168.705     936.106                                                        116.019       \n",
      "238         160.657     1009.17                                                        116.595       \n",
      "239         188.903     1174.57                                                        117.187       \n",
      "240         266.956     933.462                                                        117.652       \n",
      "241         155.2       898.832                                                        118.236       \n",
      "242         199.605     1103.65                                                        118.754       \n",
      "243         355.743     1093.87                                                        119.22        \n",
      "244         236.135     886.813                                                        119.763       \n",
      "245         196.961     966.652                                                        120.246       \n",
      "     total [########################..........................] 49.09%\n",
      "this epoch [######################............................] 45.45%\n",
      "       900 iter, 245 epoch / 500 epochs\n",
      "    7.4018 iters/sec. Estimated time to finish: 0:02:06.096219.\n",
      "246         214.766     977.306                                                        120.776       \n",
      "247         208.914     885.873                                                        121.295       \n",
      "248         210.596     1289.97                                                        121.856       \n",
      "249         272.994     905.682                                                        122.318       \n",
      "250         167.761     871.449                                                        122.785       \n",
      "251         146.758     1307.81                                                        123.237       \n",
      "252         654.713     958.307                                                        123.767       \n",
      "253         406.519     877.022                                                        124.21        \n",
      "254         256.1       1205.53                                                        124.65        \n",
      "255         336.365     913.138                                                        125.039       \n",
      "256         218.868     876.968                                                        125.544       \n",
      "257         177.568     1157.28                                                        126.026       \n",
      "258         389.693     996.051                                                        126.457       \n",
      "259         283.415     868.423                                                        126.982       \n",
      "260         197.764     1002.9                                                         127.553       \n",
      "261         246.741     923.42                                                         128.052       \n",
      "262         254.021     868.163                                                        128.574       \n",
      "263         237.471     1046.93                                                        129.08        \n",
      "264         490.373     1128.36                                                        129.522       \n",
      "265         298.12      905.098                                                        130.264       \n",
      "266         171.764     925.179                                                        131.107       \n",
      "267         221.81      1033.08                                                        131.782       \n",
      "268         197.191     943.693                                                        132.799       \n",
      "269         71.9862     900.916                                                        133.577       \n",
      "270         286.467     892.115                                                        134.248       \n",
      "271         346.627     981.075                                                        135.089       \n",
      "272         190.29      1062.48                                                        135.879       \n",
      "     total [###########################.......................] 54.55%\n",
      "this epoch [####################################..............] 72.73%\n",
      "      1000 iter, 272 epoch / 500 epochs\n",
      "    7.2635 iters/sec. Estimated time to finish: 0:01:54.729019.\n",
      "273         172.673     912.739                                                        136.549       \n",
      "274         179.896     880.343                                                        137.343       \n",
      "275         236.225     1163.35                                                        138.238       \n",
      "276         275.541     937.91                                                         138.958       \n",
      "277         398.873     869.805                                                        139.754       \n",
      "278         155.365     1225.72                                                        140.54        \n",
      "279         504.626     937.81                                                         141.239       \n",
      "280         401.122     857.321                                                        142.053       \n",
      "281         178.02      1059.43                                                        142.781       \n",
      "282         370.702     863.387                                                        143.193       \n",
      "283         164.6       987.154                                                        143.741       \n",
      "284         166.548     1278.9                                                         144.182       \n",
      "285         651.18      874.054                                                        144.544       \n",
      "286         322.29      992.859                                                        145.124       \n",
      "287         613.883     844.439                                                        145.568       \n",
      "288         436.171     855.944                                                        145.927       \n",
      "289         163.496     1355.02                                                        146.412       \n",
      "290         486.544     903.956                                                        147.368       \n",
      "291         495.841     843.613                                                        147.761       \n",
      "292         189.159     1010.43                                                        148.196       \n",
      "293         255.674     852.759                                                        148.68        \n",
      "294         493.809     867.651                                                        149.127       \n",
      "295         181.805     1003.53                                                        149.613       \n",
      "296         296.573     850.491                                                        150.067       \n",
      "297         257.857     847.901                                                        150.467       \n",
      "298         239.999     965.625                                                        150.917       \n",
      "299         276.97      1087.52                                                        151.477       \n"
     ]
    },
    {
     "name": "stdout",
     "output_type": "stream",
     "text": [
      "300         285.538     842.851                                                        151.892       \n",
      "     total [##############################....................] 60.00%\n",
      "this epoch [..................................................]  0.00%\n",
      "      1100 iter, 300 epoch / 500 epochs\n",
      "    7.1667 iters/sec. Estimated time to finish: 0:01:42.325718.\n",
      "301         458.169     937.74                                                         152.353       \n",
      "302         322.906     979.362                                                        152.808       \n",
      "303         303.462     922.085                                                        153.208       \n",
      "304         169.246     1021.53                                                        153.768       \n",
      "305         182.108     875.349                                                        154.242       \n",
      "306         329.007     1076.45                                                        154.611       \n",
      "307         152.744     966.93                                                         155.136       \n",
      "308         177.166     865.088                                                        155.664       \n",
      "309         212.757     1053.55                                                        156.048       \n",
      "310         165.856     902.632                                                        156.536       \n",
      "311         209.009     885.825                                                        156.985       \n",
      "312         276.057     1250.5                                                         157.362       \n",
      "313         367.036     1098.74                                                        157.929       \n",
      "314         215.574     870.13                                                         158.38        \n",
      "315         118.174     1088.05                                                        158.746       \n",
      "316         376.586     993.112                                                        159.277       \n",
      "317         625.877     905.594                                                        159.884       \n",
      "318         295.528     961.974                                                        160.265       \n",
      "319         158.475     987.117                                                        160.752       \n",
      "320         267.647     933.753                                                        161.199       \n",
      "321         468.64      838.169                                                        161.611       \n",
      "322         225.976     1140.31                                                        162.124       \n",
      "323         384.482     845.168                                                        162.826       \n",
      "324         229.264     846.859                                                        163.485       \n",
      "325         417.753     1364.25                                                        164.419       \n",
      "326         526.518     862.932                                                        165.262       \n",
      "327         547.542     860.158                                                        165.955       \n",
      "     total [################################..................] 65.45%\n",
      "this epoch [#############.....................................] 27.27%\n",
      "      1200 iter, 327 epoch / 500 epochs\n",
      "    7.1496 iters/sec. Estimated time to finish: 0:01:28.582873.\n",
      "328         246.821     1165.05                                                        166.787       \n",
      "329         285.663     968.457                                                        167.58        \n",
      "330         450.849     888.368                                                        168.25        \n",
      "331         199.747     936.258                                                        169.109       \n",
      "332         126.636     961.856                                                        169.981       \n",
      "333         358.488     924.754                                                        170.655       \n",
      "334         284.05      957.394                                                        171.473       \n",
      "335         212.413     1205.4                                                         172.369       \n",
      "336         262.649     1089.01                                                        173.048       \n",
      "337         292.023     902.999                                                        173.845       \n",
      "338         247.792     1174.52                                                        174.654       \n",
      "339         222.116     1239                                                           175.396       \n",
      "340         387.865     923.525                                                        176.11        \n",
      "341         195.361     848.555                                                        176.568       \n",
      "342         164.737     1203.24                                                        176.949       \n",
      "343         358.867     840.716                                                        177.453       \n",
      "344         353.223     929.493                                                        177.916       \n",
      "345         412.469     1207.91                                                        178.291       \n",
      "346         237.053     839.716                                                        178.843       \n",
      "347         221.891     1081.24                                                        179.34        \n",
      "348         379.358     982.539                                                        179.709       \n",
      "349         442.314     1087.43                                                        180.167       \n",
      "350         606.1       1651.66                                                        180.768       \n",
      "351         774.737     1578.93                                                        181.227       \n",
      "352         514.052     1046.08                                                        181.714       \n",
      "353         687.205     972.126                                                        182.183       \n",
      "354         622.978     1759.44                                                        182.562       \n",
      "     total [###################################...............] 70.91%\n",
      "this epoch [###########################.......................] 54.55%\n",
      "      1300 iter, 354 epoch / 500 epochs\n",
      "    7.0429 iters/sec. Estimated time to finish: 0:01:15.726433.\n",
      "355         467.495     882.671                                                        183.117       \n",
      "356         336.63      883.699                                                        183.592       \n",
      "357         620.968     1712.96                                                        183.969       \n",
      "358         1034.36     907.416                                                        184.432       \n",
      "359         445.183     844.936                                                        185.023       \n",
      "360         519.147     1019.31                                                        185.434       \n",
      "361         272.574     1038.34                                                        185.958       \n",
      "362         224.507     830.581                                                        186.418       \n",
      "363         959.509     888.347                                                        186.796       \n",
      "364         209.949     1463.74                                                        187.371       \n",
      "365         289.193     859.348                                                        188.418       \n",
      "366         345.169     845.174                                                        188.823       \n",
      "367         278.391     970.58                                                         189.34        \n",
      "368         180.572     1039.22                                                        189.864       \n",
      "369         341.914     1053.52                                                        190.28        \n",
      "370         171.053     877.617                                                        190.783       \n",
      "371         317.321     847.895                                                        191.238       \n",
      "372         289.779     1234.53                                                        191.641       \n",
      "373         327.285     998.573                                                        192.093       \n"
     ]
    },
    {
     "name": "stdout",
     "output_type": "stream",
     "text": [
      "374         285.204     885.336                                                        192.642       \n",
      "375         621.043     1057.59                                                        193.058       \n",
      "376         334.789     894.654                                                        193.531       \n",
      "377         270.658     857.018                                                        193.993       \n",
      "378         191.052     1370.76                                                        194.441       \n",
      "379         524.572     860.972                                                        194.957       \n",
      "380         348.789     875.865                                                        195.418       \n",
      "381         219.452     1159.13                                                        195.856       \n",
      "     total [######################################............] 76.36%\n",
      "this epoch [########################################..........] 81.82%\n",
      "      1400 iter, 381 epoch / 500 epochs\n",
      "    7.0745 iters/sec. Estimated time to finish: 0:01:01.253277.\n",
      "382         334.833     918.609                                                        196.333       \n",
      "383         205.85      881.68                                                         197.21        \n",
      "384         374.707     940.303                                                        197.907       \n",
      "385         231.398     1209.59                                                        198.749       \n",
      "386         580.064     878.357                                                        199.642       \n",
      "387         355.308     858.683                                                        200.321       \n",
      "388         189.311     882.461                                                        201.174       \n",
      "389         270.429     898.317                                                        202.152       \n",
      "390         411.902     1162.75                                                        202.948       \n",
      "391         289.309     851.128                                                        203.816       \n",
      "392         409.488     897.182                                                        204.735       \n",
      "393         220.605     1074.18                                                        205.433       \n",
      "394         274.775     911.721                                                        206.281       \n",
      "395         206.145     877.763                                                        207.287       \n",
      "396         410.484     1001.86                                                        207.954       \n",
      "397         516.474     893.191                                                        208.796       \n",
      "398         177.505     895.323                                                        209.604       \n",
      "399         629.632     1057.69                                                        210.42        \n",
      "400         444.796     880.282                                                        211.074       \n",
      "401         386.384     949.277                                                        211.585       \n",
      "402         363.642     1184.91                                                        211.997       \n",
      "403         395.19      902.07                                                         212.467       \n",
      "404         301.362     859.882                                                        213.028       \n",
      "405         234.402     940.724                                                        213.429       \n",
      "406         311.244     989.845                                                        213.887       \n",
      "407         236.339     825.028                                                        214.373       \n",
      "408         412.924     837.303                                                        214.753       \n",
      "409         204.886     1052.09                                                        215.324       \n",
      "     total [########################################..........] 81.82%\n",
      "this epoch [####..............................................]  9.09%\n",
      "      1500 iter, 409 epoch / 500 epochs\n",
      "    6.8975 iters/sec. Estimated time to finish: 0:00:48.326565.\n",
      "410         165.991     1041.45                                                        215.857       \n",
      "411         231.761     861.629                                                        216.237       \n",
      "412         307.514     843.942                                                        216.695       \n",
      "413         181.462     924.712                                                        217.249       \n",
      "414         148.764     967.99                                                         217.646       \n",
      "415         137.881     1020.12                                                        218.088       \n",
      "416         412.757     1161.8                                                         218.551       \n",
      "417         1128.04     851.494                                                        218.943       \n",
      "418         370.553     2055.62                                                        219.49        \n",
      "419         758.814     995.66                                                         219.954       \n",
      "420         964.73      881.339                                                        220.363       \n",
      "421         135.635     1377.72                                                        220.91        \n",
      "422         563.515     815.701                                                        221.549       \n",
      "423         313.996     880.047                                                        222.065       \n",
      "424         272.314     869.514                                                        222.595       \n",
      "425         309.358     928.725                                                        223.07        \n",
      "426         456.515     837.118                                                        223.548       \n",
      "427         443.661     903.332                                                        224.028       \n",
      "428         338.232     1081.47                                                        224.507       \n",
      "429         286.482     909.369                                                        224.949       \n",
      "430         365.193     844.929                                                        225.424       \n",
      "431         170.782     981.149                                                        226.001       \n",
      "432         303.112     1099.96                                                        226.464       \n",
      "433         347.228     868.505                                                        227.004       \n",
      "434         276.349     873.537                                                        227.489       \n",
      "435         134.252     967.365                                                        228.007       \n",
      "436         50.9759     879.765                                                        228.474       \n",
      "     total [###########################################.......] 87.27%\n",
      "this epoch [##################................................] 36.36%\n",
      "      1600 iter, 436 epoch / 500 epochs\n",
      "    6.9379 iters/sec. Estimated time to finish: 0:00:33.631859.\n",
      "437         138.489     848.254                                                        228.944       \n",
      "438         441.775     1034.78                                                        229.368       \n",
      "439         200.31      959.026                                                        230.121       \n",
      "440         290.451     861.517                                                        230.968       \n",
      "441         118.953     923.598                                                        231.655       \n",
      "442         301.529     944.824                                                        232.63        \n",
      "443         419.619     901.37                                                         233.44        \n",
      "444         240.576     1040.03                                                        234.134       \n",
      "445         178.508     890.66                                                         235.019       \n",
      "446         187.641     865.591                                                        235.858       \n",
      "447         235.754     1166.39                                                        236.581       \n"
     ]
    },
    {
     "name": "stdout",
     "output_type": "stream",
     "text": [
      "448         309.208     1028.99                                                        237.461       \n",
      "449         384.637     929.627                                                        238.367       \n",
      "450         453.844     865.413                                                        239.033       \n",
      "451         220.949     1634.36                                                        239.867       \n",
      "452         581.435     850.029                                                        240.783       \n",
      "453         476.093     949.481                                                        241.67        \n",
      "454         241.769     970.228                                                        242.462       \n",
      "455         162.39      2081.2                                                         243.306       \n",
      "456         980.74      843.929                                                        244.009       \n",
      "457         888.225     1095.57                                                        245.401       \n",
      "458         638.045     1643.61                                                        245.918       \n",
      "459         1122.03     918.681                                                        246.293       \n",
      "460         540.908     843.391                                                        246.844       \n",
      "461         367.774     1554.55                                                        247.383       \n",
      "462         576.935     1274.73                                                        247.865       \n",
      "463         176.527     834.571                                                        248.438       \n",
      "     total [##############################################....] 92.73%\n",
      "this epoch [###############################...................] 63.64%\n",
      "      1700 iter, 463 epoch / 500 epochs\n",
      "    6.7691 iters/sec. Estimated time to finish: 0:00:19.697239.\n",
      "464         244.885     847.711                                                        249.041       \n",
      "465         386.461     1324.73                                                        249.498       \n",
      "466         555.775     1011.83                                                        250.126       \n",
      "467         119.253     837.502                                                        250.66        \n",
      "468         591.701     825.924                                                        251.164       \n",
      "469         138.037     1147.4                                                         251.841       \n",
      "470         432.513     837.832                                                        252.383       \n",
      "471         688.949     829.509                                                        252.853       \n",
      "472         162.67      1161.66                                                        253.403       \n",
      "473         473.262     829.262                                                        254.045       \n",
      "474         379.511     833.775                                                        254.496       \n",
      "475         137.594     958.812                                                        254.957       \n",
      "476         249.812     841.253                                                        255.426       \n",
      "477         146.016     941.488                                                        255.846       \n",
      "478         285.298     919.58                                                         256.319       \n",
      "479         230.415     1195.13                                                        256.878       \n",
      "480         664.616     973.797                                                        257.309       \n",
      "481         276.733     1092.11                                                        257.794       \n",
      "482         129.19      936.368                                                        258.308       \n",
      "483         514.011     874.48                                                         258.798       \n",
      "484         131.429     856.678                                                        259.308       \n",
      "485         421.115     1160.71                                                        259.854       \n",
      "486         377.019     1180.13                                                        260.242       \n",
      "487         453.926     857.468                                                        260.748       \n",
      "488         344.423     858.998                                                        261.353       \n",
      "489         122.986     1051.54                                                        261.747       \n",
      "490         398.809     998.131                                                        262.224       \n",
      "     total [#################################################.] 98.18%\n",
      "this epoch [#############################################.....] 90.91%\n",
      "      1800 iter, 490 epoch / 500 epochs\n",
      "    6.7943 iters/sec. Estimated time to finish: 0:00:04.906070.\n",
      "491         176.101     868.476                                                        262.797       \n",
      "492         215.107     919.022                                                        263.283       \n",
      "493         409.246     923.067                                                        263.77        \n",
      "494         174.524     1169.45                                                        264.558       \n",
      "495         446.141     988.441                                                        265.247       \n",
      "496         131.721     888.639                                                        266.306       \n",
      "497         293.344     902.114                                                        267.234       \n",
      "498         263.73      1128.77                                                        267.982       \n",
      "499         297.413     896.039                                                        268.913       \n",
      "500         299.021     938.135                                                        269.754       \n"
     ]
    }
   ],
   "source": [
    "trainer.run()"
   ]
  },
  {
   "cell_type": "markdown",
   "metadata": {},
   "source": [
    "# 8. Varidation"
   ]
  },
  {
   "cell_type": "markdown",
   "metadata": {},
   "source": [
    "## 8.1 Varidatiom of training data"
   ]
  },
  {
   "cell_type": "code",
   "execution_count": 86,
   "metadata": {},
   "outputs": [
    {
     "name": "stdout",
     "output_type": "stream",
     "text": [
      "Ref: 167, Pred: 155 \n",
      "Ref: 176, Pred: 161 \n",
      "Ref: 102, Pred: 97 \n"
     ]
    }
   ],
   "source": [
    "# 検証（訓練データ）\n",
    "# train_iter.reset()\n",
    "\n",
    "train_batch = train_iter.next()\n",
    "train_spc, train_ref = concat_examples(train_batch)  # Test Dataset\n",
    "for i in range(3):\n",
    "    cal_ref = train_ref[i]\n",
    "    cal_pred = net(train_spc[i].reshape(1, -1)).data\n",
    "    print(\"Ref: %d, Pred: %d \" % (cal_ref, cal_pred))"
   ]
  },
  {
   "cell_type": "code",
   "execution_count": 28,
   "metadata": {},
   "outputs": [
    {
     "name": "stdout",
     "output_type": "stream",
     "text": [
      "(10,) (10,)\n",
      "0.8606246021279896\n"
     ]
    }
   ],
   "source": [
    "# 参考用の相関係数\n",
    "tarr_ref = numpy.array([169, 97, 103, 188, 203, 160, 129, 150, 119, 111])\n",
    "tarr_pre = numpy.array([179, 88, 121, 182, 179, 154, 114, 97, 101, 110])\n",
    "print(tarr_ref.shape, tarr_pre.shape)\n",
    "\n",
    "tcor = numpy.corrcoef(tarr_ref, tarr_pre)[0, 1]\n",
    "print(tcor)"
   ]
  },
  {
   "cell_type": "code",
   "execution_count": null,
   "metadata": {},
   "outputs": [],
   "source": [
    "# ガチなほうの相関係数\n",
    "tarr_ref = numpy.array([169, 97, 103, 188, 203, 160, 129, 150, 119, 111])\n",
    "tarr_pre = numpy.array([179, 88, 121, 182, 179, 154, 114, 97, 101, 110])\n",
    "print(tarr_ref.shape, tarr_pre.shape)\n",
    "\n",
    "tcor = numpy.corrcoef(tarr_ref, tarr_pre)[0, 1]\n",
    "print(tcor)"
   ]
  },
  {
   "cell_type": "code",
   "execution_count": 32,
   "metadata": {},
   "outputs": [
    {
     "data": {
      "image/png": "[encoded data removed]",
      "text/plain": [
       "<Figure size 432x288 with 1 Axes>"
      ]
     },
     "metadata": {
      "needs_background": "light"
     },
     "output_type": "display_data"
    }
   ],
   "source": [
    "plt.plot(tarr_ref, tarr_pre, 'ro')\n",
    "plt.grid()\n",
    "plt.xlabel('Reference')\n",
    "plt.ylabel('predict')\n",
    "plt.title('blood_glucose_level:calibration')\n",
    "plt.text(100,160, 'r = 0.93', fontsize=18, color='b')\n",
    "plt.savefig('val_result')\n",
    "plt.show()"
   ]
  },
  {
   "cell_type": "markdown",
   "metadata": {},
   "source": [
    "## 8.2 Varidation of test data"
   ]
  },
  {
   "cell_type": "code",
   "execution_count": 90,
   "metadata": {},
   "outputs": [
    {
     "name": "stdout",
     "output_type": "stream",
     "text": [
      "Ref: 85, Pred: 114 \n"
     ]
    },
    {
     "ename": "IndexError",
     "evalue": "index 1 is out of bounds for axis 0 with size 1",
     "output_type": "error",
     "traceback": [
      "\u001b[1;31m---------------------------------------------------------------------------\u001b[0m",
      "\u001b[1;31mIndexError\u001b[0m                                Traceback (most recent call last)",
      "\u001b[1;32m<ipython-input-90-94f0886ad0d9>\u001b[0m in \u001b[0;36m<module>\u001b[1;34m()\u001b[0m\n\u001b[0;32m      5\u001b[0m \u001b[0mtest_spc\u001b[0m\u001b[1;33m,\u001b[0m \u001b[0mtest_ref\u001b[0m \u001b[1;33m=\u001b[0m \u001b[0mconcat_examples\u001b[0m\u001b[1;33m(\u001b[0m\u001b[0mtest_batch\u001b[0m\u001b[1;33m)\u001b[0m  \u001b[1;31m# Test Dataset\u001b[0m\u001b[1;33m\u001b[0m\u001b[0m\n\u001b[0;32m      6\u001b[0m \u001b[1;32mfor\u001b[0m \u001b[0mi\u001b[0m \u001b[1;32min\u001b[0m \u001b[0mrange\u001b[0m\u001b[1;33m(\u001b[0m\u001b[1;36m3\u001b[0m\u001b[1;33m)\u001b[0m\u001b[1;33m:\u001b[0m\u001b[1;33m\u001b[0m\u001b[0m\n\u001b[1;32m----> 7\u001b[1;33m     \u001b[0mref\u001b[0m \u001b[1;33m=\u001b[0m \u001b[0mtest_ref\u001b[0m\u001b[1;33m[\u001b[0m\u001b[0mi\u001b[0m\u001b[1;33m]\u001b[0m\u001b[1;33m\u001b[0m\u001b[0m\n\u001b[0m\u001b[0;32m      8\u001b[0m     \u001b[0mpred\u001b[0m \u001b[1;33m=\u001b[0m \u001b[0mnet\u001b[0m\u001b[1;33m(\u001b[0m\u001b[0mtest_spc\u001b[0m\u001b[1;33m[\u001b[0m\u001b[0mi\u001b[0m\u001b[1;33m]\u001b[0m\u001b[1;33m.\u001b[0m\u001b[0mreshape\u001b[0m\u001b[1;33m(\u001b[0m\u001b[1;36m1\u001b[0m\u001b[1;33m,\u001b[0m \u001b[1;33m-\u001b[0m\u001b[1;36m1\u001b[0m\u001b[1;33m)\u001b[0m\u001b[1;33m)\u001b[0m\u001b[1;33m.\u001b[0m\u001b[0mdata\u001b[0m\u001b[1;33m\u001b[0m\u001b[0m\n\u001b[0;32m      9\u001b[0m     \u001b[0mprint\u001b[0m\u001b[1;33m(\u001b[0m\u001b[1;34m\"Ref: %d, Pred: %d \"\u001b[0m \u001b[1;33m%\u001b[0m \u001b[1;33m(\u001b[0m\u001b[0mref\u001b[0m\u001b[1;33m,\u001b[0m \u001b[0mpred\u001b[0m\u001b[1;33m)\u001b[0m\u001b[1;33m)\u001b[0m\u001b[1;33m\u001b[0m\u001b[0m\n",
      "\u001b[1;31mIndexError\u001b[0m: index 1 is out of bounds for axis 0 with size 1"
     ]
    }
   ],
   "source": [
    "# 検証（テストデータ）\n",
    "# test_iter.reset()\n",
    "\n",
    "test_batch = test_iter.next()\n",
    "test_spc, test_ref = concat_examples(test_batch)  # Test Dataset\n",
    "for i in range(3):\n",
    "    ref = test_ref[i]\n",
    "    pred = net(test_spc[i].reshape(1, -1)).data\n",
    "    print(\"Ref: %d, Pred: %d \" % (ref, pred))\n"
   ]
  },
  {
   "cell_type": "code",
   "execution_count": 34,
   "metadata": {},
   "outputs": [
    {
     "name": "stdout",
     "output_type": "stream",
     "text": [
      "0.8648281590142726\n"
     ]
    }
   ],
   "source": [
    "arr_train = numpy.array([97, 222, 109, 165, 205, 172, 167, 142, 160, 103])\n",
    "arr_test = numpy.array([100, 187, 115, 184, 164, 193, 148, 151, 153, 102])\n",
    "\n",
    "cor = numpy.corrcoef(arr_train, arr_test)[0, 1]\n",
    "print(cor)"
   ]
  },
  {
   "cell_type": "code",
   "execution_count": 35,
   "metadata": {},
   "outputs": [
    {
     "data": {
      "image/png": "[encoded data removed]",
      "text/plain": [
       "<Figure size 432x288 with 1 Axes>"
      ]
     },
     "metadata": {
      "needs_background": "light"
     },
     "output_type": "display_data"
    }
   ],
   "source": [
    "plt.plot(arr_train, arr_test, 'mo')\n",
    "plt.grid()\n",
    "plt.xlabel('Reference')\n",
    "plt.ylabel('predict')\n",
    "plt.title('blood_glucose_level:validation')\n",
    "plt.text(100,160, 'r = 0.86', fontsize=18, color='r')\n",
    "plt.savefig('val_result')\n",
    "plt.show()"
   ]
  },
  {
   "cell_type": "code",
   "execution_count": null,
   "metadata": {},
   "outputs": [],
   "source": []
  }
 ],
 "metadata": {
  "kernelspec": {
   "display_name": "Python 3",
   "language": "python",
   "name": "python3"
  },
  "language_info": {
   "codemirror_mode": {
    "name": "ipython",
    "version": 3
   },
   "file_extension": ".py",
   "mimetype": "text/x-python",
   "name": "python",
   "nbconvert_exporter": "python",
   "pygments_lexer": "ipython3",
   "version": "3.7.4"
  }
 },
 "nbformat": 4,
 "nbformat_minor": 2
}

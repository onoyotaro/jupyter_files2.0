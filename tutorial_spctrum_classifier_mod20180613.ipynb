{
 "cells": [
  {
   "cell_type": "markdown",
   "metadata": {},
   "source": [
    "# このノートは？\n",
    "\n",
    "- chainer のexamples (公式のサンプル)を使って, 流れを理解する\n",
    "- 研究の準備として, 以下の問題について取り組む\n",
    "    1. `[0, 100](%)` の混用率データを10 % 刻みに分類する\n",
    "    2. 回帰問題について, 挑戦する.\n",
    "\n",
    "# 使い方\n",
    "\n",
    "1. まず`A.モジュールの読み込み` と`B. Define Network: MLP` のセルを実行する\n",
    "2. 続いて, 取り組むべき項目に進む\n",
    "\n",
    "# 説明を省略してる事\n",
    "\n",
    "ググるなり, 書籍で勉強してください。\n",
    "\n",
    "- 損失関数について; 評価をしている関数\n",
    "    - 分類問題では, Softmax Cross Entropy 関数がよく使われます\n",
    "    - 回帰問題では, Mean Square Loss(MSE) 関数などが使われます\n",
    "\n",
    "# A. モジュールの読み込み"
   ]
  },
  {
   "cell_type": "code",
   "execution_count": 3,
   "metadata": {
    "collapsed": true
   },
   "outputs": [],
   "source": [
    "import argparse\n",
    "\n",
    "import chainer\n",
    "import chainer.functions as F\n",
    "import chainer.links as L\n",
    "from chainer import training\n",
    "from chainer.training import extensions\n",
    "\n",
    "\n",
    "from chainer.datasets import tuple_dataset\n",
    "from chainer.dataset import convert, concat_examples\n",
    "from pylab import *\n",
    "\n",
    "import pandas\n",
    "import numpy\n",
    "\n",
    "%matplotlib inline\n"
   ]
  },
  {
   "cell_type": "markdown",
   "metadata": {},
   "source": [
    "# B. Define Network \n",
    "\n",
    "簡単な, 多層パーセプトロンです。"
   ]
  },
  {
   "cell_type": "code",
   "execution_count": 5,
   "metadata": {
    "collapsed": true
   },
   "outputs": [],
   "source": [
    "class MLP(chainer.Chain):\n",
    "\n",
    "    def __init__(self, n_units, n_out):\n",
    "        super(MLP, self).__init__()\n",
    "        with self.init_scope():\n",
    "            # the size of the inputs to each layer will be inferred\n",
    "            self.l1 = L.Linear(None, n_units)  # n_in -> n_units\n",
    "            self.l2 = L.Linear(None, n_units)  # n_units -> n_units\n",
    "            self.l3 = L.Linear(None, n_out)  # n_units -> n_out\n",
    "\n",
    "    def __call__(self, x):\n",
    "        h1 = F.relu(self.l1(x))\n",
    "        h2 = F.relu(self.l2(h1))\n",
    "        return self.l3(h2)"
   ]
  },
  {
   "cell_type": "code",
   "execution_count": null,
   "metadata": {
    "collapsed": true
   },
   "outputs": [],
   "source": []
  },
  {
   "cell_type": "markdown",
   "metadata": {},
   "source": [
    "# 0. example/mnist/\n",
    "\n",
    "手書き文字の分類をします.\n",
    "\n",
    "## 0.1. 使うネットワークの指定と解くべきモデルを定義します"
   ]
  },
  {
   "cell_type": "code",
   "execution_count": 7,
   "metadata": {
    "collapsed": true
   },
   "outputs": [],
   "source": [
    "net = MLP(1000, 10)\n",
    "model = L.Classifier(net)\n",
    "\n"
   ]
  },
  {
   "cell_type": "markdown",
   "metadata": {},
   "source": [
    "## 0.2. 最適化について設定します。\n",
    "chainer では以下のURL 先にあるような最適化手法を利用する事ができます。\n",
    "\n",
    "https://docs.chainer.org/en/stable/reference/optimizers.html\n",
    "\n",
    "ここでは, Adam を使用しています。原理は以下の論文を参照する.\n",
    "\n",
    "https://arxiv.org/abs/1412.6980v8"
   ]
  },
  {
   "cell_type": "code",
   "execution_count": 8,
   "metadata": {},
   "outputs": [
    {
     "data": {
      "text/plain": [
       "<chainer.optimizers.adam.Adam at 0x10a02e898>"
      ]
     },
     "execution_count": 8,
     "metadata": {},
     "output_type": "execute_result"
    }
   ],
   "source": [
    "optimizer = chainer.optimizers.Adam(alpha=0.001, beta1=0.9, beta2=0.999, eps=1e-08)\n",
    "optimizer.setup(model)"
   ]
  },
  {
   "cell_type": "markdown",
   "metadata": {},
   "source": [
    "## 0.3. 解析データの準備\n",
    "### 0.3.A\n",
    "まず, 1行目ではMNIST を多分以下のURL 先からダウンロードし, /多分ホームディレクトリ/.chainer 配下に保存される. せっかくなので, MNIST とは何かを見ておくといいと思います。\n",
    "\n",
    "http://yann.lecun.com/exdb/mnist/\n",
    "\n",
    "2行目以降では, モデルの学習で呼び出すためのイテレータ形式で用意しています.\n"
   ]
  },
  {
   "cell_type": "code",
   "execution_count": 18,
   "metadata": {
    "collapsed": true
   },
   "outputs": [],
   "source": [
    "train, test = chainer.datasets.get_mnist()\n",
    "train_iter = chainer.iterators.SerialIterator(train, 1000)\n",
    "test_iter = chainer.iterators.SerialIterator(test, 1000, repeat=False, shuffle=False)\n",
    "\n",
    "\n"
   ]
  },
  {
   "cell_type": "markdown",
   "metadata": {},
   "source": [
    "### 0.3.B 中身の確認\n",
    "\n",
    "ここは, example/mnist に無い処理で, 中身の確認をしています"
   ]
  },
  {
   "cell_type": "code",
   "execution_count": 12,
   "metadata": {},
   "outputs": [
    {
     "name": "stdout",
     "output_type": "stream",
     "text": [
      "784\n",
      "8\n"
     ]
    },
    {
     "data": {
      "image/png": "[encoded data removed]",
      "text/plain": [
       "<matplotlib.figure.Figure at 0x109f59160>"
      ]
     },
     "metadata": {},
     "output_type": "display_data"
    }
   ],
   "source": [
    "train_iter.reset()\n",
    "tmp = train_iter.next()[0]\n",
    "\n",
    "print(len(tmp[0]))\n",
    "%matplotlib inline\n",
    "from pylab import *\n",
    "imshow(tmp[0].reshape(28, 28))\n",
    "print(tmp[1])"
   ]
  },
  {
   "cell_type": "markdown",
   "metadata": {},
   "source": [
    "## 0.4. 学習の設定"
   ]
  },
  {
   "cell_type": "code",
   "execution_count": 21,
   "metadata": {
    "collapsed": true
   },
   "outputs": [],
   "source": [
    "# イタレータの初期化です\n",
    "train_iter.reset()\n",
    "test_iter.reset()\n",
    "\n",
    "# ----------------------------\n",
    "\n",
    "# 学習回数\n",
    "# iteration 回数(パラメータの更新回数)でも指定できます\n",
    "epoch = 1\n",
    "\n",
    "# GPU を使うか否か; \n",
    "gpu = -1\n",
    "\n",
    "\n",
    "# 学習sequence の初期化\n",
    "updater = training.updaters.StandardUpdater(\n",
    "    train_iter, optimizer, device=gpu)\n",
    "trainer = training.Trainer(updater, (epoch, 'epoch'), out=\"./Result20180612\")\n",
    "\n",
    "# 検証の設定です: 訓練したモデルに対して, 検証データを代入して評価します.\n",
    "# 毎epoch (ないし, iteration)で計算されます\n",
    "trainer.extend(extensions.Evaluator(test_iter, model, device=gpu))\n",
    "\n",
    "# 使ったネットワークを画像化するための, dot 形式のファイルを出力する設定です.\n",
    "# graphviz というグラフ作成\n",
    "# ここでいうグラフは, 折れ線グラフとか散布図グラフの\"グラフ\"でなく, \n",
    "# ノードやエッジの集合で表す\"グラフ\"です.\n",
    "trainer.extend(extensions.dump_graph('main/loss'))\n",
    "\n",
    "\n",
    "# Write a log of evaluation statistics for each epoch\n",
    "trainer.extend(extensions.LogReport())\n",
    "\n",
    "# loss(損失) Plotの設定\n",
    "trainer.extend(\n",
    "    extensions.PlotReport(['main/loss', 'validation/main/loss'],\n",
    "                          'epoch', file_name='loss.png'))\n",
    "\n",
    "# accuracy(分類精度) Plotの設定\n",
    "trainer.extend(\n",
    "    extensions.PlotReport(\n",
    "        ['main/accuracy', 'validation/main/accuracy'],\n",
    "        'epoch', file_name='accuracy.png'))\n",
    "\n",
    "# 標準出力で, どの項目を出力させるかの設定です.\n",
    "trainer.extend(extensions.PrintReport(\n",
    "    ['epoch', 'main/loss', 'validation/main/loss',\n",
    "     'main/accuracy', 'validation/main/accuracy', 'elapsed_time']))"
   ]
  },
  {
   "cell_type": "markdown",
   "metadata": {},
   "source": [
    "# 0.5. 学習"
   ]
  },
  {
   "cell_type": "code",
   "execution_count": 22,
   "metadata": {},
   "outputs": [
    {
     "name": "stdout",
     "output_type": "stream",
     "text": [
      "epoch       main/loss   validation/main/loss  main/accuracy  validation/main/accuracy  elapsed_time\n",
      "\u001b[J1           0.0752923   0.0844654             0.977267       0.9741                    12.0917       \n"
     ]
    }
   ],
   "source": [
    "#     if args.resume:\n",
    "#         # Resume from a snapshot\n",
    "#         chainer.serializers.load_npz(args.resume, trainer)\n",
    "\n",
    "    # Run the training\n",
    "trainer.run()"
   ]
  },
  {
   "cell_type": "markdown",
   "metadata": {},
   "source": [
    "# 0.6. 答え合わせ\n",
    "## 0.6.A 学習済みモデルでの検証\n",
    "訓練したネットワークに, 検証データを代入し, 正しく分類できているかを確認します."
   ]
  },
  {
   "cell_type": "code",
   "execution_count": 42,
   "metadata": {},
   "outputs": [
    {
     "name": "stdout",
     "output_type": "stream",
     "text": [
      "[[-5.8260827 -6.654916  -4.0141077 -1.6780964  1.08317   -0.6150677\n",
      "  -6.7935443 -3.5463493  2.7270257  4.2244596]]\n"
     ]
    },
    {
     "data": {
      "image/png": "[encoded data removed]",
      "text/plain": [
       "<matplotlib.figure.Figure at 0x1341ed080>"
      ]
     },
     "metadata": {},
     "output_type": "display_data"
    }
   ],
   "source": [
    "net.to_cpu()\n",
    "\n",
    "# test_iter.reset()\n",
    "tmp = test_iter.next()[int(numpy.random.rand())]\n",
    "\n",
    "%matplotlib inline\n",
    "ans = numpy.argmax(net(tmp[0].reshape(1, 784)).data)\n",
    "fig, ax = matplotlib.pyplot.subplots(1, 1)\n",
    "ax.imshow(tmp[0].reshape(28, -1))\n",
    "ax.set_title(\"Test-Label: %s ==> Pred-Label: %s\" % (tmp[1], ans))\n",
    "\n",
    "\n",
    "# 順伝搬出力\n",
    "print(net(tmp[0].reshape(1, 784)).data)\n",
    "\n"
   ]
  },
  {
   "cell_type": "markdown",
   "metadata": {},
   "source": [
    "# 0.6.B 本当に学習できてるのか?\n",
    "\n",
    "学習前のネットワークを定義して, 学習前で本当に分類できないかを確認する."
   ]
  },
  {
   "cell_type": "code",
   "execution_count": 44,
   "metadata": {},
   "outputs": [
    {
     "name": "stdout",
     "output_type": "stream",
     "text": [
      "[[ -6.2222576  -7.4565215  -5.067435   -1.7984313   0.2752015  -2.5184677\n",
      "  -11.301038    1.3011961  -3.1755087   8.495049 ]]\n"
     ]
    },
    {
     "data": {
      "image/png": "[encoded data removed]",
      "text/plain": [
       "<matplotlib.figure.Figure at 0x127d2da58>"
      ]
     },
     "metadata": {},
     "output_type": "display_data"
    }
   ],
   "source": [
    "netB = MLP(1000, 10)\n",
    "\n",
    "# test_iter.reset()\n",
    "tmp = test_iter.next()[int(numpy.random.rand())]\n",
    "\n",
    "%matplotlib inline\n",
    "ans = numpy.argmax(netB(tmp[0].reshape(1, 784)).data)\n",
    "fig, ax = matplotlib.pyplot.subplots(1, 1)\n",
    "ax.imshow(tmp[0].reshape(28, -1))\n",
    "ax.set_title(\"Test-Label: %s ==> Pred-Label: %s\" % (tmp[1], ans))\n",
    "\n",
    "\n",
    "# 順伝搬出力\n",
    "print(net(tmp[0].reshape(1, 784)).data)\n",
    "\n"
   ]
  },
  {
   "cell_type": "markdown",
   "metadata": {},
   "source": [
    "# 1. 混用率データを10クラスに分類\n",
    "## 1.1. モデルの定義"
   ]
  },
  {
   "cell_type": "code",
   "execution_count": 45,
   "metadata": {},
   "outputs": [
    {
     "data": {
      "text/plain": [
       "<chainer.optimizers.adam.Adam at 0x134337940>"
      ]
     },
     "execution_count": 45,
     "metadata": {},
     "output_type": "execute_result"
    }
   ],
   "source": [
    "# network の定義\n",
    "\n",
    "net_cp = MLP(5000, 10)\n",
    "model = L.Classifier(net_cp)\n",
    "\n",
    "# optimizer\n",
    "optimizer = chainer.optimizers.Adam(alpha=0.001, beta1=0.9, beta2=0.999, eps=1e-08)\n",
    "optimizer.setup(model)"
   ]
  },
  {
   "cell_type": "markdown",
   "metadata": {},
   "source": [
    "## 1.2. Excel ファイルの読み込み\n",
    "\n",
    "Pandas を使って, Excel ファイルを読み込みます."
   ]
  },
  {
   "cell_type": "code",
   "execution_count": 47,
   "metadata": {
    "collapsed": true
   },
   "outputs": [],
   "source": [
    "# xls = pandas.read_excel(\"/home/fiber_classifier/Desktop/FY2017to2018_twada/00_Data/MixtureRate/CP.xls\")\n",
    "xls = pandas.read_excel(\"/Users/twada/Data/DC2016to2019/MixingRateForMonglian_H28/CP.xls\")"
   ]
  },
  {
   "cell_type": "code",
   "execution_count": 55,
   "metadata": {
    "collapsed": true,
    "scrolled": true
   },
   "outputs": [],
   "source": [
    "arr = xls.as_matrix()  # pandas.DataFrame 型 ==> numpy.ndarray 型; 解析データ部分の抽出\n",
    "# print(arr)\n",
    "\n",
    "# スペクトルデータと参照値(ラベル情報)を分離する\n",
    "data = arr[:-1]\n",
    "ref = arr[-1]\n",
    "# data.shape"
   ]
  },
  {
   "cell_type": "code",
   "execution_count": 57,
   "metadata": {
    "collapsed": true
   },
   "outputs": [],
   "source": [
    "# 参照値のList から, 0, 9までの10 段階のラベル-List を生成する\n",
    "\n",
    "list_ref = []\n",
    "for v in ref:\n",
    "    list_ref.append(round(v/10))\n",
    "label = numpy.array(list_ref, dtype=numpy.int)\n"
   ]
  },
  {
   "cell_type": "markdown",
   "metadata": {},
   "source": [
    "## 1.3. 解析データの準備\n",
    "\n",
    "まず, 1行目ではMNIST を多分以下のURL 先からダウンロードし, /多分ホームディレクトリ/.chainer 配下に保存される. せっかくなので, MNIST とは何かを見ておくといいと思います。\n",
    "\n",
    "http://yann.lecun.com/exdb/mnist/\n",
    "\n",
    "2行目以降では, モデルの学習で呼び出すためのイテレータ形式で用意しています.\n"
   ]
  },
  {
   "cell_type": "code",
   "execution_count": 58,
   "metadata": {
    "collapsed": true
   },
   "outputs": [],
   "source": [
    "x_train, y_train = data[:,:100].astype(numpy.float32), label[:100]\n",
    "x_test, y_test = data[:,100:].astype(numpy.float32), label[100:]\n",
    "\n",
    "train = tuple_dataset.TupleDataset(x_train.T, y_train)\n",
    "test = tuple_dataset.TupleDataset(x_test.T, y_test)\n",
    "\n",
    "\n",
    "train_iter = chainer.iterators.SerialIterator(train, 10)\n",
    "test_iter = chainer.iterators.SerialIterator(test, 28, repeat=False, shuffle=False)"
   ]
  },
  {
   "cell_type": "code",
   "execution_count": 59,
   "metadata": {
    "collapsed": true,
    "scrolled": true
   },
   "outputs": [],
   "source": [
    "# イタレータの初期化です\n",
    "train_iter.reset()\n",
    "test_iter.reset()\n",
    "\n",
    "# ----------------------------\n",
    "\n",
    "# 学習回数\n",
    "# iteration 回数(パラメータの更新回数)でも指定できます\n",
    "epoch = 1\n",
    "\n",
    "# GPU を使うか否か; \n",
    "gpu = -1\n",
    "\n",
    "\n",
    "# 学習sequence の初期化\n",
    "updater = training.updaters.StandardUpdater(\n",
    "    train_iter, optimizer, device=gpu)\n",
    "trainer = training.Trainer(updater, (epoch, 'epoch'), out=\"./Result20180612\")\n",
    "\n",
    "# 検証の設定です: 訓練したモデルに対して, 検証データを代入して評価します.\n",
    "# 毎epoch (ないし, iteration)で計算されます\n",
    "trainer.extend(extensions.Evaluator(test_iter, model, device=gpu))\n",
    "\n",
    "# 使ったネットワークを画像化するための, dot 形式のファイルを出力する設定です.\n",
    "# graphviz というグラフ作成\n",
    "# ここでいうグラフは, 折れ線グラフとか散布図グラフの\"グラフ\"でなく, \n",
    "# ノードやエッジの集合で表す\"グラフ\"です.\n",
    "trainer.extend(extensions.dump_graph('main/loss'))\n",
    "\n",
    "\n",
    "# Write a log of evaluation statistics for each epoch\n",
    "trainer.extend(extensions.LogReport())\n",
    "\n",
    "# loss(損失) Plotの設定\n",
    "trainer.extend(\n",
    "    extensions.PlotReport(['main/loss', 'validation/main/loss'],\n",
    "                          'epoch', file_name='loss.png'))\n",
    "\n",
    "# accuracy(分類精度) Plotの設定\n",
    "trainer.extend(\n",
    "    extensions.PlotReport(\n",
    "        ['main/accuracy', 'validation/main/accuracy'],\n",
    "        'epoch', file_name='accuracy.png'))\n",
    "\n",
    "# 標準出力で, どの項目を出力させるかの設定です.\n",
    "trainer.extend(extensions.PrintReport(\n",
    "    ['epoch', 'main/loss', 'validation/main/loss',\n",
    "     'main/accuracy', 'validation/main/accuracy', 'elapsed_time']))"
   ]
  },
  {
   "cell_type": "code",
   "execution_count": 60,
   "metadata": {},
   "outputs": [
    {
     "name": "stdout",
     "output_type": "stream",
     "text": [
      "epoch       main/loss   validation/main/loss  main/accuracy  validation/main/accuracy  elapsed_time\n",
      "\u001b[J1           23.5425     1.86069               0.12           0.037037                  8.35071       \n"
     ]
    }
   ],
   "source": [
    "# 学習開始\n",
    "trainer.run()"
   ]
  },
  {
   "cell_type": "markdown",
   "metadata": {},
   "source": [
    "# 1.4. 答え合わせ"
   ]
  },
  {
   "cell_type": "code",
   "execution_count": 121,
   "metadata": {},
   "outputs": [
    {
     "name": "stdout",
     "output_type": "stream",
     "text": [
      "3\n",
      "Output of forward propagation\n",
      "[[-0.6601541  -0.98300207  0.40640348 -0.800582   -0.00879913 -0.41354418\n",
      "   1.3191265   1.0131575   1.1820529  -0.42023137]]\n"
     ]
    },
    {
     "data": {
      "image/png": "[encoded data removed]",
      "text/plain": [
       "<matplotlib.figure.Figure at 0x10f6289e8>"
      ]
     },
     "metadata": {},
     "output_type": "display_data"
    }
   ],
   "source": [
    "net.to_cpu()\n",
    "\n",
    "test_iter.reset()\n",
    "k = int(numpy.random.choice(range(27), size=1))\n",
    "print(k)\n",
    "tmp = test_iter.next()[k]  # 適当に1 スペクトル選びます\n",
    "\n",
    "fig, ax = matplotlib.pyplot.subplots(1, 1)\n",
    "ax.plot(tmp[0])\n",
    "\n",
    "\n",
    "ans = numpy.argmax(net_cp(tmp[0].reshape(1, -1)).data)\n",
    "\n",
    "ax.set_title(\"Test-Label: %s ==> Pred-Label: %s\" % (tmp[1], ans))\n",
    "\n",
    "\n",
    "# 順伝搬出力\n",
    "print(\"Output of forward propagation\")\n",
    "print(net_cp(tmp[0].reshape(1, -1)).data)\n",
    "\n"
   ]
  },
  {
   "cell_type": "code",
   "execution_count": 150,
   "metadata": {},
   "outputs": [
    {
     "name": "stdout",
     "output_type": "stream",
     "text": [
      "Ref: 8, Pred: 6 False\n",
      "Ref: 8, Pred: 6 False\n",
      "Ref: 8, Pred: 6 False\n",
      "Ref: 8, Pred: 6 False\n",
      "Ref: 8, Pred: 6 False\n",
      "Ref: 2, Pred: 6 False\n",
      "Ref: 8, Pred: 6 False\n",
      "Ref: 8, Pred: 6 False\n",
      "Ref: 7, Pred: 6 False\n",
      "Ref: 9, Pred: 6 False\n",
      "Ref: 9, Pred: 6 False\n",
      "Ref: 4, Pred: 6 False\n",
      "Ref: 2, Pred: 6 False\n",
      "Ref: 7, Pred: 6 False\n",
      "Ref: 7, Pred: 6 False\n",
      "Ref: 6, Pred: 6 True\n",
      "Ref: 8, Pred: 6 False\n",
      "Ref: 7, Pred: 6 False\n",
      "Ref: 7, Pred: 6 False\n",
      "Ref: 8, Pred: 6 False\n",
      "Ref: 8, Pred: 6 False\n",
      "Ref: 8, Pred: 6 False\n",
      "Ref: 8, Pred: 6 False\n",
      "Ref: 7, Pred: 6 False\n",
      "Ref: 7, Pred: 6 False\n",
      "Ref: 0, Pred: 6 False\n",
      "Ref: 8, Pred: 6 False\n"
     ]
    }
   ],
   "source": [
    "test_iter.reset()\n",
    "\n",
    "# test_batch = test_iter.next()\n",
    "# test_spc, test_ref = concat_examples(test_batch)  # Test Dataset\n",
    "tmp = test_iter.next()\n",
    "for k in range(27):\n",
    "    spc = tmp[k][0]\n",
    "    ref = tmp[k][1]\n",
    "    pred = numpy.argmax(net_cp(spc.reshape(1,-1)).data)\n",
    "    print(\"Ref: %d, Pred: %d %s\" % (ref, pred, ref == pred))"
   ]
  },
  {
   "cell_type": "markdown",
   "metadata": {},
   "source": [
    "# C. おまけ\n",
    "## C.1. データのばらつき"
   ]
  },
  {
   "cell_type": "code",
   "execution_count": 156,
   "metadata": {},
   "outputs": [
    {
     "name": "stdout",
     "output_type": "stream",
     "text": [
      "10 %刻みの場合\n",
      " ----------- \n",
      "(array([ 3,  2, 12,  6,  7,  7, 21, 26, 23, 20]), array([ 0.4 ,  9.52, 18.64, 27.76, 36.88, 46.  , 55.12, 64.24, 73.36,\n",
      "       82.48, 91.6 ]))\n",
      "1 %刻みの場合\n",
      " ----------- \n",
      "(array([ 1,  1,  0,  0,  0,  0,  0,  0,  0,  1,  0,  1,  0,  0,  0,  0,  1,\n",
      "        0,  0,  0,  2,  4,  2,  1,  1,  0,  0,  0,  0,  2,  1,  0,  1,  0,\n",
      "        3,  0,  0,  0,  0,  1,  1,  2,  0,  0,  1,  0,  2,  0,  0,  1,  0,\n",
      "        1,  1,  1,  2,  0,  0,  1,  1,  0,  1,  0,  0,  0,  0,  0,  2,  5,\n",
      "        7,  6,  4, 11,  4,  1,  1,  1,  2,  1,  0,  1,  0,  1,  0,  1,  2,\n",
      "        2,  3,  1,  5,  8,  7,  7,  3,  0,  0,  0,  0,  0,  1,  2]), array([ 0.4  ,  1.312,  2.224,  3.136,  4.048,  4.96 ,  5.872,  6.784,\n",
      "        7.696,  8.608,  9.52 , 10.432, 11.344, 12.256, 13.168, 14.08 ,\n",
      "       14.992, 15.904, 16.816, 17.728, 18.64 , 19.552, 20.464, 21.376,\n",
      "       22.288, 23.2  , 24.112, 25.024, 25.936, 26.848, 27.76 , 28.672,\n",
      "       29.584, 30.496, 31.408, 32.32 , 33.232, 34.144, 35.056, 35.968,\n",
      "       36.88 , 37.792, 38.704, 39.616, 40.528, 41.44 , 42.352, 43.264,\n",
      "       44.176, 45.088, 46.   , 46.912, 47.824, 48.736, 49.648, 50.56 ,\n",
      "       51.472, 52.384, 53.296, 54.208, 55.12 , 56.032, 56.944, 57.856,\n",
      "       58.768, 59.68 , 60.592, 61.504, 62.416, 63.328, 64.24 , 65.152,\n",
      "       66.064, 66.976, 67.888, 68.8  , 69.712, 70.624, 71.536, 72.448,\n",
      "       73.36 , 74.272, 75.184, 76.096, 77.008, 77.92 , 78.832, 79.744,\n",
      "       80.656, 81.568, 82.48 , 83.392, 84.304, 85.216, 86.128, 87.04 ,\n",
      "       87.952, 88.864, 89.776, 90.688, 91.6  ]))\n",
      "5 %刻みの場合\n",
      " ----------- \n",
      "(array([ 2,  1,  1,  1, 10,  2,  5,  1,  4,  3,  5,  2,  1, 20, 21,  5,  4,\n",
      "       19, 17,  3]), array([ 0.4 ,  4.96,  9.52, 14.08, 18.64, 23.2 , 27.76, 32.32, 36.88,\n",
      "       41.44, 46.  , 50.56, 55.12, 59.68, 64.24, 68.8 , 73.36, 77.92,\n",
      "       82.48, 87.04, 91.6 ]))\n"
     ]
    }
   ],
   "source": [
    "print(\"10 %刻みの場合\")\n",
    "print(\" ----------- \")\n",
    "print(numpy.histogram(a=arr[-1], bins=10))\n",
    "\n",
    "print(\"1 %刻みの場合\")\n",
    "print(\" ----------- \")\n",
    "print(numpy.histogram(a=arr[-1], bins=100))\n",
    "\n",
    "print(\"5 %刻みの場合\")\n",
    "print(\" ----------- \")\n",
    "print(numpy.histogram(a=arr[-1], bins=20))"
   ]
  },
  {
   "cell_type": "code",
   "execution_count": null,
   "metadata": {
    "collapsed": true
   },
   "outputs": [],
   "source": []
  },
  {
   "cell_type": "code",
   "execution_count": null,
   "metadata": {
    "collapsed": true
   },
   "outputs": [],
   "source": []
  },
  {
   "cell_type": "code",
   "execution_count": 1,
   "metadata": {},
   "outputs": [],
   "source": [
    "import numpy\n",
    "import pandas\n",
    "import glob\n",
    "impo"
   ]
  },
  {
   "cell_type": "code",
   "execution_count": null,
   "metadata": {},
   "outputs": [],
   "source": []
  }
 ],
 "metadata": {
  "kernelspec": {
   "display_name": "Python 3",
   "language": "python",
   "name": "python3"
  },
  "language_info": {
   "codemirror_mode": {
    "name": "ipython",
    "version": 3
   },
   "file_extension": ".py",
   "mimetype": "text/x-python",
   "name": "python",
   "nbconvert_exporter": "python",
   "pygments_lexer": "ipython3",
   "version": "3.7.4"
  },
  "toc": {
   "colors": {
    "hover_highlight": "#DAA520",
    "navigate_num": "#000000",
    "navigate_text": "#333333",
    "running_highlight": "#FF0000",
    "selected_highlight": "#FFD700",
    "sidebar_border": "#EEEEEE",
    "wrapper_background": "#FFFFFF"
   },
   "moveMenuLeft": true,
   "nav_menu": {
    "height": "453.033px",
    "width": "252px"
   },
   "navigate_menu": true,
   "number_sections": true,
   "sideBar": true,
   "threshold": 4,
   "toc_cell": false,
   "toc_section_display": "block",
   "toc_window_display": false,
   "widenNotebook": false
  }
 },
 "nbformat": 4,
 "nbformat_minor": 2
}

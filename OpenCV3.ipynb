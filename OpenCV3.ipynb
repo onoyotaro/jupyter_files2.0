{
 "cells": [
  {
   "cell_type": "code",
   "execution_count": 2,
   "metadata": {},
   "outputs": [
    {
     "name": "stdout",
     "output_type": "stream",
     "text": [
      "4.2.0\n"
     ]
    }
   ],
   "source": [
    "import cv2\n",
    "import numpy as np\n",
    "\n",
    "print(cv2.__version__)"
   ]
  },
  {
   "cell_type": "code",
   "execution_count": 4,
   "metadata": {},
   "outputs": [],
   "source": [
    "img = np.zeros((400, 400, 3), np.uint8)\n",
    "img[:,:] = [255, 0, 0]\n",
    "cv2.imwrite('C:/temp/blueImage.jpg', img)\n",
    "cv2.imshow('img1', img)\n",
    "\n",
    "img[:,:] = [0, 255, 0]\n",
    "cv2.imwrite('C:/temp/greenImage.jpg', img)\n",
    "cv2.imshow('img2', img)\n",
    "\n",
    "img[:,:] = [0, 0, 255]\n",
    "cv2.imwrite('C:/temp/redImage.jpg', img)\n",
    "cv2.imshow('img3', img)\n",
    "\n",
    "cv2.waitKey(0)\n",
    "cv2.destroyAllWindows()"
   ]
  },
  {
   "cell_type": "code",
   "execution_count": 6,
   "metadata": {},
   "outputs": [],
   "source": [
    "img = cv2.imread('C:/temp/Lenna.jpg')\n",
    "# cv2.imwrite('C:/temp/ReadWrite.jpg', img)"
   ]
  },
  {
   "cell_type": "code",
   "execution_count": null,
   "metadata": {},
   "outputs": [],
   "source": []
  }
 ],
 "metadata": {
  "kernelspec": {
   "display_name": "Python 3",
   "language": "python",
   "name": "python3"
  },
  "language_info": {
   "codemirror_mode": {
    "name": "ipython",
    "version": 3
   },
   "file_extension": ".py",
   "mimetype": "text/x-python",
   "name": "python",
   "nbconvert_exporter": "python",
   "pygments_lexer": "ipython3",
   "version": "3.7.6"
  }
 },
 "nbformat": 4,
 "nbformat_minor": 4
}

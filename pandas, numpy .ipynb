{
 "cells": [
  {
   "cell_type": "code",
   "execution_count": 1,
   "metadata": {},
   "outputs": [],
   "source": [
    "import time\n",
    "\n",
    "import pandas\n",
    "import argparse\n",
    "\n",
    "import chainer\n",
    "from chainer import cuda, Function, report, training, utils, Variable\n",
    "from chainer import datasets, iterators, optimizers, serializers\n",
    "from chainer import Link, Chain, ChainList\n",
    "import chainer.functions as F\n",
    "import chainer.links as L\n",
    "from chainer import training\n",
    "from chainer.training import extensions\n",
    "from chainer.datasets import tuple_dataset\n",
    "from chainer.dataset import convert, concat_examples\n",
    "import numpy \n",
    "\n",
    "import os"
   ]
  },
  {
   "cell_type": "code",
   "execution_count": 2,
   "metadata": {},
   "outputs": [],
   "source": [
    "import glob\n",
    "\n",
    "a_list = sorted(glob.glob(\"C:/Users/Owner/Desktop/txt/A-*\"))\n",
    "b_list = sorted(glob.glob(\"C:/Users/Owner/Desktop/txt/B-*\"))\n",
    "c_list = sorted(glob.glob(\"C:/Users/Owner/Desktop/txt/C-*\"))\n",
    "d_list = sorted(glob.glob(\"C:/Users/Owner/Desktop/txt/D-*\"))\n",
    "e_list = sorted(glob.glob(\"C:/Users/Owner/Desktop/txt/E-*\"))\n",
    "f_list = sorted(glob.glob(\"C:/Users/Owner/Desktop/txt/F-*\"))\n",
    "g_list = sorted(glob.glob(\"C:/Users/Owner/Desktop/txt/G-*\"))"
   ]
  },
  {
   "cell_type": "code",
   "execution_count": 3,
   "metadata": {},
   "outputs": [
    {
     "name": "stderr",
     "output_type": "stream",
     "text": [
      "C:\\Users\\Owner\\Anaconda3\\lib\\site-packages\\ipykernel_launcher.py:2: FutureWarning: Method .as_matrix will be removed in a future version. Use .values instead.\n",
      "  \n",
      "C:\\Users\\Owner\\Anaconda3\\lib\\site-packages\\ipykernel_launcher.py:10: FutureWarning: Method .as_matrix will be removed in a future version. Use .values instead.\n",
      "  # Remove the CWD from sys.path while we load stuff.\n",
      "C:\\Users\\Owner\\Anaconda3\\lib\\site-packages\\ipykernel_launcher.py:13: FutureWarning: Method .as_matrix will be removed in a future version. Use .values instead.\n",
      "  del sys.path[0]\n"
     ]
    }
   ],
   "source": [
    "xls = pandas.read_csv(a_list[0], comment=\"#\", delimiter=\"\\t\", header=None)\n",
    "col = xls.as_matrix()[:,0]\n",
    "\n",
    "j = 0\n",
    "for list_ in (a_list, b_list, c_list, d_list, e_list, f_list, g_list):\n",
    "#     print(list_)\n",
    "    for i, fname in enumerate (list_):\n",
    "        xls = pandas.read_csv(fname, comment=\"#\", delimiter=\"\\t\", header=None)\n",
    "        if j == 0:\n",
    "            arr = xls.as_matrix()[:,1]\n",
    "            hddr = os.path.split(fname)[1].split(\".\")[0]\n",
    "        else:\n",
    "            arr = numpy.vstack((arr, xls.as_matrix()[:,1]))\n",
    "            hddr = numpy.hstack((hddr, os.path.split(fname)[1].split(\".\")[0]))\n",
    "        j += 1"
   ]
  },
  {
   "cell_type": "code",
   "execution_count": 4,
   "metadata": {},
   "outputs": [
    {
     "name": "stdout",
     "output_type": "stream",
     "text": [
      "(160, 2385) (2385,) (160,)\n"
     ]
    }
   ],
   "source": [
    "print(arr.shape, col.shape, hddr.shape)"
   ]
  },
  {
   "cell_type": "code",
   "execution_count": 5,
   "metadata": {},
   "outputs": [],
   "source": [
    "df = pandas.DataFrame(data=arr.T,  # spectra, reference\n",
    "                      index=col,  # wavenumber\n",
    "                      columns=hddr)  # file name"
   ]
  },
  {
   "cell_type": "code",
   "execution_count": 6,
   "metadata": {},
   "outputs": [],
   "source": [
    "df.to_excel(\"C:/Users/Owner/Desktop/CCMI_2.xlsx\")"
   ]
  },
  {
   "cell_type": "code",
   "execution_count": null,
   "metadata": {},
   "outputs": [],
   "source": []
  },
  {
   "cell_type": "code",
   "execution_count": null,
   "metadata": {},
   "outputs": [],
   "source": []
  },
  {
   "cell_type": "markdown",
   "metadata": {},
   "source": [
    "# 練習"
   ]
  },
  {
   "cell_type": "markdown",
   "metadata": {},
   "source": [
    "## スタイルの設定\n",
    "*Itaric* の表示\n",
    "\n",
    "**Bold** の表示\n",
    "\n",
    "***Itaric & Bold*** の表示\n",
    "\n",
    "~~取り消し線~~ の表示"
   ]
  },
  {
   "cell_type": "markdown",
   "metadata": {},
   "source": [
    "## 引用の設定\n",
    "引用文の指定。以下、引用のテキスト\n",
    "\n",
    ">引用のテキスト\n",
    ">>さらに引用\n",
    ">>>もひとつ引用\n",
    "\n",
    "引用終わり。本文に戻る"
   ]
  },
  {
   "cell_type": "markdown",
   "metadata": {},
   "source": [
    "## ソースコードの設定\n",
    "デフォルトのソースコード\n",
    "```\n",
    "def hello():\n",
    "    print(\"hello\")\n",
    "```\n",
    "\n",
    "言語を指定した場合\n",
    "```Python\n",
    "def hello():\n",
    "    print(hello)\n",
    "```\n",
    "\n",
    "表示の違いを確認"
   ]
  },
  {
   "cell_type": "markdown",
   "metadata": {},
   "source": [
    "## 仕切りの設定\n",
    "テキストその1.\n",
    "***\n",
    "テキストその2."
   ]
  },
  {
   "cell_type": "markdown",
   "metadata": {},
   "source": [
    "## リンクの設定\n",
    "リンクの表示1. https://google.com リンクの表示\n",
    "\n",
    "リンクの表示2. [リンク](https://google.com)の表示\n",
    "\n",
    "引用によるリンクの設定。[Google][1]や[Yahoo!][2]のリンク。\n",
    "\n",
    "[1]: https://google.com \"Google\"\n",
    "[2]: https://yahoo.co.jp \"Yahoo!\""
   ]
  },
  {
   "cell_type": "code",
   "execution_count": null,
   "metadata": {},
   "outputs": [],
   "source": []
  },
  {
   "cell_type": "markdown",
   "metadata": {},
   "source": [
    "# numpy と scipy"
   ]
  },
  {
   "cell_type": "code",
   "execution_count": 1,
   "metadata": {},
   "outputs": [],
   "source": [
    "import numpy as np\n",
    "import scipy "
   ]
  },
  {
   "cell_type": "markdown",
   "metadata": {},
   "source": [
    "### 配列の生成"
   ]
  },
  {
   "cell_type": "code",
   "execution_count": 4,
   "metadata": {},
   "outputs": [
    {
     "name": "stdout",
     "output_type": "stream",
     "text": [
      "[10. 20. 30.]\n",
      "[0. 0. 0. 0. 0.]\n",
      "[1. 1. 1. 1. 1.]\n"
     ]
    }
   ],
   "source": [
    "arr = np.array([10, 20, 30.])\n",
    "print(arr)\n",
    "\n",
    "arr0 = np.zeros(5)\n",
    "arr1 = np.ones(5)\n",
    "print(arr0)\n",
    "print(arr1)"
   ]
  },
  {
   "cell_type": "markdown",
   "metadata": {},
   "source": [
    "### 等差数列"
   ]
  },
  {
   "cell_type": "code",
   "execution_count": 5,
   "metadata": {},
   "outputs": [
    {
     "name": "stdout",
     "output_type": "stream",
     "text": [
      "[ 0 20 40 60 80]\n",
      "[  0.  25.  50.  75. 100.]\n"
     ]
    }
   ],
   "source": [
    "arr_1 = np.arange(0, 100, 20)\n",
    "arr_2 = np.linspace(0, 100, 5)\n",
    "print(arr_1)\n",
    "print(arr_2)"
   ]
  },
  {
   "cell_type": "markdown",
   "metadata": {},
   "source": [
    "### ベクトル演算"
   ]
  },
  {
   "cell_type": "code",
   "execution_count": 6,
   "metadata": {},
   "outputs": [
    {
     "name": "stdout",
     "output_type": "stream",
     "text": [
      "[1 2 3 5 8]\n",
      "[11 12 13 15 18]\n",
      "[-9 -8 -7 -5 -2]\n",
      "[ 2  4  6 10 16]\n",
      "[0.5 1.  1.5 2.5 4. ]\n",
      "[1 0 1 1 0]\n"
     ]
    }
   ],
   "source": [
    "# ベクトルと数値の計算\n",
    "arr_3 = np.array([1, 2, 3, 5, 8])\n",
    "print(arr_3)\n",
    "\n",
    "print(arr_3 + 10)\n",
    "print(arr_3 - 10)\n",
    "print(arr_3 * 2)\n",
    "print(arr_3 / 2)\n",
    "print(arr_3 % 2)"
   ]
  },
  {
   "cell_type": "code",
   "execution_count": 8,
   "metadata": {},
   "outputs": [
    {
     "name": "stdout",
     "output_type": "stream",
     "text": [
      "[ 9 15 24 39]\n",
      "[ 7 11 18 29]\n",
      "[  8  26  63 170]\n",
      "[8.  6.5 7.  6.8]\n",
      "[0 1 0 4]\n"
     ]
    }
   ],
   "source": [
    "# ベクトル同士の計算\n",
    "arr_4 = np.array([1, 2, 3, 5])\n",
    "arr_5 = np.array([8, 13, 21, 34])\n",
    "\n",
    "print(arr_5 + arr_4)\n",
    "print(arr_5 - arr_4)\n",
    "print(arr_5 * arr_4)\n",
    "print(arr_5 / arr_4)\n",
    "print(arr_5 % arr_4)"
   ]
  },
  {
   "cell_type": "markdown",
   "metadata": {},
   "source": [
    "### 行列の作成"
   ]
  },
  {
   "cell_type": "code",
   "execution_count": 10,
   "metadata": {},
   "outputs": [
    {
     "name": "stdout",
     "output_type": "stream",
     "text": [
      "[[1 2 3]\n",
      " [4 5 6]\n",
      " [7 8 9]]\n"
     ]
    }
   ],
   "source": [
    "arr_6 = np.matrix([[1, 2, 3],\n",
    "                   [4, 5, 6],\n",
    "                   [7, 8, 9]])\n",
    "print(arr_6)"
   ]
  },
  {
   "cell_type": "code",
   "execution_count": 12,
   "metadata": {},
   "outputs": [
    {
     "name": "stdout",
     "output_type": "stream",
     "text": [
      "[[1. 0. 0.]\n",
      " [0. 1. 0.]\n",
      " [0. 0. 1.]]\n",
      "[[1. 0. 0. 0. 0.]\n",
      " [0. 1. 0. 0. 0.]\n",
      " [0. 0. 1. 0. 0.]\n",
      " [0. 0. 0. 1. 0.]\n",
      " [0. 0. 0. 0. 1.]]\n"
     ]
    }
   ],
   "source": [
    "# 単位行列の生成\n",
    "arr_7 = np.identity(3)\n",
    "arr_8 = np.identity(5)\n",
    "\n",
    "print(arr_7)\n",
    "print(arr_8)"
   ]
  },
  {
   "cell_type": "code",
   "execution_count": 13,
   "metadata": {},
   "outputs": [
    {
     "name": "stdout",
     "output_type": "stream",
     "text": [
      "[[1. 0. 0. 0. 0. 0. 0.]\n",
      " [0. 1. 0. 0. 0. 0. 0.]\n",
      " [0. 0. 1. 0. 0. 0. 0.]\n",
      " [0. 0. 0. 1. 0. 0. 0.]\n",
      " [0. 0. 0. 0. 1. 0. 0.]]\n",
      "[[0. 0. 1. 0. 0. 0. 0.]\n",
      " [0. 0. 0. 1. 0. 0. 0.]\n",
      " [0. 0. 0. 0. 1. 0. 0.]\n",
      " [0. 0. 0. 0. 0. 1. 0.]\n",
      " [0. 0. 0. 0. 0. 0. 1.]]\n"
     ]
    }
   ],
   "source": [
    "# 非正方行列の作成\n",
    "arr_9 = np.eye(5, 7, 0)\n",
    "arr_10 = np.eye(5, 7, 2)\n",
    "\n",
    "print(arr_9)\n",
    "print(arr_10)"
   ]
  },
  {
   "cell_type": "code",
   "execution_count": 14,
   "metadata": {},
   "outputs": [
    {
     "name": "stdout",
     "output_type": "stream",
     "text": [
      "[[1 0 0]\n",
      " [0 2 0]\n",
      " [0 0 3]]\n",
      "[[ 3  0  0  0  0]\n",
      " [ 0  5  0  0  0]\n",
      " [ 0  0  8  0  0]\n",
      " [ 0  0  0 13  0]\n",
      " [ 0  0  0  0 21]]\n"
     ]
    }
   ],
   "source": [
    "# そのほかの対角行列\n",
    "arr_11 = np.diag([1, 2, 3])\n",
    "arr_12 = np.diag([3, 5, 8, 13, 21])\n",
    "\n",
    "print(arr_11)\n",
    "print(arr_12)"
   ]
  },
  {
   "cell_type": "code",
   "execution_count": 16,
   "metadata": {},
   "outputs": [
    {
     "name": "stdout",
     "output_type": "stream",
     "text": [
      "[ 1  2  3  5  8 13 21 34 55]\n",
      "[[ 1  2  3]\n",
      " [ 5  8 13]\n",
      " [21 34 55]]\n"
     ]
    }
   ],
   "source": [
    "# ベクトルから行列への変換\n",
    "arr_13 = np.array([1, 2, 3, 5, 8, 13, 21, 34, 55])\n",
    "arr_14 = arr_13.reshape((3,3))\n",
    "\n",
    "print(arr_13)\n",
    "print(arr_14)"
   ]
  },
  {
   "cell_type": "code",
   "execution_count": 17,
   "metadata": {},
   "outputs": [
    {
     "name": "stdout",
     "output_type": "stream",
     "text": [
      "[[ 1  2  3]\n",
      " [ 5  8 13]\n",
      " [21 34 55]]\n",
      "[[ 1  5 21]\n",
      " [ 2  8 34]\n",
      " [ 3 13 55]]\n"
     ]
    }
   ],
   "source": [
    "# 転置\n",
    "arr_15 = np.array([1, 2, 3, 5, 8, 13, 21, 34, 55])\n",
    "arr_16 = arr_15.reshape((3,3))\n",
    "print(arr_16)\n",
    "print(arr_16.T)"
   ]
  },
  {
   "cell_type": "code",
   "execution_count": 19,
   "metadata": {},
   "outputs": [
    {
     "name": "stdout",
     "output_type": "stream",
     "text": [
      "[[1 0 0 0]\n",
      " [0 2 0 0]\n",
      " [0 0 3 0]\n",
      " [0 0 0 5]]\n",
      "[1 0 0 0 0 2 0 0 0 0 3 0 0 0 0 5]\n"
     ]
    }
   ],
   "source": [
    "# 行列からベクトル\n",
    "arr_17 = np.diag([1, 2, 3, 5])\n",
    "arr_18 = np.ravel(arr_17)\n",
    "\n",
    "print(arr_17)\n",
    "print(arr_18)"
   ]
  },
  {
   "cell_type": "markdown",
   "metadata": {},
   "source": [
    "### ベクトル・行列の演算"
   ]
  },
  {
   "cell_type": "code",
   "execution_count": 20,
   "metadata": {},
   "outputs": [
    {
     "name": "stdout",
     "output_type": "stream",
     "text": [
      "[ 6 10 16]\n",
      "[ 1  2  3  5  8 13]\n"
     ]
    }
   ],
   "source": [
    "# ベクトルの結合\n",
    "arr1 = np.array([1, 2, 3])\n",
    "arr2 = np.array([5, 8, 13])\n",
    "arr3 = arr1 + arr2\n",
    "arr4 = np.ravel([arr1, arr2])\n",
    "print(arr3)\n",
    "print(arr4)"
   ]
  },
  {
   "cell_type": "markdown",
   "metadata": {},
   "source": [
    "## pandas"
   ]
  },
  {
   "cell_type": "code",
   "execution_count": 9,
   "metadata": {},
   "outputs": [],
   "source": [
    "import pandas as pd"
   ]
  },
  {
   "cell_type": "markdown",
   "metadata": {},
   "source": [
    "### DataFrame"
   ]
  },
  {
   "cell_type": "code",
   "execution_count": 29,
   "metadata": {},
   "outputs": [
    {
     "name": "stdout",
     "output_type": "stream",
     "text": [
      "['山田', '山田', '山田', '山田', '山田', '田中', '田中', '田中', '田中', '田中', '佐藤', '佐藤', '佐藤', '佐藤', '佐藤', '鈴木', '鈴木', '鈴木', '鈴木', '鈴木', '高橋', '高橋', '高橋', '高橋', '高橋', '武田', '武田', '武田', '武田', '武田', '中西', '中西', '中西', '中西', '中西', '江口', '江口', '江口', '江口', '江口', '高野', '高野', '高野', '高野', '高野', '小川', '小川', '小川', '小川', '小川']\n",
      "['国語', '算数', '英語', '理科', '社会', '国語', '算数', '英語', '理科', '社会', '国語', '算数', '英語', '理科', '社会', '国語', '算数', '英語', '理科', '社会', '国語', '算数', '英語', '理科', '社会', '国語', '算数', '英語', '理科', '社会', '国語', '算数', '英語', '理科', '社会', '国語', '算数', '英語', '理科', '社会', '国語', '算数', '英語', '理科', '社会', '国語', '算数', '英語', '理科', '社会']\n",
      "[86, 99, 44, 91, 78, 18, 5, 29, 55, 4, 39, 23, 38, 41, 58, 59, 1, 60, 78, 40, 2, 97, 58, 63, 64, 69, 56, 80, 47, 38, 5, 64, 86, 37, 82, 64, 44, 8, 57, 68, 75, 39, 17, 93, 76, 58, 74, 15, 77, 85]\n"
     ]
    }
   ],
   "source": [
    "arr1 = ['山田'] * 5 + ['田中'] * 5 + ['佐藤'] * 5 + ['鈴木'] * 5 + ['高橋'] * 5 \\\n",
    " + ['武田'] * 5 + ['中西'] * 5 +  ['江口'] * 5  + ['高野'] * 5 +  ['小川'] * 5 \n",
    "\n",
    "arr2 = ['国語','算数','英語','理科','社会'] * 10\n",
    "\n",
    "arr3 = [np.random.randint(0,100) for i in range(50)]\n",
    "\n",
    "print(arr1)\n",
    "print(arr2)\n",
    "print(arr3)"
   ]
  },
  {
   "cell_type": "code",
   "execution_count": 30,
   "metadata": {},
   "outputs": [
    {
     "name": "stdout",
     "output_type": "stream",
     "text": [
      "<class 'pandas.core.frame.DataFrame'>\n",
      "RangeIndex: 50 entries, 0 to 49\n",
      "Data columns (total 3 columns):\n",
      "名前    50 non-null object\n",
      "教科    50 non-null object\n",
      "点数    50 non-null int64\n",
      "dtypes: int64(1), object(2)\n",
      "memory usage: 1.2+ KB\n",
      "\n"
     ]
    },
    {
     "data": {
      "text/html": [
       "<div>\n",
       "<style scoped>\n",
       "    .dataframe tbody tr th:only-of-type {\n",
       "        vertical-align: middle;\n",
       "    }\n",
       "\n",
       "    .dataframe tbody tr th {\n",
       "        vertical-align: top;\n",
       "    }\n",
       "\n",
       "    .dataframe thead th {\n",
       "        text-align: right;\n",
       "    }\n",
       "</style>\n",
       "<table border=\"1\" class=\"dataframe\">\n",
       "  <thead>\n",
       "    <tr style=\"text-align: right;\">\n",
       "      <th></th>\n",
       "      <th>名前</th>\n",
       "      <th>教科</th>\n",
       "      <th>点数</th>\n",
       "    </tr>\n",
       "  </thead>\n",
       "  <tbody>\n",
       "    <tr>\n",
       "      <th>0</th>\n",
       "      <td>山田</td>\n",
       "      <td>国語</td>\n",
       "      <td>86</td>\n",
       "    </tr>\n",
       "    <tr>\n",
       "      <th>1</th>\n",
       "      <td>山田</td>\n",
       "      <td>算数</td>\n",
       "      <td>99</td>\n",
       "    </tr>\n",
       "    <tr>\n",
       "      <th>2</th>\n",
       "      <td>山田</td>\n",
       "      <td>英語</td>\n",
       "      <td>44</td>\n",
       "    </tr>\n",
       "    <tr>\n",
       "      <th>3</th>\n",
       "      <td>山田</td>\n",
       "      <td>理科</td>\n",
       "      <td>91</td>\n",
       "    </tr>\n",
       "    <tr>\n",
       "      <th>4</th>\n",
       "      <td>山田</td>\n",
       "      <td>社会</td>\n",
       "      <td>78</td>\n",
       "    </tr>\n",
       "  </tbody>\n",
       "</table>\n",
       "</div>"
      ],
      "text/plain": [
       "   名前  教科  点数\n",
       "0  山田  国語  86\n",
       "1  山田  算数  99\n",
       "2  山田  英語  44\n",
       "3  山田  理科  91\n",
       "4  山田  社会  78"
      ]
     },
     "execution_count": 30,
     "metadata": {},
     "output_type": "execute_result"
    }
   ],
   "source": [
    "data = list(zip(arr1,arr2,arr3))\n",
    "df = pd.DataFrame(data=data, columns=['名前','教科','点数'])\n",
    "df.info()\n",
    "print()\n",
    "df[:5]"
   ]
  },
  {
   "cell_type": "code",
   "execution_count": 31,
   "metadata": {},
   "outputs": [
    {
     "data": {
      "text/plain": [
       "0    86\n",
       "1    99\n",
       "2    44\n",
       "3    91\n",
       "4    78\n",
       "5    18\n",
       "6     5\n",
       "7    29\n",
       "8    55\n",
       "9     4\n",
       "Name: 点数, dtype: int64"
      ]
     },
     "execution_count": 31,
     "metadata": {},
     "output_type": "execute_result"
    }
   ],
   "source": [
    "df['点数'][:10]"
   ]
  },
  {
   "cell_type": "code",
   "execution_count": 32,
   "metadata": {},
   "outputs": [
    {
     "data": {
      "text/html": [
       "<div>\n",
       "<style scoped>\n",
       "    .dataframe tbody tr th:only-of-type {\n",
       "        vertical-align: middle;\n",
       "    }\n",
       "\n",
       "    .dataframe tbody tr th {\n",
       "        vertical-align: top;\n",
       "    }\n",
       "\n",
       "    .dataframe thead th {\n",
       "        text-align: right;\n",
       "    }\n",
       "</style>\n",
       "<table border=\"1\" class=\"dataframe\">\n",
       "  <thead>\n",
       "    <tr style=\"text-align: right;\">\n",
       "      <th></th>\n",
       "      <th>名前</th>\n",
       "      <th>教科</th>\n",
       "      <th>点数</th>\n",
       "      <th>総合</th>\n",
       "    </tr>\n",
       "  </thead>\n",
       "  <tbody>\n",
       "    <tr>\n",
       "      <th>0</th>\n",
       "      <td>山田</td>\n",
       "      <td>国語</td>\n",
       "      <td>86</td>\n",
       "      <td>18</td>\n",
       "    </tr>\n",
       "    <tr>\n",
       "      <th>1</th>\n",
       "      <td>山田</td>\n",
       "      <td>算数</td>\n",
       "      <td>99</td>\n",
       "      <td>73</td>\n",
       "    </tr>\n",
       "    <tr>\n",
       "      <th>2</th>\n",
       "      <td>山田</td>\n",
       "      <td>英語</td>\n",
       "      <td>44</td>\n",
       "      <td>0</td>\n",
       "    </tr>\n",
       "    <tr>\n",
       "      <th>3</th>\n",
       "      <td>山田</td>\n",
       "      <td>理科</td>\n",
       "      <td>91</td>\n",
       "      <td>31</td>\n",
       "    </tr>\n",
       "    <tr>\n",
       "      <th>4</th>\n",
       "      <td>山田</td>\n",
       "      <td>社会</td>\n",
       "      <td>78</td>\n",
       "      <td>24</td>\n",
       "    </tr>\n",
       "  </tbody>\n",
       "</table>\n",
       "</div>"
      ],
      "text/plain": [
       "   名前  教科  点数  総合\n",
       "0  山田  国語  86  18\n",
       "1  山田  算数  99  73\n",
       "2  山田  英語  44   0\n",
       "3  山田  理科  91  31\n",
       "4  山田  社会  78  24"
      ]
     },
     "execution_count": 32,
     "metadata": {},
     "output_type": "execute_result"
    }
   ],
   "source": [
    "# 列の追加\n",
    "df['総合'] = [np.random.randint(0,100) for i in range(50)]\n",
    "df[:5]"
   ]
  },
  {
   "cell_type": "code",
   "execution_count": 20,
   "metadata": {},
   "outputs": [],
   "source": [
    "del df['総合']"
   ]
  },
  {
   "cell_type": "code",
   "execution_count": 33,
   "metadata": {},
   "outputs": [
    {
     "data": {
      "text/html": [
       "<div>\n",
       "<style scoped>\n",
       "    .dataframe tbody tr th:only-of-type {\n",
       "        vertical-align: middle;\n",
       "    }\n",
       "\n",
       "    .dataframe tbody tr th {\n",
       "        vertical-align: top;\n",
       "    }\n",
       "\n",
       "    .dataframe thead th {\n",
       "        text-align: right;\n",
       "    }\n",
       "</style>\n",
       "<table border=\"1\" class=\"dataframe\">\n",
       "  <thead>\n",
       "    <tr style=\"text-align: right;\">\n",
       "      <th></th>\n",
       "      <th>氏名</th>\n",
       "      <th>教科</th>\n",
       "      <th>中間</th>\n",
       "      <th>期末</th>\n",
       "    </tr>\n",
       "  </thead>\n",
       "  <tbody>\n",
       "    <tr>\n",
       "      <th>0</th>\n",
       "      <td>山田</td>\n",
       "      <td>国語</td>\n",
       "      <td>86</td>\n",
       "      <td>18</td>\n",
       "    </tr>\n",
       "    <tr>\n",
       "      <th>1</th>\n",
       "      <td>山田</td>\n",
       "      <td>算数</td>\n",
       "      <td>99</td>\n",
       "      <td>73</td>\n",
       "    </tr>\n",
       "    <tr>\n",
       "      <th>2</th>\n",
       "      <td>山田</td>\n",
       "      <td>英語</td>\n",
       "      <td>44</td>\n",
       "      <td>0</td>\n",
       "    </tr>\n",
       "    <tr>\n",
       "      <th>3</th>\n",
       "      <td>山田</td>\n",
       "      <td>理科</td>\n",
       "      <td>91</td>\n",
       "      <td>31</td>\n",
       "    </tr>\n",
       "    <tr>\n",
       "      <th>4</th>\n",
       "      <td>山田</td>\n",
       "      <td>社会</td>\n",
       "      <td>78</td>\n",
       "      <td>24</td>\n",
       "    </tr>\n",
       "  </tbody>\n",
       "</table>\n",
       "</div>"
      ],
      "text/plain": [
       "   氏名  教科  中間  期末\n",
       "0  山田  国語  86  18\n",
       "1  山田  算数  99  73\n",
       "2  山田  英語  44   0\n",
       "3  山田  理科  91  31\n",
       "4  山田  社会  78  24"
      ]
     },
     "execution_count": 33,
     "metadata": {},
     "output_type": "execute_result"
    }
   ],
   "source": [
    "# 列名の変更\n",
    "df.columns = ['氏名', '教科', '中間', '期末']\n",
    "df[:5]"
   ]
  },
  {
   "cell_type": "code",
   "execution_count": 34,
   "metadata": {},
   "outputs": [
    {
     "data": {
      "text/html": [
       "<div>\n",
       "<style scoped>\n",
       "    .dataframe tbody tr th:only-of-type {\n",
       "        vertical-align: middle;\n",
       "    }\n",
       "\n",
       "    .dataframe tbody tr th {\n",
       "        vertical-align: top;\n",
       "    }\n",
       "\n",
       "    .dataframe thead th {\n",
       "        text-align: right;\n",
       "    }\n",
       "</style>\n",
       "<table border=\"1\" class=\"dataframe\">\n",
       "  <thead>\n",
       "    <tr style=\"text-align: right;\">\n",
       "      <th></th>\n",
       "      <th>氏名</th>\n",
       "      <th>教科</th>\n",
       "      <th>中間</th>\n",
       "      <th>期末</th>\n",
       "    </tr>\n",
       "  </thead>\n",
       "  <tbody>\n",
       "    <tr>\n",
       "      <th>45</th>\n",
       "      <td>小川</td>\n",
       "      <td>国語</td>\n",
       "      <td>58</td>\n",
       "      <td>80</td>\n",
       "    </tr>\n",
       "    <tr>\n",
       "      <th>46</th>\n",
       "      <td>小川</td>\n",
       "      <td>算数</td>\n",
       "      <td>74</td>\n",
       "      <td>26</td>\n",
       "    </tr>\n",
       "    <tr>\n",
       "      <th>47</th>\n",
       "      <td>小川</td>\n",
       "      <td>英語</td>\n",
       "      <td>15</td>\n",
       "      <td>98</td>\n",
       "    </tr>\n",
       "    <tr>\n",
       "      <th>48</th>\n",
       "      <td>小川</td>\n",
       "      <td>理科</td>\n",
       "      <td>77</td>\n",
       "      <td>30</td>\n",
       "    </tr>\n",
       "    <tr>\n",
       "      <th>49</th>\n",
       "      <td>小川</td>\n",
       "      <td>社会</td>\n",
       "      <td>85</td>\n",
       "      <td>69</td>\n",
       "    </tr>\n",
       "    <tr>\n",
       "      <th>50</th>\n",
       "      <td>上杉</td>\n",
       "      <td>国語</td>\n",
       "      <td>95</td>\n",
       "      <td>89</td>\n",
       "    </tr>\n",
       "    <tr>\n",
       "      <th>51</th>\n",
       "      <td>上杉</td>\n",
       "      <td>算数</td>\n",
       "      <td>87</td>\n",
       "      <td>71</td>\n",
       "    </tr>\n",
       "    <tr>\n",
       "      <th>52</th>\n",
       "      <td>上杉</td>\n",
       "      <td>英語</td>\n",
       "      <td>69</td>\n",
       "      <td>93</td>\n",
       "    </tr>\n",
       "    <tr>\n",
       "      <th>53</th>\n",
       "      <td>上杉</td>\n",
       "      <td>理科</td>\n",
       "      <td>73</td>\n",
       "      <td>52</td>\n",
       "    </tr>\n",
       "    <tr>\n",
       "      <th>54</th>\n",
       "      <td>上杉</td>\n",
       "      <td>社会</td>\n",
       "      <td>54</td>\n",
       "      <td>60</td>\n",
       "    </tr>\n",
       "  </tbody>\n",
       "</table>\n",
       "</div>"
      ],
      "text/plain": [
       "    氏名  教科  中間  期末\n",
       "45  小川  国語  58  80\n",
       "46  小川  算数  74  26\n",
       "47  小川  英語  15  98\n",
       "48  小川  理科  77  30\n",
       "49  小川  社会  85  69\n",
       "50  上杉  国語  95  89\n",
       "51  上杉  算数  87  71\n",
       "52  上杉  英語  69  93\n",
       "53  上杉  理科  73  52\n",
       "54  上杉  社会  54  60"
      ]
     },
     "execution_count": 34,
     "metadata": {},
     "output_type": "execute_result"
    }
   ],
   "source": [
    "# 行の追加\n",
    "new_data = [('上杉','国語', 95, 89),\n",
    "            ('上杉','算数', 87, 71),\n",
    "            ('上杉','英語', 69, 93),\n",
    "            ('上杉','理科', 73, 52),\n",
    "            ('上杉','社会', 54, 60)]\n",
    "\n",
    "new_df = pd.DataFrame(data=new_data, columns=['氏名', '教科', '中間', '期末'])\n",
    "df2 = df.append(new_df, ignore_index=True)\n",
    "df2[45:]"
   ]
  },
  {
   "cell_type": "code",
   "execution_count": 35,
   "metadata": {},
   "outputs": [
    {
     "data": {
      "text/html": [
       "<div>\n",
       "<style scoped>\n",
       "    .dataframe tbody tr th:only-of-type {\n",
       "        vertical-align: middle;\n",
       "    }\n",
       "\n",
       "    .dataframe tbody tr th {\n",
       "        vertical-align: top;\n",
       "    }\n",
       "\n",
       "    .dataframe thead th {\n",
       "        text-align: right;\n",
       "    }\n",
       "</style>\n",
       "<table border=\"1\" class=\"dataframe\">\n",
       "  <thead>\n",
       "    <tr style=\"text-align: right;\">\n",
       "      <th></th>\n",
       "      <th>氏名</th>\n",
       "      <th>教科</th>\n",
       "      <th>中間</th>\n",
       "      <th>期末</th>\n",
       "    </tr>\n",
       "  </thead>\n",
       "  <tbody>\n",
       "    <tr>\n",
       "      <th>50</th>\n",
       "      <td>上杉</td>\n",
       "      <td>国語</td>\n",
       "      <td>95</td>\n",
       "      <td>89</td>\n",
       "    </tr>\n",
       "    <tr>\n",
       "      <th>51</th>\n",
       "      <td>上杉</td>\n",
       "      <td>算数</td>\n",
       "      <td>87</td>\n",
       "      <td>71</td>\n",
       "    </tr>\n",
       "    <tr>\n",
       "      <th>52</th>\n",
       "      <td>上杉</td>\n",
       "      <td>英語</td>\n",
       "      <td>69</td>\n",
       "      <td>93</td>\n",
       "    </tr>\n",
       "    <tr>\n",
       "      <th>53</th>\n",
       "      <td>上杉</td>\n",
       "      <td>理科</td>\n",
       "      <td>73</td>\n",
       "      <td>52</td>\n",
       "    </tr>\n",
       "    <tr>\n",
       "      <th>54</th>\n",
       "      <td>上杉</td>\n",
       "      <td>社会</td>\n",
       "      <td>54</td>\n",
       "      <td>60</td>\n",
       "    </tr>\n",
       "    <tr>\n",
       "      <th>55</th>\n",
       "      <td>黒田</td>\n",
       "      <td>国語</td>\n",
       "      <td>15</td>\n",
       "      <td>20</td>\n",
       "    </tr>\n",
       "    <tr>\n",
       "      <th>56</th>\n",
       "      <td>黒田</td>\n",
       "      <td>算数</td>\n",
       "      <td>15</td>\n",
       "      <td>20</td>\n",
       "    </tr>\n",
       "    <tr>\n",
       "      <th>57</th>\n",
       "      <td>黒田</td>\n",
       "      <td>英語</td>\n",
       "      <td>15</td>\n",
       "      <td>20</td>\n",
       "    </tr>\n",
       "    <tr>\n",
       "      <th>58</th>\n",
       "      <td>黒田</td>\n",
       "      <td>理科</td>\n",
       "      <td>15</td>\n",
       "      <td>20</td>\n",
       "    </tr>\n",
       "    <tr>\n",
       "      <th>59</th>\n",
       "      <td>黒田</td>\n",
       "      <td>社会</td>\n",
       "      <td>15</td>\n",
       "      <td>20</td>\n",
       "    </tr>\n",
       "  </tbody>\n",
       "</table>\n",
       "</div>"
      ],
      "text/plain": [
       "    氏名  教科  中間  期末\n",
       "50  上杉  国語  95  89\n",
       "51  上杉  算数  87  71\n",
       "52  上杉  英語  69  93\n",
       "53  上杉  理科  73  52\n",
       "54  上杉  社会  54  60\n",
       "55  黒田  国語  15  20\n",
       "56  黒田  算数  15  20\n",
       "57  黒田  英語  15  20\n",
       "58  黒田  理科  15  20\n",
       "59  黒田  社会  15  20"
      ]
     },
     "execution_count": 35,
     "metadata": {},
     "output_type": "execute_result"
    }
   ],
   "source": [
    "(rows, cols) = df2.shape\n",
    "df2.loc[rows] = ['黒田', '国語', 15, 20]\n",
    "df2.loc[rows+1] = ['黒田', '算数', 15, 20]\n",
    "df2.loc[rows+2] = ['黒田', '英語', 15, 20]\n",
    "df2.loc[rows+3] = ['黒田', '理科', 15, 20]\n",
    "df2.loc[rows+4] = ['黒田', '社会', 15, 20]\n",
    "df2.tail(10)"
   ]
  },
  {
   "cell_type": "code",
   "execution_count": 36,
   "metadata": {},
   "outputs": [
    {
     "data": {
      "text/html": [
       "<div>\n",
       "<style scoped>\n",
       "    .dataframe tbody tr th:only-of-type {\n",
       "        vertical-align: middle;\n",
       "    }\n",
       "\n",
       "    .dataframe tbody tr th {\n",
       "        vertical-align: top;\n",
       "    }\n",
       "\n",
       "    .dataframe thead th {\n",
       "        text-align: right;\n",
       "    }\n",
       "</style>\n",
       "<table border=\"1\" class=\"dataframe\">\n",
       "  <thead>\n",
       "    <tr style=\"text-align: right;\">\n",
       "      <th></th>\n",
       "      <th>氏名</th>\n",
       "      <th>教科</th>\n",
       "      <th>中間</th>\n",
       "      <th>期末</th>\n",
       "    </tr>\n",
       "  </thead>\n",
       "  <tbody>\n",
       "    <tr>\n",
       "      <th>a</th>\n",
       "      <td>山田</td>\n",
       "      <td>国語</td>\n",
       "      <td>86</td>\n",
       "      <td>18</td>\n",
       "    </tr>\n",
       "    <tr>\n",
       "      <th>b</th>\n",
       "      <td>山田</td>\n",
       "      <td>算数</td>\n",
       "      <td>99</td>\n",
       "      <td>73</td>\n",
       "    </tr>\n",
       "    <tr>\n",
       "      <th>c</th>\n",
       "      <td>山田</td>\n",
       "      <td>英語</td>\n",
       "      <td>44</td>\n",
       "      <td>0</td>\n",
       "    </tr>\n",
       "    <tr>\n",
       "      <th>d</th>\n",
       "      <td>山田</td>\n",
       "      <td>理科</td>\n",
       "      <td>91</td>\n",
       "      <td>31</td>\n",
       "    </tr>\n",
       "    <tr>\n",
       "      <th>e</th>\n",
       "      <td>山田</td>\n",
       "      <td>社会</td>\n",
       "      <td>78</td>\n",
       "      <td>24</td>\n",
       "    </tr>\n",
       "    <tr>\n",
       "      <th>f</th>\n",
       "      <td>田中</td>\n",
       "      <td>国語</td>\n",
       "      <td>18</td>\n",
       "      <td>37</td>\n",
       "    </tr>\n",
       "    <tr>\n",
       "      <th>g</th>\n",
       "      <td>田中</td>\n",
       "      <td>算数</td>\n",
       "      <td>5</td>\n",
       "      <td>16</td>\n",
       "    </tr>\n",
       "    <tr>\n",
       "      <th>h</th>\n",
       "      <td>田中</td>\n",
       "      <td>英語</td>\n",
       "      <td>29</td>\n",
       "      <td>13</td>\n",
       "    </tr>\n",
       "    <tr>\n",
       "      <th>i</th>\n",
       "      <td>田中</td>\n",
       "      <td>理科</td>\n",
       "      <td>55</td>\n",
       "      <td>58</td>\n",
       "    </tr>\n",
       "    <tr>\n",
       "      <th>j</th>\n",
       "      <td>田中</td>\n",
       "      <td>社会</td>\n",
       "      <td>4</td>\n",
       "      <td>64</td>\n",
       "    </tr>\n",
       "  </tbody>\n",
       "</table>\n",
       "</div>"
      ],
      "text/plain": [
       "   氏名  教科  中間  期末\n",
       "a  山田  国語  86  18\n",
       "b  山田  算数  99  73\n",
       "c  山田  英語  44   0\n",
       "d  山田  理科  91  31\n",
       "e  山田  社会  78  24\n",
       "f  田中  国語  18  37\n",
       "g  田中  算数   5  16\n",
       "h  田中  英語  29  13\n",
       "i  田中  理科  55  58\n",
       "j  田中  社会   4  64"
      ]
     },
     "execution_count": 36,
     "metadata": {},
     "output_type": "execute_result"
    }
   ],
   "source": [
    "# インデックスの変更\n",
    "df2.index = list('abcdefghijklmnopqrstuvwxyzABCDEFGHIJKLMNOPQRSTUVWXYZ12345678')\n",
    "df2.head(10)"
   ]
  },
  {
   "cell_type": "code",
   "execution_count": 40,
   "metadata": {},
   "outputs": [
    {
     "data": {
      "text/html": [
       "<div>\n",
       "<style scoped>\n",
       "    .dataframe tbody tr th:only-of-type {\n",
       "        vertical-align: middle;\n",
       "    }\n",
       "\n",
       "    .dataframe tbody tr th {\n",
       "        vertical-align: top;\n",
       "    }\n",
       "\n",
       "    .dataframe thead th {\n",
       "        text-align: right;\n",
       "    }\n",
       "</style>\n",
       "<table border=\"1\" class=\"dataframe\">\n",
       "  <thead>\n",
       "    <tr style=\"text-align: right;\">\n",
       "      <th></th>\n",
       "      <th>A</th>\n",
       "      <th>B</th>\n",
       "      <th>C</th>\n",
       "    </tr>\n",
       "  </thead>\n",
       "  <tbody>\n",
       "    <tr>\n",
       "      <th>0</th>\n",
       "      <td>1823.5881</td>\n",
       "      <td>-0.379559</td>\n",
       "      <td>-0.398127</td>\n",
       "    </tr>\n",
       "    <tr>\n",
       "      <th>1</th>\n",
       "      <td>1823.5882</td>\n",
       "      <td>-0.436725</td>\n",
       "      <td>-0.215821</td>\n",
       "    </tr>\n",
       "    <tr>\n",
       "      <th>2</th>\n",
       "      <td>1823.5883</td>\n",
       "      <td>-0.013988</td>\n",
       "      <td>0.038587</td>\n",
       "    </tr>\n",
       "    <tr>\n",
       "      <th>3</th>\n",
       "      <td>1823.5884</td>\n",
       "      <td>0.073285</td>\n",
       "      <td>-0.481058</td>\n",
       "    </tr>\n",
       "    <tr>\n",
       "      <th>4</th>\n",
       "      <td>1823.5885</td>\n",
       "      <td>-0.100122</td>\n",
       "      <td>-0.124777</td>\n",
       "    </tr>\n",
       "  </tbody>\n",
       "</table>\n",
       "</div>"
      ],
      "text/plain": [
       "           A         B         C\n",
       "0  1823.5881 -0.379559 -0.398127\n",
       "1  1823.5882 -0.436725 -0.215821\n",
       "2  1823.5883 -0.013988  0.038587\n",
       "3  1823.5884  0.073285 -0.481058\n",
       "4  1823.5885 -0.100122 -0.124777"
      ]
     },
     "execution_count": 40,
     "metadata": {},
     "output_type": "execute_result"
    }
   ],
   "source": [
    "# csvファイルの読み込み\n",
    "csv_df = pd.read_csv(\"C:/Users/Owner/Desktop/[190611]kurasawa/Blood_glucose_level/1.csv\", header=None, names=['A', 'B', 'C'])\n",
    "csv_df[:5]"
   ]
  },
  {
   "cell_type": "code",
   "execution_count": null,
   "metadata": {},
   "outputs": [],
   "source": []
  }
 ],
 "metadata": {
  "kernelspec": {
   "display_name": "Python 3",
   "language": "python",
   "name": "python3"
  },
  "language_info": {
   "codemirror_mode": {
    "name": "ipython",
    "version": 3
   },
   "file_extension": ".py",
   "mimetype": "text/x-python",
   "name": "python",
   "nbconvert_exporter": "python",
   "pygments_lexer": "ipython3",
   "version": "3.7.6"
  }
 },
 "nbformat": 4,
 "nbformat_minor": 2
}

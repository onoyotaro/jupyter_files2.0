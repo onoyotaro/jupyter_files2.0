{
 "cells": [
  {
   "cell_type": "code",
   "execution_count": 1,
   "metadata": {},
   "outputs": [],
   "source": [
    "import numpy\n",
    "import pandas"
   ]
  },
  {
   "cell_type": "code",
   "execution_count": 2,
   "metadata": {},
   "outputs": [],
   "source": [
    "BKG = pandas.read_csv(\"C:/Users/Owner/Desktop/LAB/LAB 2019/analysis/THz_data/BKG.txt\", encoding='shift-jis', header=None, sep='\\t')\n",
    "BKG_last = pandas.read_csv(\"C:/Users/Owner/Desktop/LAB/LAB 2019/analysis/THz_data/BKG_last.txt\",\n",
    "                          encoding='shift-jis', header=None, sep='\\t')"
   ]
  },
  {
   "cell_type": "code",
   "execution_count": 3,
   "metadata": {},
   "outputs": [
    {
     "name": "stdout",
     "output_type": "stream",
     "text": [
      "BKGの配列 :  (667, 4)\n",
      "BKG lastの配列 :  (686, 2)\n",
      "wavenumber[0] :  57.854\n",
      "SB[0] :  172.84889\n",
      "last_wavenumber[0] :  39.5336\n",
      "last_SB[0] :  0.0910324\n"
     ]
    }
   ],
   "source": [
    "# BKG_iloc : BKGの20~704行目を抽出\n",
    "# bkg : dtypeをobject→floatに変更（文字型→浮動小数点）\n",
    "bkg = BKG.iloc[19:705]\n",
    "bkg_last = BKG_last.iloc[19:705]\n",
    "#bkg = fa.astype(float)\n",
    "print(\"BKGの配列 : \", bkg.shape)\n",
    "print(\"BKG lastの配列 : \", bkg_last.shape)\n",
    "\n",
    "# bkg_df : DataFrame → numpy.ndarray に変更\n",
    "bkg_df = bkg.values\n",
    "bkg_last_df = bkg_last.values\n",
    "# x,y : 波数と強度に分割\n",
    "bkg_x = bkg_df[:, 0].astype(numpy.float32)\n",
    "bkg_y = bkg_df[:, 1].astype(numpy.float32)\n",
    "print(\"wavenumber[0] : \", bkg_x[0])\n",
    "print(\"SB[0] : \", bkg_y[0])\n",
    "\n",
    "bkg_last_x = bkg_last_df[:, 0].astype(numpy.float32)\n",
    "bkg_last_y = bkg_last_df[:, 1].astype(numpy.float32)\n",
    "print(\"last_wavenumber[0] : \", bkg_last_x[0])\n",
    "print(\"last_SB[0] : \", bkg_last_y[0])\n"
   ]
  },
  {
   "cell_type": "code",
   "execution_count": 5,
   "metadata": {},
   "outputs": [],
   "source": [
    "# 測定結果\n",
    "# 測定データの読み込み\n",
    "thz_1 = pandas.read_csv(\"C:/Users/Owner/Desktop/LAB/LAB 2019/analysis/THz_data/3.3-1.txt\",\n",
    "                        encoding='shift-jis', header=None, sep='\\t')\n",
    "\n",
    "thz_2 = pandas.read_csv(\"C:/Users/Owner/Desktop/LAB/LAB 2019/analysis/THz_data/5.5-1.txt\",\n",
    "                        encoding='shift-jis', header=None, sep='\\t')\n",
    "\n",
    "#thz_3 = pandas.read_csv(\"C:/Users/Owner/Desktop/LAB/LAB 2019/analysis/THz_data/x_ray2-1.txt\",\n",
    "#                       encoding='shift-jis', header=None, sep='\\t')\n",
    "\n",
    "#thz_4 = pandas.read_csv(\"C:/Users/Owner/Desktop/LAB/LAB 2019/analysis/THz_data/x-ray2-2.txt\",\n",
    "#                      encoding='shift-jis', header=None, sep='\\t')\n",
    "\n",
    "\n"
   ]
  },
  {
   "cell_type": "code",
   "execution_count": 8,
   "metadata": {},
   "outputs": [
    {
     "name": "stdout",
     "output_type": "stream",
     "text": [
      "19      39.5336\n",
      "20      40.4978\n",
      "21      41.4620\n",
      "22      42.4263\n",
      "23      43.3905\n",
      "         ...   \n",
      "700    696.1766\n",
      "701    697.1408\n",
      "702    698.1050\n",
      "703    699.0693\n",
      "704    700.0335\n",
      "Name: 0, Length: 686, dtype: object\n"
     ]
    },
    {
     "data": {
      "text/plain": [
       "'\\nthz_c = thz_3.iloc[19:705]\\nthz_c_1 = thz_c.astype(float)\\n\\nthz_d = thz_4.iloc[19:705]\\nthz_d_1 = thz_d.astype(float)\\n'"
      ]
     },
     "execution_count": 8,
     "metadata": {},
     "output_type": "execute_result"
    }
   ],
   "source": [
    "# 測定データの切り出し\n",
    "thz_a = thz_1.iloc[19:705]\n",
    "thz_a_1 = thz_a.astype(float)\n",
    "\n",
    "thz_b = thz_2.iloc[19:705]\n",
    "thz_b_1 = thz_b.astype(float)\n",
    "print(thz_b[0])\n",
    "\"\"\"\n",
    "thz_c = thz_3.iloc[19:705]\n",
    "thz_c_1 = thz_c.astype(float)\n",
    "\n",
    "thz_d = thz_4.iloc[19:705]\n",
    "thz_d_1 = thz_d.astype(float)\n",
    "\"\"\""
   ]
  },
  {
   "cell_type": "code",
   "execution_count": 9,
   "metadata": {},
   "outputs": [
    {
     "name": "stdout",
     "output_type": "stream",
     "text": [
      "3.3-1 SB :  0.0202749\n",
      "5.5-1 SB :  0.0173982\n"
     ]
    },
    {
     "data": {
      "text/plain": [
       "'\\n# bkg_df : DataFrame → numpy.ndarray に変更\\nthz_c_df = thz_c_1.values\\n# x,y : 波数と強度に分割\\nthz_c_sb = thz_c_df[:, 1]\\nprint(\" PET3.0-0 SB : \", thz_c_sb[0])\\n\\n# bkg_df : DataFrame → numpy.ndarray に変更\\nthz_d_df = thz_d_1.values\\n# x,y : 波数と強度に分割\\nthz_d_sb = thz_d_df[:, 1]\\nprint(\" PET3.0-2 SB : \", thz_d_sb[0])\\n'"
      ]
     },
     "execution_count": 9,
     "metadata": {},
     "output_type": "execute_result"
    }
   ],
   "source": [
    "# bkg_df : DataFrame → numpy.ndarray に変更\n",
    "thz_a_df = thz_a_1.values\n",
    "# x,y : 波数と強度に分割\n",
    "thz_a_sb = thz_a_df[:, 1]\n",
    "print(\"3.3-1 SB : \", thz_a_sb[0])\n",
    "\n",
    "# bkg_df : DataFrame → numpy.ndarray に変更\n",
    "thz_b_df = thz_b_1.values\n",
    "# x,y : 波数と強度に分割\n",
    "thz_b_sb = thz_b_df[:, 1]\n",
    "print(\"5.5-1 SB : \", thz_b_sb[0])\n",
    "\n",
    "\"\"\"\n",
    "# bkg_df : DataFrame → numpy.ndarray に変更\n",
    "thz_c_df = thz_c_1.values\n",
    "# x,y : 波数と強度に分割\n",
    "thz_c_sb = thz_c_df[:, 1]\n",
    "print(\" PET3.0-0 SB : \", thz_c_sb[0])\n",
    "\n",
    "# bkg_df : DataFrame → numpy.ndarray に変更\n",
    "thz_d_df = thz_d_1.values\n",
    "# x,y : 波数と強度に分割\n",
    "thz_d_sb = thz_d_df[:, 1]\n",
    "print(\" PET3.0-2 SB : \", thz_d_sb[0])\n",
    "\"\"\""
   ]
  },
  {
   "cell_type": "code",
   "execution_count": 10,
   "metadata": {},
   "outputs": [
    {
     "name": "stdout",
     "output_type": "stream",
     "text": [
      "wavelength[0](㎛) =  172.84889\n",
      "frequency[0](THz) =  1.73562\n"
     ]
    }
   ],
   "source": [
    "\n",
    "\"\"\"\n",
    "3. 周波数への換算\n",
    "\n",
    "\"\"\"\n",
    "\n",
    "# 波数(wavenumber)→波長(wavelength), 周波数(THz)\n",
    "## 波数（cm⁻¹）→波長（㎛）\n",
    "wv = 10000 / bkg_x\n",
    "## 波数(cm⁻¹)→周波数(THz)\n",
    "fre = 300 / wv\n",
    "#print(fre)\n",
    "print(\"wavelength[0](㎛) = \", wv[0])\n",
    "print(\"frequency[0](THz) = \", fre[0])"
   ]
  },
  {
   "cell_type": "code",
   "execution_count": 12,
   "metadata": {},
   "outputs": [
    {
     "ename": "ValueError",
     "evalue": "operands could not be broadcast together with shapes (686,) (667,) ",
     "output_type": "error",
     "traceback": [
      "\u001b[1;31m---------------------------------------------------------------------------\u001b[0m",
      "\u001b[1;31mValueError\u001b[0m                                Traceback (most recent call last)",
      "\u001b[1;32m<ipython-input-12-732b9adf61e3>\u001b[0m in \u001b[0;36m<module>\u001b[1;34m()\u001b[0m\n\u001b[0;32m      5\u001b[0m \"\"\"\n\u001b[0;32m      6\u001b[0m \u001b[1;31m# 透過率の計算(3-3-1)\u001b[0m\u001b[1;33m\u001b[0m\u001b[1;33m\u001b[0m\u001b[0m\n\u001b[1;32m----> 7\u001b[1;33m \u001b[0mT_a\u001b[0m \u001b[1;33m=\u001b[0m \u001b[1;33m(\u001b[0m\u001b[0mthz_a_sb\u001b[0m \u001b[1;33m/\u001b[0m \u001b[0mbkg_y\u001b[0m \u001b[1;33m)\u001b[0m \u001b[1;33m*\u001b[0m \u001b[1;36m100\u001b[0m\u001b[1;33m\u001b[0m\u001b[0m\n\u001b[0m\u001b[0;32m      8\u001b[0m \u001b[1;31m#透過率（%T）（透過光強度/入射光強度（BKGの強度））*100(%)\u001b[0m\u001b[1;33m\u001b[0m\u001b[1;33m\u001b[0m\u001b[0m\n\u001b[0;32m      9\u001b[0m \u001b[0mprint\u001b[0m\u001b[1;33m(\u001b[0m\u001b[1;34m\"0 透過率 : \"\u001b[0m\u001b[1;33m,\u001b[0m \u001b[0mT_a\u001b[0m\u001b[1;33m[\u001b[0m\u001b[1;36m0\u001b[0m\u001b[1;33m]\u001b[0m\u001b[1;33m)\u001b[0m\u001b[1;33m\u001b[0m\u001b[0m\n",
      "\u001b[1;31mValueError\u001b[0m: operands could not be broadcast together with shapes (686,) (667,) "
     ]
    }
   ],
   "source": [
    "\n",
    "\"\"\"\n",
    "4. 透過率，吸光度への換算\n",
    "\n",
    "\"\"\"\n",
    "# 透過率の計算(3-3-1)\n",
    "T_a = (thz_a_sb / bkg_y ) * 100\n",
    "#透過率（%T）（透過光強度/入射光強度（BKGの強度））*100(%)\n",
    "print(\"0 透過率 : \", T_a[0])\n",
    "#T_last_a = (thz_a_sb / bkg_last_y) * 100\n",
    "#print(\" 0 透過率: \", T_last_a[0])\n",
    "# 吸光度の計算\n",
    "# log10(BKG強度/透過光強度)\n",
    "a = bkg_y / thz_a_sb\n",
    "Abs_a = numpy.log10(a)\n",
    "print(\"0 吸光度 : \" , Abs_a[0])\n",
    "#last_a = bkg_last_y / thz_a_sb\n",
    "#Abs_last_a = numpy.log10(last_a)\n",
    "#print(\"330 吸光度 : \", Abs_last_a[0])\n",
    "\n",
    "\n",
    "# 透過率の計算(5-5-1)\n",
    "T_b = (thz_b_sb / bkg_y ) * 100\n",
    "#透過率（%T）（透過光強度/入射光強度（BKGの強度））*100(%)\n",
    "print(\"330 透過率 : \", T_b[0])\n",
    "#T_last_b = (thz_b_sb / bkg_last_y) * 100\n",
    "#print(\"180(last) 透過率 : \", T_last_b[0])\n",
    "# 吸光度の計算\n",
    "# log10(BKG強度/透過光強度)\n",
    "b = bkg_y / thz_b_sb\n",
    "Abs_b = numpy.log10(b)\n",
    "print(\"330 吸光度 : \", Abs_b[0])\n",
    "#last_b = bkg_last_y / thz_b_sb\n",
    "#Abs_last_b = numpy.log10(last_b)\n",
    "#print(\"180(last) 吸光度 : \", Abs_last_b[0])\n",
    "\n"
   ]
  },
  {
   "cell_type": "code",
   "execution_count": null,
   "metadata": {},
   "outputs": [],
   "source": [
    "\n",
    "# 透過率の計算(3個め)\n",
    "T_c = (thz_c_sb / bkg_y ) * 100\n",
    "#透過率（%T）（透過光強度/入射光強度（BKGの強度））*100(%)\n",
    "print(\"300 透過率 : \", T_c[0])\n",
    "#T_last_c = (thz_c_sb / bkg_last_y) * 100\n",
    "#print(\"210 (last) 透過率 : \", T_last_c[0])\n",
    "# 吸光度の計算\n",
    "# log10(BKG強度/透過光強度)\n",
    "c = bkg_y / thz_c_sb\n",
    "Abs_c = numpy.log10(c)\n",
    "print(\"300 吸光度 : \", Abs_c[0])\n",
    "#last_c = bkg_last_y / thz_c_sb\n",
    "#Abs_last_c = numpy.log10(last_c)\n",
    "#print(\"210(last) 吸光度 : \", Abs_last_c[0])\n",
    "\n",
    "# 透過率の計算(4個め)\n",
    "T_d = (thz_d_sb / bkg_y ) * 100\n",
    "#透過率（%T）（透過光強度/入射光強度（BKGの強度））*100(%)\n",
    "print(\"270 透過率 : \", T_d[0])\n",
    "#T_last_d = (thz_d_sb / bkg_last_y) * 100\n",
    "#print(\"270 透過率 : \", T_last_d[0])\n",
    "# 吸光度の計算\n",
    "# log10(BKG強度/透過光強度)\n",
    "d = bkg_y / thz_d_sb\n",
    "Abs_d = numpy.log10(d)\n",
    "print(\"270 吸光度 : \", Abs_d[0])\n",
    "#last_d = bkg_last_y / thz_d_sb\n",
    "#Abs_last_d = numpy.log10(last_d)\n",
    "#print(\"240(last) 吸光度 : \", Abs_last_d[0])\n"
   ]
  },
  {
   "cell_type": "code",
   "execution_count": null,
   "metadata": {},
   "outputs": [],
   "source": [
    "\n",
    "\n",
    "\"\"\"\n",
    "5. データの結合\n",
    "\"\"\"\n",
    "# 波長，周波数の結合\n",
    "wv_df = pandas.DataFrame(wv, columns=['wavelength(㎛)'])\n",
    "fre_df = pandas.DataFrame(fre, columns=['frequency(THz)'])\n",
    "df_index = pandas.concat([wv_df, fre_df], axis=1)\n",
    "\n",
    "# 3-3-1のデータの結合\n",
    "T_a_df = pandas.DataFrame(T_a, columns=['0 透過率(%T)'])\n",
    "Abs_a_df = pandas.DataFrame(Abs_a, columns=['0 吸光度(Abs)'])\n",
    "#T_last_a_df = pandas.DataFrame(T_last_a, columns=['150 透過率(%T) last'])\n",
    "#Abs_last_a_df = pandas.DataFrame(Abs_last_a, columns=['150 吸光度 last'])\n",
    "df_link_a = pandas.concat([ T_a_df, Abs_a_df], axis=1)\n",
    "\n",
    "# 5-5-1 の結合\n",
    "T_b_df = pandas.DataFrame(T_b, columns=['330 透過率(%T)'])\n",
    "Abs_b_df = pandas.DataFrame(Abs_b, columns=['330 吸光度(Abs)'])\n",
    "#T_last_b_df = pandas.DataFrame(T_last_b, columns=['180 透過率(%T) last'])\n",
    "#Abs_last_b_df = pandas.DataFrame(Abs_last_b, columns=['180 吸光度 last'])\n",
    "df_link_b = pandas.concat([T_b_df, Abs_b_df], axis=1)\n",
    "\n",
    "# 3個め の結合\n",
    "T_c_df = pandas.DataFrame(T_c, columns=['300 透過率(%T)'])\n",
    "Abs_c_df = pandas.DataFrame(Abs_c, columns=['300 吸光度(Abs)'])\n",
    "#T_last_c_df = pandas.DataFrame(T_last_c, columns=['210 透過率(%T) last'])\n",
    "#Abs_last_c_df = pandas.DataFrame(Abs_last_c, columns=['210 吸光度 last'])\n",
    "df_link_c = pandas.concat([T_c_df, Abs_c_df], axis=1)\n",
    "\n",
    "# 4個め の結合\n",
    "T_d_df = pandas.DataFrame(T_d, columns=['270 透過率(%T)'])\n",
    "Abs_d_df = pandas.DataFrame(Abs_d, columns=['270 吸光度(Abs)'])\n",
    "#T_last_d_df = pandas.DataFrame(T_last_d, columns=['240  透過率(%T) last'])\n",
    "#Abs_last_d_df = pandas.DataFrame(Abs_last_d, columns=['240 吸光度 last'])\n",
    "df_link_d = pandas.concat([T_d_df, Abs_d_df], axis=1)\n",
    "\n",
    "# 全データの結合\n",
    "df_join = pandas.concat([df_index, df_link_a, df_link_b, df_link_c,df_link_d], axis=1)\n",
    "df_join.index = bkg_x\n"
   ]
  },
  {
   "cell_type": "code",
   "execution_count": null,
   "metadata": {},
   "outputs": [],
   "source": [
    "\n",
    "\"\"\"\n",
    "6. Excel(.xlsx)として出力\n",
    "\n",
    "\"\"\"\n",
    "# .xlsxとして出力\n",
    "df_join.to_excel(\"G:/akita.2191114.xlsx\")"
   ]
  },
  {
   "cell_type": "code",
   "execution_count": null,
   "metadata": {},
   "outputs": [],
   "source": []
  },
  {
   "cell_type": "code",
   "execution_count": null,
   "metadata": {},
   "outputs": [],
   "source": []
  },
  {
   "cell_type": "markdown",
   "metadata": {},
   "source": [
    "# paiza"
   ]
  },
  {
   "cell_type": "code",
   "execution_count": null,
   "metadata": {},
   "outputs": [
    {
     "name": "stdout",
     "output_type": "stream",
     "text": [
      "2\n",
      "2\n",
      "2 4\n",
      "hello =  2 4\n"
     ]
    }
   ],
   "source": [
    "input_line = int(input())\n",
    "print(input_line)\n",
    "\n",
    "for i in range(input_line):\n",
    "    line = input().rstrip()\n",
    "    print(\"hello = \", line)"
   ]
  },
  {
   "cell_type": "code",
   "execution_count": 2,
   "metadata": {},
   "outputs": [
    {
     "name": "stdout",
     "output_type": "stream",
     "text": [
      "2\n",
      "2 6\n",
      "hello = 2 , world = 6\n",
      "3 6\n",
      "hello = 3 , world = 6\n"
     ]
    }
   ],
   "source": [
    "input_line = int(input())\n",
    "for i in range(input_line):\n",
    "  s = input().rstrip().split(' ')\n",
    "  print(\"hello = \"+s[0]+\" , world = \"+s[1])"
   ]
  },
  {
   "cell_type": "code",
   "execution_count": null,
   "metadata": {},
   "outputs": [],
   "source": [
    "for i in input_len:\n",
    "    if int(input_list[i])==leet_list:\n",
    "        leet = input_list[i]\n",
    "        print(leet)\n",
    "    else:\n",
    "        print(input_list[i])\n",
    "    "
   ]
  },
  {
   "cell_type": "code",
   "execution_count": null,
   "metadata": {},
   "outputs": [],
   "source": [
    "for i in range(input_len):\n",
    "    if input_list[i] != leet_list[input_list[i]]:\n",
    "        print(input_list[i])\n",
    "    else:\n",
    "        print(leet_list[input_leet[i]])"
   ]
  },
  {
   "cell_type": "code",
   "execution_count": 5,
   "metadata": {},
   "outputs": [
    {
     "name": "stdout",
     "output_type": "stream",
     "text": [
      "12\n",
      "9\n",
      "6\n",
      "3\n",
      "0\n"
     ]
    }
   ],
   "source": [
    "for i in range(12,-1,-3):\n",
    "    print(i)\n"
   ]
  },
  {
   "cell_type": "code",
   "execution_count": 8,
   "metadata": {},
   "outputs": [
    {
     "name": "stdout",
     "output_type": "stream",
     "text": [
      "6 6 6\n",
      "6\n",
      "42\n",
      "\n",
      "#####\n",
      "#####\n",
      "#####\n",
      "#####\n",
      "#####\n",
      "#####\n",
      "--\n",
      "\n",
      "#####\n",
      "#####\n",
      "#####\n",
      "#####\n",
      "#####\n",
      "--\n",
      "saga\n",
      "#####\n",
      "#####\n",
      "\n",
      "#####\n",
      "#####\n",
      "--\n",
      "#####\n",
      "#####\n",
      "#####\n",
      "#####\n",
      "#####\n",
      "#####\n",
      "--\n",
      "io\n",
      "#####\n",
      "#####\n",
      "#####\n",
      "#####\n",
      "#####\n",
      "--\n",
      "\n",
      "#####\n",
      "#####\n",
      "#####\n",
      "#####\n",
      "#####\n",
      "['', '#####', '#####', '#####', '#####', '#####', '#####', '--', '', '#####', '#####', '#####', '#####', '#####', '--', 'saga', '#####', '#####', '', '#####', '#####', '--', '#####', '#####', '#####', '#####', '#####', '#####', '--', 'io', '#####', '#####', '#####', '#####', '#####', '--', '', '#####', '#####', '#####', '#####', '#####']\n",
      "\n",
      "42\n",
      "35\n",
      "--\n",
      "35\n",
      "--\n",
      "28\n",
      "--\n",
      "21\n",
      "--\n",
      "14\n",
      "--\n",
      "7\n",
      "\n",
      "0\n"
     ]
    }
   ],
   "source": [
    "# coding: utf-8\n",
    "# 自分の得意な言語で\n",
    "# Let's チャレンジ！！\n",
    "\n",
    "input_line = input().split( )\n",
    "#print(input_line)\n",
    "count = int(input_line[0])\n",
    "all = int((count * count) + count)\n",
    "print(count)\n",
    "print(all)\n",
    "# input_line_2 = input()\n",
    "# print(input_line_2)\n",
    "line_list = []\n",
    "\n",
    "for i in range(all):\n",
    "    line = input()\n",
    "    line_list.append(line)\n",
    "    \n",
    "print(line_list)\n",
    "print(line_list[0])\n",
    "print(len(line_list))\n",
    "# print(line_list[count*2 + 2])\n",
    "start = all - count -1\n",
    "print(start)\n",
    "for l in range(start,-1,-(count+1)):\n",
    "    print(line_list[l])\n",
    "    print(l)\n"
   ]
  },
  {
   "cell_type": "code",
   "execution_count": null,
   "metadata": {},
   "outputs": [],
   "source": []
  }
 ],
 "metadata": {
  "kernelspec": {
   "display_name": "Python 3",
   "language": "python",
   "name": "python3"
  },
  "language_info": {
   "codemirror_mode": {
    "name": "ipython",
    "version": 3
   },
   "file_extension": ".py",
   "mimetype": "text/x-python",
   "name": "python",
   "nbconvert_exporter": "python",
   "pygments_lexer": "ipython3",
   "version": "3.7.4"
  }
 },
 "nbformat": 4,
 "nbformat_minor": 2
}

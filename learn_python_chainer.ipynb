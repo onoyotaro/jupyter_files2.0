{
 "cells": [
  {
   "cell_type": "markdown",
   "metadata": {
    "toc": "true"
   },
   "source": [
    "# Table of Contents\n",
    " <p><div class=\"lev1\"><a href=\"#基礎-1.-Pythonを覚える\"><span class=\"toc-item-num\">1&nbsp;&nbsp;</span>基礎-1. Pythonを覚える</a></div><div class=\"lev2\"><a href=\"#標準出力\"><span class=\"toc-item-num\">1.1&nbsp;&nbsp;</span>標準出力</a></div><div class=\"lev2\"><a href=\"#変数,-リスト,-辞書,-&quot;型&quot;\"><span class=\"toc-item-num\">1.2&nbsp;&nbsp;</span>変数, リスト, 辞書, \"型\"</a></div><div class=\"lev2\"><a href=\"#time関数\"><span class=\"toc-item-num\">1.3&nbsp;&nbsp;</span>time関数</a></div><div class=\"lev2\"><a href=\"#制御文と例外処理\"><span class=\"toc-item-num\">1.4&nbsp;&nbsp;</span>制御文と例外処理</a></div><div class=\"lev2\"><a href=\"#テキストファイルの読み書き\"><span class=\"toc-item-num\">1.5&nbsp;&nbsp;</span>テキストファイルの読み書き</a></div><div class=\"lev2\"><a href=\"#関数,-ラムダ式(無名関数)\"><span class=\"toc-item-num\">1.6&nbsp;&nbsp;</span>関数, ラムダ式(無名関数)</a></div><div class=\"lev2\"><a href=\"#ヘルプの見方\"><span class=\"toc-item-num\">1.7&nbsp;&nbsp;</span>ヘルプの見方</a></div><div class=\"lev1\"><a href=\"#基礎-2.-Numpy,-Matplotlib,-pandasを覚える\"><span class=\"toc-item-num\">2&nbsp;&nbsp;</span>基礎-2. Numpy, Matplotlib, pandasを覚える</a></div><div class=\"lev2\"><a href=\"#numpy-の用語など\"><span class=\"toc-item-num\">2.1&nbsp;&nbsp;</span>numpy の用語など</a></div><div class=\"lev2\"><a href=\"#配列,-乱数など\"><span class=\"toc-item-num\">2.2&nbsp;&nbsp;</span>配列, 乱数など</a></div><div class=\"lev2\"><a href=\"#Pandas\"><span class=\"toc-item-num\">2.3&nbsp;&nbsp;</span>Pandas</a></div><div class=\"lev2\"><a href=\"#Plot-by-Matplotlib-module\"><span class=\"toc-item-num\">2.4&nbsp;&nbsp;</span>Plot by Matplotlib module</a></div><div class=\"lev2\"><a href=\"#応用:-フィルタ処理\"><span class=\"toc-item-num\">2.5&nbsp;&nbsp;</span>応用: フィルタ処理</a></div><div class=\"lev1\"><a href=\"#応用.-Chainerを使ってNNしよう.\"><span class=\"toc-item-num\">3&nbsp;&nbsp;</span>応用. Chainerを使ってNNしよう.</a></div><div class=\"lev2\"><a href=\"#ネットワークモデルの記述\"><span class=\"toc-item-num\">3.1&nbsp;&nbsp;</span>ネットワークモデルの記述</a></div>"
   ]
  },
  {
   "cell_type": "markdown",
   "metadata": {},
   "source": [
    "# 基礎-1. Pythonを覚える\n",
    "\n",
    "以下の機能を習得して, logファイルの機能を理解します.\n",
    "\n",
    "- 標準出力\n",
    "- 制御文(for, )\n",
    "- time関数\n",
    "- テキストファイルの読み書き\n",
    "    - 著者が個人的によく使う文法, not best pratice\n",
    "\n",
    "\n",
    "\n",
    "jupyter notebook(ipython)では, In[#(数字)]: の右が入力, その下に出力が表示されます.<br>\n",
    "実行は, [shift+enter]です"
   ]
  },
  {
   "cell_type": "markdown",
   "metadata": {},
   "source": [
    "## 標準出力"
   ]
  },
  {
   "cell_type": "code",
   "execution_count": 11,
   "metadata": {},
   "outputs": [
    {
     "name": "stdout",
     "output_type": "stream",
     "text": [
      "Hello, Python\n",
      "Hello, Python\n",
      "\n",
      "Hello!!\n",
      "Python\n",
      "\n",
      "123456\n",
      "\n",
      "Hello, python\n",
      "Hello, Deeplearning\n",
      "\n",
      "[2018.02.27 ??:??] Hello, Deeplearning\n"
     ]
    }
   ],
   "source": [
    "print(\"Hello, Python\")  # \"\"(ダッシュ)で書こうと文字列として扱われます\n",
    "print \"Hello, Python\"   # 同じですが, この書き方はPython3では使用できません\n",
    "print(\"\")\n",
    "print \"Hello!!\\nPython\"   # 改行したい, \\n\n",
    "print(\"\")\n",
    "\n",
    "print 123456    # \"\" で囲わない数字は, 数値として扱われます\n",
    "print(\"\")\n",
    "\n",
    "print(\"Hello, %s\" % (\"python\"))\n",
    "print(\"Hello, %s\" % (\"Deeplearning\"))\n",
    "print(\"\")\n",
    "\n",
    "print(\"[%s] Hello, %s\" % (\"2018.02.27 ??:??\", \"Deeplearning\"))  # logっぽく"
   ]
  },
  {
   "cell_type": "markdown",
   "metadata": {},
   "source": [
    "## 変数, リスト, 辞書, \"型\"\n",
    "\n",
    "**リストについての補足**\n",
    "例えば, リスト retの1番目の要素を取り出したい時は, 以下のように記述する. プログラミング言語の多くは, 0始まりで指定する\n",
    "\n",
    "```\n",
    "ret[0]\n",
    "```\n",
    "\n",
    "逆に, 後ろから取り出したい時は以下のような書き方をする\n",
    "\n",
    "```\n",
    "ret[-1]\n",
    "```\n"
   ]
  },
  {
   "cell_type": "code",
   "execution_count": 6,
   "metadata": {},
   "outputs": [
    {
     "name": "stdout",
     "output_type": "stream",
     "text": [
      "1234 <type 'int'>\n",
      "12.34 <type 'float'>\n",
      "aiueo <type 'str'>\n",
      "[1, 2, 3, 4, 5] <type 'list'> <type 'int'>\n",
      "['1', '2', '3', '4', '5'] <type 'list'> <type 'str'>\n"
     ]
    }
   ],
   "source": [
    "ret = 1234  # 整数の数値(1234)を変数 ret に代入します\n",
    "print ret, type(ret)\n",
    "\n",
    "ret = 12.34  # 浮動小数の数値(12.34)を変数 ret に代入します\n",
    "print ret, type(ret)\n",
    "\n",
    "ret = \"aiueo\"  # 文字列(\"aiueo\")を変数 ret に代入します\n",
    "print ret, type(ret)\n",
    "\n",
    "ret = [1, 2, 3, 4, 5]  # 整数のリスト[1, 2, 3, 4, 5]を変数 ret に代入します\n",
    "print ret, type(ret), type(ret[0])\n",
    "\n",
    "ret = [\"1\", \"2\", \"3\", \"4\", \"5\"]  # 文字のリスト[\"1\", \"2\", \"3\", \"4\", \"5\"]を変数 ret に代入します\n",
    "print ret, type(ret), type(ret[0])\n"
   ]
  },
  {
   "cell_type": "markdown",
   "metadata": {},
   "source": [
    "## time関数\n",
    "\n",
    "現在時刻を取得する関数で, pythonに最初から搭載されている標準モジュールを使います."
   ]
  },
  {
   "cell_type": "code",
   "execution_count": 13,
   "metadata": {},
   "outputs": [
    {
     "name": "stdout",
     "output_type": "stream",
     "text": [
      "2018-02-27 10:23:33 <type 'str'>\n"
     ]
    }
   ],
   "source": [
    "import time\n",
    "\n",
    "now = time.strftime(\"%Y-%m-%d %H:%M:%S\")  # 現在時刻, 文字列で出力されます.\n",
    "print now, type(now)"
   ]
  },
  {
   "cell_type": "code",
   "execution_count": 3,
   "metadata": {},
   "outputs": [
    {
     "name": "stdout",
     "output_type": "stream",
     "text": [
      "今の日時は， 2019-06-25 16:18:47\n"
     ]
    }
   ],
   "source": [
    "# 例題: 以下の\"今の日時は *******\"という出力をしなさい\n",
    "import time\n",
    "now = time.strftime(\"%Y-%m-%d %H:%M:%S\") \n",
    "print(\"今の日時は，\",now)"
   ]
  },
  {
   "cell_type": "markdown",
   "metadata": {},
   "source": [
    "## 制御文と例外処理\n",
    "\n",
    "ここでは, for文, if文, while文を紹介します. 昔読んだMATLAB本に書いてありました.\"for文は多用すると遅くなる\"\n",
    "と言うことで, あまり多用することは控えよう. 配列処理で置き換えることが多いです"
   ]
  },
  {
   "cell_type": "code",
   "execution_count": 40,
   "metadata": {},
   "outputs": [
    {
     "name": "stdout",
     "output_type": "stream",
     "text": [
      "`for` statement.\n",
      "Hello, dog\n",
      "Hello, cat\n",
      "Hello, raccoon\n",
      "No.0\n",
      "No.1\n",
      "No.2\n",
      "No.3\n",
      "No.4\n",
      "No.5\n",
      "No.6\n",
      "No.7\n",
      "No.8\n",
      "No.9\n",
      "\n",
      "`if` statement.\n",
      "hello, dog\n",
      "hello, raccon\n",
      "\n",
      "`while` statement.\n",
      "0\n",
      "1\n",
      "2\n",
      "3\n",
      "4\n",
      "5\n",
      "6\n",
      "7\n",
      "8\n",
      "9\n",
      "10\n"
     ]
    }
   ],
   "source": [
    "print(\"`for` statement.\")\n",
    "for who in (\"dog\", \"cat\", \"raccoon\"):\n",
    "    print(\"Hello, %s\" % who)\n",
    "\n",
    "for num in range(10):\n",
    "    print(\"No.%d\" % num)\n",
    "\n",
    "print(\"\\n`if` statement.\")\n",
    "who = \"dog\"\n",
    "if who == \"dog\":\n",
    "    print(\"hello, dog\")\n",
    "if who == \"cat\":\n",
    "    print(\"hello, cat\")\n",
    "else:  # それ以外\n",
    "    print(\"hello, raccon\")\n",
    "\n",
    "print(\"\\n`while` statement.\")\n",
    "i = 0\n",
    "while -1:\n",
    "    if i > 10:\n",
    "        break\n",
    "    print(\"%d\" % i)\n",
    "    i += 1  # 変数i に+1する. i = i + 1 と同じ"
   ]
  },
  {
   "cell_type": "markdown",
   "metadata": {},
   "source": [
    "## テキストファイルの読み書き\n",
    "\n",
    "**[CAUSSION!!]** learn_python_chainer.ipynb と同じディレクトリに\"tmp.txt\" が作成されます.\n"
   ]
  },
  {
   "cell_type": "code",
   "execution_count": 19,
   "metadata": {},
   "outputs": [],
   "source": [
    "# 書き出し\n",
    "## 普通の書き方\n",
    "\n",
    "f = open(\"tmp.txt\", \"w\")  # ファイルをオープンして\n",
    "f.write(\"[%s] %s\" % (\"2018.02.27\", \"Hello, Python.\"))  # 書き込み\n",
    "f = close()  # ファイルを閉じる\n",
    "\n",
    "## 簡略化\n",
    "with open(\"tmp.txt\", \"w\") as f:  # \"a\"は追加書き込み, \"w\"は新規上書き\n",
    "    # < ここでファイルオープンされる\n",
    "    f.write(\"[%s] %s\" % (\"2018.02.27\", \"Hello, Python.\"))\n",
    "    # < ここでファイルクローズされる\n"
   ]
  },
  {
   "cell_type": "code",
   "execution_count": 32,
   "metadata": {},
   "outputs": [
    {
     "name": "stdout",
     "output_type": "stream",
     "text": [
      "[2018.02.27] Hello, Python.\n"
     ]
    }
   ],
   "source": [
    "# 読み込み\n",
    "with open(\"tmp.txt\", \"r\") as f:  # \"r\"は読み込み\n",
    "    ret = f.readline()\n",
    "print ret"
   ]
  },
  {
   "cell_type": "markdown",
   "metadata": {},
   "source": [
    "## 関数, ラムダ式(無名関数)"
   ]
  },
  {
   "cell_type": "code",
   "execution_count": 132,
   "metadata": {},
   "outputs": [],
   "source": [
    "def now(fmt=\"%Y.%m.%d %H:%M:%S\"):\n",
    "    \"\"\" 現在時刻を返す関数 \"\"\"\n",
    "    import time\n",
    "    return time.strftime(fmt)\n"
   ]
  },
  {
   "cell_type": "code",
   "execution_count": 131,
   "metadata": {},
   "outputs": [
    {
     "name": "stdout",
     "output_type": "stream",
     "text": [
      "2018.02.27 14:40:42\n",
      "2018-02-27\n"
     ]
    }
   ],
   "source": [
    "print now()\n",
    "print now(\"%Y-%m-%d\")"
   ]
  },
  {
   "cell_type": "code",
   "execution_count": 145,
   "metadata": {},
   "outputs": [
    {
     "data": {
      "text/plain": [
       "[<matplotlib.lines.Line2D at 0x18110bc850>]"
      ]
     },
     "execution_count": 145,
     "metadata": {},
     "output_type": "execute_result"
    },
    {
     "data": {
      "image/png": "[encoded data removed]",
      "text/plain": [
       "<matplotlib.figure.Figure at 0x1810ace5d0>"
      ]
     },
     "metadata": {},
     "output_type": "display_data"
    }
   ],
   "source": [
    "import math\n",
    "\n",
    "# gauss パターンを返す関数\n",
    "gauss = lambda x, a, b, c: a*math.exp(-(x-b)**2/c)\n",
    "\n",
    "ret = [gauss(x, 1, 0, 1) for x in range(-10, 10)]\n",
    "matplotlib.pyplot.plot(range(-10, 10), ret)  # 粗いけどなんとなく, gaussian"
   ]
  },
  {
   "cell_type": "markdown",
   "metadata": {},
   "source": [
    "## ヘルプの見方"
   ]
  },
  {
   "cell_type": "code",
   "execution_count": 31,
   "metadata": {},
   "outputs": [
    {
     "name": "stdout",
     "output_type": "stream",
     "text": [
      "Help on built-in function strftime in module time:\n",
      "\n",
      "strftime(...)\n",
      "    strftime(format[, tuple]) -> string\n",
      "    \n",
      "    Convert a time tuple to a string according to a format specification.\n",
      "    See the library reference manual for formatting codes. When the time tuple\n",
      "    is not present, current time as returned by localtime() is used.\n",
      "\n"
     ]
    }
   ],
   "source": [
    "help(time.strftime)"
   ]
  },
  {
   "cell_type": "markdown",
   "metadata": {},
   "source": [
    "# 基礎-2. Numpy, Matplotlib, pandasを覚える\n",
    "\n",
    "Chainerは, 他の多くのフレームワークがC/C++などを使って実装されているのに対して, 全てPythonとNumpy で実装されています. また, 計算速度を劇的に向上させるGPU(グラフィックボード)をNumpy の関数を\"ほとんど\"そのまま使って計算することができる, Cupy などもchainer では使用されています.\n",
    "\n",
    "Numpy の文法, 作法, 機能を理解すると, Chainer の内部関数でどう計算がされているか, エラー文が何を言っているかを理解することができると思います.\n",
    "\n",
    "\n",
    "また, 研究室の多くのファイルはxlsで管理されているので, それらを手を加えず(xls -> csv)に解析するために, xlsファイルを直接読み書きできるPandas を使うので, それについても紹介する.\n",
    "\n",
    "## numpy の用語など\n",
    "\n",
    "- 配列: 型が揃った要素のリスト\n",
    "    - (すでに紹介した)リストは, あまり使わないが[\"a\", 1, \"2\", 3.0] など型が揃ってなくても成立する."
   ]
  },
  {
   "cell_type": "code",
   "execution_count": 62,
   "metadata": {},
   "outputs": [],
   "source": [
    "import numpy\n",
    "import matplotlib\n",
    "import scipy\n",
    "import pandas\n",
    "# よくネットや書籍で, import numpy as np という書き方があるが, 省略はしない. (参考: PEP8)\n",
    "\n",
    "# matplotlib の描画をinline で表示させる為のコマンド\n",
    "% matplotlib inline\n"
   ]
  },
  {
   "cell_type": "markdown",
   "metadata": {},
   "source": [
    "## 配列, 乱数など"
   ]
  },
  {
   "cell_type": "code",
   "execution_count": 84,
   "metadata": {},
   "outputs": [
    {
     "name": "stdout",
     "output_type": "stream",
     "text": [
      "[0. 1. 2. 3. 4.] <type 'numpy.ndarray'>\n",
      "[-0.73415488  0.44759979 -0.11825205 -2.34413665 -1.15032969] <type 'numpy.ndarray'>\n",
      "\n",
      "00: 0.54340\n",
      "01: 0.54340\n",
      "02: 0.54340\n",
      "03: 0.54340\n",
      "04: 0.54340\n",
      "05: 0.27837\n",
      "06: 0.71923\n",
      "07: 0.81589\n",
      "08: 0.23259\n",
      "09: 0.09762\n",
      "\n",
      "\n",
      "[[ 0.60977699  0.34424211  0.70963372 -0.13699389  0.3468708 ]\n",
      " [-1.13287745  0.34606809 -0.3003198  -1.59593305  0.51362127]\n",
      " [ 0.63372665 -2.45708923  1.30831522 -0.98057219  0.81289766]\n",
      " [ 0.70316556 -0.53989063 -1.17436557 -0.09324349  0.81547233]\n",
      " [-0.53357564  0.47228959 -0.60952499 -0.90183934  0.45102121]] \n",
      "\n",
      "[ 0.60977699  0.34424211  0.70963372 -0.13699389  0.3468708 ] \n",
      "\n",
      "[ 0.60977699 -1.13287745  0.63372665  0.70316556 -0.53357564]\n"
     ]
    }
   ],
   "source": [
    "# 配列\n",
    "ret = numpy.arange(5, dtype=numpy.float32)  # dtype: 要素の型\n",
    "print ret, type(ret)\n",
    "\n",
    "# 乱数\n",
    "ret = numpy.random.randn(5)  # numpyのrandom クラスのrandn 関数\n",
    "print ret, type(ret)\n",
    "\n",
    "print(\"\")\n",
    "for i in range(10):\n",
    "    \"\"\" i = 5まで, seed:10, 以降指定なし \"\"\"\n",
    "    if i < 5:\n",
    "        numpy.random.seed(100)  # 乱数発生の固定\n",
    "    if i > 5:\n",
    "        numpy.random.seed()\n",
    "    print(\"%02d: %1.5f\" % (i, numpy.random.rand()))\n",
    "    i += 1\n",
    "\n",
    "memo = \"\"\"\n",
    "なんでこんな話をしたかというと, Neural Networkは初期値が乱数発生によって決定するため, \n",
    "何も考えないと毎回初期値が変わてしまう\n",
    "\"\"\"\n",
    "\n",
    "\n",
    "# 要素の指定\n",
    "print(\"\\n\")\n",
    "ret = numpy.random.randn(25).reshape(5, 5)  # 25個の乱数を, 5x5 の配列に並び替える\n",
    "print ret, \"\\n\"\n",
    "print ret[0], \"\\n\"  ## 行の指定\n",
    "print ret[:, 0]  ## 列の指定\n"
   ]
  },
  {
   "cell_type": "markdown",
   "metadata": {},
   "source": [
    "## Pandas"
   ]
  },
  {
   "cell_type": "code",
   "execution_count": 63,
   "metadata": {},
   "outputs": [],
   "source": [
    "xls = pandas.read_excel(\"sine.xlsx\")  # pandas.DataFrame 型でxls 変数に代入される"
   ]
  },
  {
   "cell_type": "code",
   "execution_count": 64,
   "metadata": {},
   "outputs": [
    {
     "data": {
      "text/html": [
       "<div>\n",
       "<table border=\"1\" class=\"dataframe\">\n",
       "  <thead>\n",
       "    <tr style=\"text-align: right;\">\n",
       "      <th></th>\n",
       "      <th>degree</th>\n",
       "      <th>Sine</th>\n",
       "    </tr>\n",
       "  </thead>\n",
       "  <tbody>\n",
       "    <tr>\n",
       "      <th>0</th>\n",
       "      <td>0</td>\n",
       "      <td>0.000000e+00</td>\n",
       "    </tr>\n",
       "    <tr>\n",
       "      <th>1</th>\n",
       "      <td>2</td>\n",
       "      <td>3.489950e-02</td>\n",
       "    </tr>\n",
       "    <tr>\n",
       "      <th>2</th>\n",
       "      <td>4</td>\n",
       "      <td>6.975647e-02</td>\n",
       "    </tr>\n",
       "    <tr>\n",
       "      <th>3</th>\n",
       "      <td>6</td>\n",
       "      <td>1.045285e-01</td>\n",
       "    </tr>\n",
       "    <tr>\n",
       "      <th>4</th>\n",
       "      <td>8</td>\n",
       "      <td>1.391731e-01</td>\n",
       "    </tr>\n",
       "    <tr>\n",
       "      <th>5</th>\n",
       "      <td>10</td>\n",
       "      <td>1.736482e-01</td>\n",
       "    </tr>\n",
       "    <tr>\n",
       "      <th>6</th>\n",
       "      <td>12</td>\n",
       "      <td>2.079117e-01</td>\n",
       "    </tr>\n",
       "    <tr>\n",
       "      <th>7</th>\n",
       "      <td>14</td>\n",
       "      <td>2.419219e-01</td>\n",
       "    </tr>\n",
       "    <tr>\n",
       "      <th>8</th>\n",
       "      <td>16</td>\n",
       "      <td>2.756374e-01</td>\n",
       "    </tr>\n",
       "    <tr>\n",
       "      <th>9</th>\n",
       "      <td>18</td>\n",
       "      <td>3.090170e-01</td>\n",
       "    </tr>\n",
       "    <tr>\n",
       "      <th>10</th>\n",
       "      <td>20</td>\n",
       "      <td>3.420201e-01</td>\n",
       "    </tr>\n",
       "    <tr>\n",
       "      <th>11</th>\n",
       "      <td>22</td>\n",
       "      <td>3.746066e-01</td>\n",
       "    </tr>\n",
       "    <tr>\n",
       "      <th>12</th>\n",
       "      <td>24</td>\n",
       "      <td>4.067366e-01</td>\n",
       "    </tr>\n",
       "    <tr>\n",
       "      <th>13</th>\n",
       "      <td>26</td>\n",
       "      <td>4.383711e-01</td>\n",
       "    </tr>\n",
       "    <tr>\n",
       "      <th>14</th>\n",
       "      <td>28</td>\n",
       "      <td>4.694716e-01</td>\n",
       "    </tr>\n",
       "    <tr>\n",
       "      <th>15</th>\n",
       "      <td>30</td>\n",
       "      <td>5.000000e-01</td>\n",
       "    </tr>\n",
       "    <tr>\n",
       "      <th>16</th>\n",
       "      <td>32</td>\n",
       "      <td>5.299193e-01</td>\n",
       "    </tr>\n",
       "    <tr>\n",
       "      <th>17</th>\n",
       "      <td>34</td>\n",
       "      <td>5.591929e-01</td>\n",
       "    </tr>\n",
       "    <tr>\n",
       "      <th>18</th>\n",
       "      <td>36</td>\n",
       "      <td>5.877853e-01</td>\n",
       "    </tr>\n",
       "    <tr>\n",
       "      <th>19</th>\n",
       "      <td>38</td>\n",
       "      <td>6.156615e-01</td>\n",
       "    </tr>\n",
       "    <tr>\n",
       "      <th>20</th>\n",
       "      <td>40</td>\n",
       "      <td>6.427876e-01</td>\n",
       "    </tr>\n",
       "    <tr>\n",
       "      <th>21</th>\n",
       "      <td>42</td>\n",
       "      <td>6.691306e-01</td>\n",
       "    </tr>\n",
       "    <tr>\n",
       "      <th>22</th>\n",
       "      <td>44</td>\n",
       "      <td>6.946584e-01</td>\n",
       "    </tr>\n",
       "    <tr>\n",
       "      <th>23</th>\n",
       "      <td>46</td>\n",
       "      <td>7.193398e-01</td>\n",
       "    </tr>\n",
       "    <tr>\n",
       "      <th>24</th>\n",
       "      <td>48</td>\n",
       "      <td>7.431448e-01</td>\n",
       "    </tr>\n",
       "    <tr>\n",
       "      <th>25</th>\n",
       "      <td>50</td>\n",
       "      <td>7.660444e-01</td>\n",
       "    </tr>\n",
       "    <tr>\n",
       "      <th>26</th>\n",
       "      <td>52</td>\n",
       "      <td>7.880108e-01</td>\n",
       "    </tr>\n",
       "    <tr>\n",
       "      <th>27</th>\n",
       "      <td>54</td>\n",
       "      <td>8.090170e-01</td>\n",
       "    </tr>\n",
       "    <tr>\n",
       "      <th>28</th>\n",
       "      <td>56</td>\n",
       "      <td>8.290376e-01</td>\n",
       "    </tr>\n",
       "    <tr>\n",
       "      <th>29</th>\n",
       "      <td>58</td>\n",
       "      <td>8.480481e-01</td>\n",
       "    </tr>\n",
       "    <tr>\n",
       "      <th>...</th>\n",
       "      <td>...</td>\n",
       "      <td>...</td>\n",
       "    </tr>\n",
       "    <tr>\n",
       "      <th>151</th>\n",
       "      <td>302</td>\n",
       "      <td>-8.480481e-01</td>\n",
       "    </tr>\n",
       "    <tr>\n",
       "      <th>152</th>\n",
       "      <td>304</td>\n",
       "      <td>-8.290376e-01</td>\n",
       "    </tr>\n",
       "    <tr>\n",
       "      <th>153</th>\n",
       "      <td>306</td>\n",
       "      <td>-8.090170e-01</td>\n",
       "    </tr>\n",
       "    <tr>\n",
       "      <th>154</th>\n",
       "      <td>308</td>\n",
       "      <td>-7.880108e-01</td>\n",
       "    </tr>\n",
       "    <tr>\n",
       "      <th>155</th>\n",
       "      <td>310</td>\n",
       "      <td>-7.660444e-01</td>\n",
       "    </tr>\n",
       "    <tr>\n",
       "      <th>156</th>\n",
       "      <td>312</td>\n",
       "      <td>-7.431448e-01</td>\n",
       "    </tr>\n",
       "    <tr>\n",
       "      <th>157</th>\n",
       "      <td>314</td>\n",
       "      <td>-7.193398e-01</td>\n",
       "    </tr>\n",
       "    <tr>\n",
       "      <th>158</th>\n",
       "      <td>316</td>\n",
       "      <td>-6.946584e-01</td>\n",
       "    </tr>\n",
       "    <tr>\n",
       "      <th>159</th>\n",
       "      <td>318</td>\n",
       "      <td>-6.691306e-01</td>\n",
       "    </tr>\n",
       "    <tr>\n",
       "      <th>160</th>\n",
       "      <td>320</td>\n",
       "      <td>-6.427876e-01</td>\n",
       "    </tr>\n",
       "    <tr>\n",
       "      <th>161</th>\n",
       "      <td>322</td>\n",
       "      <td>-6.156615e-01</td>\n",
       "    </tr>\n",
       "    <tr>\n",
       "      <th>162</th>\n",
       "      <td>324</td>\n",
       "      <td>-5.877853e-01</td>\n",
       "    </tr>\n",
       "    <tr>\n",
       "      <th>163</th>\n",
       "      <td>326</td>\n",
       "      <td>-5.591929e-01</td>\n",
       "    </tr>\n",
       "    <tr>\n",
       "      <th>164</th>\n",
       "      <td>328</td>\n",
       "      <td>-5.299193e-01</td>\n",
       "    </tr>\n",
       "    <tr>\n",
       "      <th>165</th>\n",
       "      <td>330</td>\n",
       "      <td>-5.000000e-01</td>\n",
       "    </tr>\n",
       "    <tr>\n",
       "      <th>166</th>\n",
       "      <td>332</td>\n",
       "      <td>-4.694716e-01</td>\n",
       "    </tr>\n",
       "    <tr>\n",
       "      <th>167</th>\n",
       "      <td>334</td>\n",
       "      <td>-4.383711e-01</td>\n",
       "    </tr>\n",
       "    <tr>\n",
       "      <th>168</th>\n",
       "      <td>336</td>\n",
       "      <td>-4.067366e-01</td>\n",
       "    </tr>\n",
       "    <tr>\n",
       "      <th>169</th>\n",
       "      <td>338</td>\n",
       "      <td>-3.746066e-01</td>\n",
       "    </tr>\n",
       "    <tr>\n",
       "      <th>170</th>\n",
       "      <td>340</td>\n",
       "      <td>-3.420201e-01</td>\n",
       "    </tr>\n",
       "    <tr>\n",
       "      <th>171</th>\n",
       "      <td>342</td>\n",
       "      <td>-3.090170e-01</td>\n",
       "    </tr>\n",
       "    <tr>\n",
       "      <th>172</th>\n",
       "      <td>344</td>\n",
       "      <td>-2.756374e-01</td>\n",
       "    </tr>\n",
       "    <tr>\n",
       "      <th>173</th>\n",
       "      <td>346</td>\n",
       "      <td>-2.419219e-01</td>\n",
       "    </tr>\n",
       "    <tr>\n",
       "      <th>174</th>\n",
       "      <td>348</td>\n",
       "      <td>-2.079117e-01</td>\n",
       "    </tr>\n",
       "    <tr>\n",
       "      <th>175</th>\n",
       "      <td>350</td>\n",
       "      <td>-1.736482e-01</td>\n",
       "    </tr>\n",
       "    <tr>\n",
       "      <th>176</th>\n",
       "      <td>352</td>\n",
       "      <td>-1.391731e-01</td>\n",
       "    </tr>\n",
       "    <tr>\n",
       "      <th>177</th>\n",
       "      <td>354</td>\n",
       "      <td>-1.045285e-01</td>\n",
       "    </tr>\n",
       "    <tr>\n",
       "      <th>178</th>\n",
       "      <td>356</td>\n",
       "      <td>-6.975647e-02</td>\n",
       "    </tr>\n",
       "    <tr>\n",
       "      <th>179</th>\n",
       "      <td>358</td>\n",
       "      <td>-3.489950e-02</td>\n",
       "    </tr>\n",
       "    <tr>\n",
       "      <th>180</th>\n",
       "      <td>360</td>\n",
       "      <td>-2.450297e-16</td>\n",
       "    </tr>\n",
       "  </tbody>\n",
       "</table>\n",
       "<p>181 rows × 2 columns</p>\n",
       "</div>"
      ],
      "text/plain": [
       "     degree          Sine\n",
       "0         0  0.000000e+00\n",
       "1         2  3.489950e-02\n",
       "2         4  6.975647e-02\n",
       "3         6  1.045285e-01\n",
       "4         8  1.391731e-01\n",
       "5        10  1.736482e-01\n",
       "6        12  2.079117e-01\n",
       "7        14  2.419219e-01\n",
       "8        16  2.756374e-01\n",
       "9        18  3.090170e-01\n",
       "10       20  3.420201e-01\n",
       "11       22  3.746066e-01\n",
       "12       24  4.067366e-01\n",
       "13       26  4.383711e-01\n",
       "14       28  4.694716e-01\n",
       "15       30  5.000000e-01\n",
       "16       32  5.299193e-01\n",
       "17       34  5.591929e-01\n",
       "18       36  5.877853e-01\n",
       "19       38  6.156615e-01\n",
       "20       40  6.427876e-01\n",
       "21       42  6.691306e-01\n",
       "22       44  6.946584e-01\n",
       "23       46  7.193398e-01\n",
       "24       48  7.431448e-01\n",
       "25       50  7.660444e-01\n",
       "26       52  7.880108e-01\n",
       "27       54  8.090170e-01\n",
       "28       56  8.290376e-01\n",
       "29       58  8.480481e-01\n",
       "..      ...           ...\n",
       "151     302 -8.480481e-01\n",
       "152     304 -8.290376e-01\n",
       "153     306 -8.090170e-01\n",
       "154     308 -7.880108e-01\n",
       "155     310 -7.660444e-01\n",
       "156     312 -7.431448e-01\n",
       "157     314 -7.193398e-01\n",
       "158     316 -6.946584e-01\n",
       "159     318 -6.691306e-01\n",
       "160     320 -6.427876e-01\n",
       "161     322 -6.156615e-01\n",
       "162     324 -5.877853e-01\n",
       "163     326 -5.591929e-01\n",
       "164     328 -5.299193e-01\n",
       "165     330 -5.000000e-01\n",
       "166     332 -4.694716e-01\n",
       "167     334 -4.383711e-01\n",
       "168     336 -4.067366e-01\n",
       "169     338 -3.746066e-01\n",
       "170     340 -3.420201e-01\n",
       "171     342 -3.090170e-01\n",
       "172     344 -2.756374e-01\n",
       "173     346 -2.419219e-01\n",
       "174     348 -2.079117e-01\n",
       "175     350 -1.736482e-01\n",
       "176     352 -1.391731e-01\n",
       "177     354 -1.045285e-01\n",
       "178     356 -6.975647e-02\n",
       "179     358 -3.489950e-02\n",
       "180     360 -2.450297e-16\n",
       "\n",
       "[181 rows x 2 columns]"
      ]
     },
     "execution_count": 64,
     "metadata": {},
     "output_type": "execute_result"
    }
   ],
   "source": [
    "xls"
   ]
  },
  {
   "cell_type": "code",
   "execution_count": 66,
   "metadata": {},
   "outputs": [
    {
     "data": {
      "text/plain": [
       "<matplotlib.axes._subplots.AxesSubplot at 0x180eeeed10>"
      ]
     },
     "execution_count": 66,
     "metadata": {},
     "output_type": "execute_result"
    },
    {
     "data": {
      "image/png": "[encoded data removed]",
      "text/plain": [
       "<matplotlib.figure.Figure at 0x180ef038d0>"
      ]
     },
     "metadata": {},
     "output_type": "display_data"
    }
   ],
   "source": [
    "# Plot; pandas.DataFrame.plot\n",
    "xls.plot(x=\"degree\", y=\"Sine\")"
   ]
  },
  {
   "cell_type": "code",
   "execution_count": 90,
   "metadata": {
    "scrolled": false
   },
   "outputs": [
    {
     "name": "stdout",
     "output_type": "stream",
     "text": [
      "[[0.         0.        ]\n",
      " [2.         0.0348995 ]\n",
      " [4.         0.06975647]\n",
      " [6.         0.10452846]\n",
      " [8.         0.1391731 ]] <type 'numpy.ndarray'>\n"
     ]
    }
   ],
   "source": [
    "# pandas.DataFrame から numpy.ndarray に変換する\n",
    "\n",
    "ret = xls.as_matrix()\n",
    "print ret[:5], type(ret)  # たくさん出るので, 5番目の要素まで表示\n"
   ]
  },
  {
   "cell_type": "markdown",
   "metadata": {},
   "source": [
    "## Plot by Matplotlib module"
   ]
  },
  {
   "cell_type": "code",
   "execution_count": 96,
   "metadata": {},
   "outputs": [
    {
     "data": {
      "image/png": "[encoded data removed]",
      "text/plain": [
       "<matplotlib.figure.Figure at 0x180fe76750>"
      ]
     },
     "metadata": {},
     "output_type": "display_data"
    }
   ],
   "source": [
    "# 一応, もう一度読み込みます\n",
    "\n",
    "xls = pandas.read_excel(\"sine.xlsx\")  # pandas.DataFrame 型でxls 変数に代入される\n",
    "ret = xls.as_matrix()\n",
    "\n",
    "# ここから本文です\n",
    "fig, ax = matplotlib.pyplot.subplots(1, 1, # 1つの画面に複数個グラフを書く.ここでは1x1なので, 1, 1; 横, 縦\n",
    "                                     figsize=(8, 3),  # 画面の大きさ\n",
    "                                    )\n",
    "# 以下, ax.plot以降のカッコ内は, 1行で書いてもいいです. コメント記入のために複数行になっています\n",
    "ax.plot(ret[:, 0],  # X\n",
    "        ret[:, 1],  # Y\n",
    "        linestyle=\"-\",  # line, maker style\n",
    "        label=\"Sine\",  # 判例\n",
    "       )\n",
    "ax.legend(loc=0)  # 判例; loc: 場所(0: おまかせ, 1: ??, 2:??)\n",
    "ax.set_xlabel(\"degree\")\n",
    "ax.set_ylabel(\"Amp\")\n",
    "ax.grid(True)\n"
   ]
  },
  {
   "cell_type": "markdown",
   "metadata": {},
   "source": [
    "## 応用: フィルタ処理\n",
    "\n",
    "ノイズのかかったsignal に対して, kernel size:5 の平滑化フィルタを適応して, スムージングします"
   ]
  },
  {
   "cell_type": "code",
   "execution_count": 114,
   "metadata": {},
   "outputs": [
    {
     "data": {
      "image/png": "[encoded data removed]",
      "text/plain": [
       "<matplotlib.figure.Figure at 0x1810adfad0>"
      ]
     },
     "metadata": {},
     "output_type": "display_data"
    }
   ],
   "source": [
    "sig0 = numpy.sin(numpy.arange(0, 2*numpy.pi, 0.01))  # 0 -- 6.28(2*pi) の範囲で, 0.01 radian 毎の配列\n",
    "sig = sig0 + numpy.random.randn(len(sig))/10.  # 適当にノイズを与えます\n",
    "# len()は配列の数を数える関数です.\n",
    "\n",
    "n = 10\n",
    "mask = numpy.ones(n)/numpy.float32(n)  # フィルタの定義\n",
    "\n",
    "# 畳み込み; convolution\n",
    "smooth = numpy.convolve(sig, mask, \"same\")\n",
    "\n",
    "\n",
    "fig, ax = matplotlib.pyplot.subplots(2, 1, # 1つの画面に複数個グラフを書く.ここでは1x1なので, 1, 1; 縦, 横\n",
    "                                     figsize=(8, 6),  # 画面の大きさ \"(横, 縦)\"\n",
    "                                    )\n",
    "\n",
    "ax[0].plot(sig, \"r-\", label=\"signal + noise\")  # \"r-\" は 赤(r)の 線(-)\n",
    "ax[0].plot(sig0, \"k--\", label=\"signal\")     # \"k--\" は 黒(k)の 点線(--)\n",
    "ax[1].plot(smooth, label=\"smoothing\")\n",
    "\n",
    "set_legend = [ax[i].legend(loc=0) for i in (0, 1)]\n",
    "set_grid = [ax[i].grid(True) for i in (0, 1)]\n"
   ]
  },
  {
   "cell_type": "code",
   "execution_count": null,
   "metadata": {},
   "outputs": [],
   "source": []
  },
  {
   "cell_type": "markdown",
   "metadata": {},
   "source": [
    "# 応用. Chainerを使ってNNしよう.\n",
    "\n",
    "chainer では, 学習を実行するためにまず以下の項目を記述する.\n",
    "\n",
    "- モデルの定義\n",
    "- データの準備\n",
    "- 訓練パラメータを設定する\n",
    "    - 最適化方法\n",
    "- 訓練を実行する\n"
   ]
  },
  {
   "cell_type": "code",
   "execution_count": 116,
   "metadata": {},
   "outputs": [],
   "source": [
    "import chainer\n",
    "import chainer.functions as F\n",
    "import chainer.links as L"
   ]
  },
  {
   "cell_type": "markdown",
   "metadata": {},
   "source": [
    "## ネットワークモデルの記述\n",
    "\n",
    "chainer ではネットワークの記述の仕方がいくつかありますが、ここではchainer.Chain クラスに基づいて記述する.(尚, ここで定義したモデルは, スクリプト群のmodels.py にて定義されています.)"
   ]
  },
  {
   "cell_type": "code",
   "execution_count": 146,
   "metadata": {},
   "outputs": [],
   "source": [
    "class mlp(chainer.Chain):  # クラスの名前\n",
    "    \"\"\"\n",
    "    単純な4層パーセプトロン\n",
    "    \"\"\"\n",
    "\n",
    "    def __init__(self, gpu_enable=0,):\n",
    "        numpy.random.seed(0)\n",
    "\n",
    "        self.gpu_enable = gpu_enable\n",
    "\n",
    "        super(mlp, self).__init__(\n",
    "            fc1=L.Linear(None, 1000),  # 入力層; input データ数 --> 1000 units に入力されます\n",
    "            fc2=L.Linear(1000, 1000),  # 隠れ層; 1000 units --> 1000 units に入力されます\n",
    "            fc3=L.Linear(1000, 1),   # 出力層; 1000 units --> 1 units (回帰は1, 分類は >2)\n",
    "        )\n",
    "\n",
    "    def __call__(self, x, y):\n",
    "        h = self.forward(x)\n",
    "        if self.gpu_enable:  # GPU を使うかの判断\n",
    "            y = chainer.cuda.to_gpu(y)  # numpy.array --> cupy.array\n",
    "        loss = F.mean_squared_error(h, y)  # 損失関数; Mean Squared Error\n",
    "        score = F.r2_score(h, y)           # 相関係数; R2 (よくあるやつです)\n",
    "        chainer.reporter.report({'loss': loss, \"score\": score}, self)  # レポート機能\n",
    "        return loss\n",
    "\n",
    "    def forward(self, x):\n",
    "        if self.gpu_enable:\n",
    "            x = chainer.cuda.to_gpu(x)\n",
    "        h1 = F.sigmoid(self.fc1(x))\n",
    "        h2 = F.sigmoid(self.fc2(h1))\n",
    "        ret = F.sigmoid(h2)\n",
    "\n",
    "        return ret, h1, h2  # "
   ]
  },
  {
   "cell_type": "code",
   "execution_count": 147,
   "metadata": {},
   "outputs": [],
   "source": [
    "model = mlp()"
   ]
  },
  {
   "cell_type": "code",
   "execution_count": 149,
   "metadata": {},
   "outputs": [
    {
     "data": {
      "text/plain": [
       "(variable([[0.5748815 , 0.6290706 , 0.5864761 , ..., 0.5768043 ,\n",
       "            0.6378289 , 0.6067875 ],\n",
       "           [0.57957244, 0.6246061 , 0.58825946, ..., 0.6077896 ,\n",
       "            0.60101384, 0.63209057],\n",
       "           [0.5869597 , 0.6325131 , 0.5748006 , ..., 0.5961286 ,\n",
       "            0.6176129 , 0.6076712 ],\n",
       "           ...,\n",
       "           [0.57751906, 0.6325836 , 0.57790244, ..., 0.58406985,\n",
       "            0.6134861 , 0.6101234 ],\n",
       "           [0.5711236 , 0.63667357, 0.5662924 , ..., 0.60816187,\n",
       "            0.59075755, 0.60596216],\n",
       "           [0.60159004, 0.63788486, 0.5888842 , ..., 0.60391337,\n",
       "            0.6308678 , 0.6144665 ]]),\n",
       " variable([[0.24065384, 0.35994297, 0.4027059 , ..., 0.12923986,\n",
       "            0.39466906, 0.30726823],\n",
       "           [0.58377767, 0.35380912, 0.5457596 , ..., 0.309112  ,\n",
       "            0.75128883, 0.30368033],\n",
       "           [0.5431721 , 0.26808667, 0.28151518, ..., 0.45673537,\n",
       "            0.4736187 , 0.58732724],\n",
       "           ...,\n",
       "           [0.3879303 , 0.70389736, 0.38447535, ..., 0.45011157,\n",
       "            0.55092716, 0.18921286],\n",
       "           [0.27439448, 0.53101164, 0.49167657, ..., 0.67651176,\n",
       "            0.6680167 , 0.13510084],\n",
       "           [0.16416338, 0.25104368, 0.80771124, ..., 0.43581522,\n",
       "            0.68534625, 0.27560508]]),\n",
       " variable([[0.30179602, 0.5282317 , 0.3494166 , ..., 0.30966824,\n",
       "            0.5659533 , 0.43382853],\n",
       "           [0.32101837, 0.5091452 , 0.35677484, ..., 0.4380302 ,\n",
       "            0.40969127, 0.54119587],\n",
       "           [0.35141096, 0.54301333, 0.3014649 , ..., 0.38935992,\n",
       "            0.47942853, 0.4375338 ],\n",
       "           ...,\n",
       "           [0.3125971 , 0.54331666, 0.31416848, ..., 0.33950317,\n",
       "            0.46198988, 0.4478309 ],\n",
       "           [0.28643686, 0.5609555 , 0.26674008, ..., 0.43959218,\n",
       "            0.36709782, 0.43037054],\n",
       "           [0.41209477, 0.5661954 , 0.3593545 , ..., 0.4217977 ,\n",
       "            0.5359414 , 0.46612623]]))"
      ]
     },
     "execution_count": 149,
     "metadata": {},
     "output_type": "execute_result"
    }
   ],
   "source": [
    "tmp = numpy.random.randn(1713*10).reshape(1713, -1).astype(numpy.float32)\n",
    "model.forward(tmp)"
   ]
  },
  {
   "cell_type": "code",
   "execution_count": null,
   "metadata": {},
   "outputs": [],
   "source": []
  }
 ],
 "metadata": {
  "kernelspec": {
   "display_name": "Python 3",
   "language": "python",
   "name": "python3"
  },
  "language_info": {
   "codemirror_mode": {
    "name": "ipython",
    "version": 3
   },
   "file_extension": ".py",
   "mimetype": "text/x-python",
   "name": "python",
   "nbconvert_exporter": "python",
   "pygments_lexer": "ipython3",
   "version": "3.7.4"
  },
  "latex_envs": {
   "bibliofile": "biblio.bib",
   "cite_by": "apalike",
   "current_citInitial": 1,
   "eqLabelWithNumbers": true,
   "eqNumInitial": 0
  },
  "nav_menu": {},
  "toc": {
   "navigate_menu": true,
   "number_sections": true,
   "sideBar": true,
   "threshold": 6,
   "toc_cell": true,
   "toc_section_display": "block",
   "toc_window_display": true
  }
 },
 "nbformat": 4,
 "nbformat_minor": 2
}
